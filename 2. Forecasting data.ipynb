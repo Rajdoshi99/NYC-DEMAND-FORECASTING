{
 "cells": [
  {
   "cell_type": "code",
   "execution_count": 1,
   "id": "31e36bfe",
   "metadata": {
    "ExecuteTime": {
     "end_time": "2022-05-24T15:29:58.248746Z",
     "start_time": "2022-05-24T15:29:58.201113Z"
    },
    "colab": {
     "base_uri": "https://localhost:8080/"
    },
    "executionInfo": {
     "elapsed": 3117,
     "status": "ok",
     "timestamp": 1668970447122,
     "user": {
      "displayName": "Parth Bhatt",
      "userId": "06001564206370072948"
     },
     "user_tz": 300
    },
    "id": "31e36bfe",
    "outputId": "53dcbe13-dbdf-4c5b-aa51-d1cbbf237a8d"
   },
   "outputs": [],
   "source": [
    "import os\n",
    "import gc\n",
    "import warnings\n",
    "\n",
    "import itertools\n",
    "import math\n",
    "import random\n",
    "\n",
    "import pandas as pd\n",
    "from pandas import Series\n",
    "import numpy as np\n",
    "\n",
    "from sklearn import linear_model\n",
    "from sklearn.ensemble import RandomForestRegressor\n",
    "from sklearn.linear_model import Lasso, LassoCV, ElasticNetCV,LinearRegression\n",
    "from sklearn.preprocessing import StandardScaler, LabelEncoder, MinMaxScaler\n",
    "from sklearn.feature_selection import SelectFromModel, RFE, RFECV\n",
    "from sklearn.metrics import mean_squared_error, explained_variance_score, r2_score\n",
    "from sklearn.model_selection import GridSearchCV\n",
    "from sklearn.svm import SVR\n",
    "\n",
    "from scipy.stats.mstats import zscore\n",
    "\n",
    "from pyod.models.abod import ABOD\n",
    "from pyod.models.knn import KNN\n",
    "\n",
    "from bayes_opt import BayesianOptimization\n",
    "\n",
    "import pmdarima as pm\n",
    "import statsmodels.api as sm\n",
    "from statsmodels.tsa.seasonal import seasonal_decompose\n",
    "from statsmodels.graphics.tsaplots import plot_acf, plot_pacf\n",
    "from statsmodels.tsa.vector_ar.var_model import VAR\n",
    "from statsmodels.tsa.statespace.sarimax import SARIMAX\n",
    "from statsmodels.tsa.stattools import grangercausalitytests\n",
    "from statsmodels.tsa.arima_model import ARIMA\n",
    "from statsmodels.tsa.holtwinters import ExponentialSmoothing, SimpleExpSmoothing \n",
    "from statsmodels.tsa.statespace.sarimax import SARIMAX\n",
    "from statsmodels.tsa.statespace.varmax import VARMAX\n",
    "from statsmodels.tsa.stattools import adfuller\n",
    "from statsmodels.tsa.vector_ar.vecm import *\n",
    "\n",
    "import xgboost as xgb\n",
    "\n",
    "from lightgbm import LGBMRegressor\n",
    "\n",
    "import keras\n",
    "from keras.layers import Dropout, Dense, LSTM\n",
    "from keras.models import Sequential\n",
    "\n",
    "import plotly.express as px\n",
    "import plotly.graph_objects as go\n",
    "from plotly.subplots import make_subplots\n",
    "\n",
    "import joblib\n",
    "\n",
    "%matplotlib inline\n",
    "warnings.filterwarnings('ignore')"
   ]
  },
  {
   "cell_type": "code",
   "execution_count": 2,
   "id": "bb69ce6d",
   "metadata": {
    "ExecuteTime": {
     "end_time": "2022-05-23T14:25:04.331725Z",
     "start_time": "2022-05-23T14:25:04.316494Z"
    },
    "executionInfo": {
     "elapsed": 135,
     "status": "ok",
     "timestamp": 1668970451334,
     "user": {
      "displayName": "Parth Bhatt",
      "userId": "06001564206370072948"
     },
     "user_tz": 300
    },
    "id": "bb69ce6d"
   },
   "outputs": [],
   "source": [
    "# Function to Downcast in order to save memory\n",
    "def downcast(df):\n",
    "    cols = df.dtypes.index.tolist()\n",
    "    types = df.dtypes.values.tolist()\n",
    "    for i,t in enumerate(types):\n",
    "        if 'int' in str(t):\n",
    "            if df[cols[i]].min() > np.iinfo(np.int8).min and df[cols[i]].max() < np.iinfo(np.int8).max:\n",
    "                df[cols[i]] = df[cols[i]].astype(np.int8)\n",
    "            elif df[cols[i]].min() > np.iinfo(np.int16).min and df[cols[i]].max() < np.iinfo(np.int16).max:\n",
    "                df[cols[i]] = df[cols[i]].astype(np.int16)\n",
    "            elif df[cols[i]].min() > np.iinfo(np.int32).min and df[cols[i]].max() < np.iinfo(np.int32).max:\n",
    "                df[cols[i]] = df[cols[i]].astype(np.int32)\n",
    "            else:\n",
    "                df[cols[i]] = df[cols[i]].astype(np.int64)\n",
    "        elif 'float' in str(t):\n",
    "            if df[cols[i]].min() > np.finfo(np.float16).min and df[cols[i]].max() < np.finfo(np.float16).max:\n",
    "                df[cols[i]] = df[cols[i]].astype(np.float16)\n",
    "            elif df[cols[i]].min() > np.finfo(np.float32).min and df[cols[i]].max() < np.finfo(np.float32).max:\n",
    "                df[cols[i]] = df[cols[i]].astype(np.float32)\n",
    "            else:\n",
    "                df[cols[i]] = df[cols[i]].astype(np.float64)\n",
    "        elif t == np.object:\n",
    "            if cols[i] == 'date':\n",
    "                df[cols[i]] = pd.to_datetime(df[cols[i]], format='%Y-%m-%d')\n",
    "            else:\n",
    "                df[cols[i]] = df[cols[i]].astype('category')\n",
    "    return df"
   ]
  },
  {
   "cell_type": "code",
   "execution_count": 3,
   "id": "5f399664",
   "metadata": {
    "ExecuteTime": {
     "end_time": "2022-05-23T14:25:04.363033Z",
     "start_time": "2022-05-23T14:25:04.349216Z"
    },
    "executionInfo": {
     "elapsed": 124,
     "status": "ok",
     "timestamp": 1668970453724,
     "user": {
      "displayName": "Parth Bhatt",
      "userId": "06001564206370072948"
     },
     "user_tz": 300
    },
    "id": "5f399664"
   },
   "outputs": [],
   "source": [
    "def remove_collinear_features(df_model, target_var, threshold, verbose=True):\n",
    "    '''\n",
    "    Objective:\n",
    "        Remove collinear features in a dataframe with a correlation coefficient\n",
    "        greater than the threshold and which have the least correlation with the \n",
    "        target (dependent) variable. Removing collinear features can help a model \n",
    "        to generalize and improves the interpretability of the model.\n",
    "\n",
    "    Inputs: \n",
    "        df_model: features dataframe\n",
    "        target_var: target (dependent) variable\n",
    "        threshold: features with correlations greater than this value are removed\n",
    "        verbose: set to \"True\" for the log printing\n",
    "\n",
    "    Output: \n",
    "        dataframe that contains only the non-highly-collinear features\n",
    "    '''\n",
    "\n",
    "    # Calculate the correlation matrix\n",
    "    corr_matrix = df_model.drop(target_var, 1).corr()\n",
    "    iters = range(len(corr_matrix.columns) - 1)\n",
    "    drop_cols = []\n",
    "    dropped_feature = \"\"\n",
    "\n",
    "    # Iterate through the correlation matrix and compare correlations\n",
    "    for i in iters:\n",
    "        for j in range(i+1): \n",
    "            item = corr_matrix.iloc[j:(j+1), (i+1):(i+2)]\n",
    "            col = item.columns\n",
    "            row = item.index\n",
    "            val = abs(item.values)\n",
    "\n",
    "            # If correlation exceeds the threshold\n",
    "            if val >= threshold:\n",
    "                # Print the correlated features and the correlation value\n",
    "                if verbose:\n",
    "                    print(col.values[0], \"|\", row.values[0], \"|\", round(val[0][0], 2))\n",
    "                col_value_corr = df_model[col.values[0]].corr(df_model[target_var])\n",
    "                row_value_corr = df_model[row.values[0]].corr(df_model[target_var])\n",
    "                if verbose:\n",
    "                    print(\"{}: {}\".format(col.values[0], np.round(col_value_corr, 3)))\n",
    "                    print(\"{}: {}\".format(row.values[0], np.round(row_value_corr, 3)))\n",
    "                if col_value_corr < row_value_corr:\n",
    "                    drop_cols.append(col.values[0])\n",
    "                    dropped_feature = \"dropped: \" + col.values[0]\n",
    "                else:\n",
    "                    drop_cols.append(row.values[0])\n",
    "                    dropped_feature = \"dropped: \" + row.values[0]\n",
    "                if verbose:\n",
    "                    print(dropped_feature)\n",
    "                    print(\"-----------------------------------------------------------------------------\")\n",
    "\n",
    "    # Drop one of each pair of correlated columns\n",
    "    drops = set(drop_cols)\n",
    "    retained = [x for x in df_model.columns if x not in drops]\n",
    "    #df_model = df_model.drop(columns=drops)\n",
    "\n",
    "    #print(\"dropped columns: \")\n",
    "    #print(list(drops))\n",
    "    #print(\"-----------------------------------------------------------------------------\")\n",
    "    #print(\"used columns: \")\n",
    "    #print(df_model.columns.tolist())\n",
    "\n",
    "    return df_model[retained]"
   ]
  },
  {
   "cell_type": "code",
   "execution_count": 4,
   "id": "25b909af",
   "metadata": {
    "ExecuteTime": {
     "end_time": "2022-05-23T14:27:43.072243Z",
     "start_time": "2022-05-23T14:27:43.063259Z"
    },
    "executionInfo": {
     "elapsed": 127,
     "status": "ok",
     "timestamp": 1668970456721,
     "user": {
      "displayName": "Parth Bhatt",
      "userId": "06001564206370072948"
     },
     "user_tz": 300
    },
    "id": "25b909af"
   },
   "outputs": [],
   "source": [
    "# Function to check stationarity\n",
    "def adfuller_test(series, signif=0.05, name='', verbose=True):\n",
    "    \"\"\"Perform ADFuller to test for Stationarity of given series and print report\"\"\"\n",
    "    r = adfuller(series, autolag='AIC')\n",
    "    output = {'test_statistic':round(r[0], 4), 'pvalue':round(r[1], 4), 'n_lags':round(r[2], 4), 'n_obs':r[3]}\n",
    "    p_value = output['pvalue'] \n",
    "    def adjust(val, length= 6): return str(val).ljust(length)\n",
    "    \n",
    "    if verbose:\n",
    "        # Print Summary\n",
    "        print(f'    Augmented Dickey-Fuller Test on \"{name}\"', \"\\n   \", '-'*47)\n",
    "        print(f' Null Hypothesis: Data has unit root. Non-Stationary.')\n",
    "        print(f' Significance Level    = {signif}')\n",
    "        print(f' Test Statistic        = {output[\"test_statistic\"]}')\n",
    "        print(f' No. Lags Chosen       = {output[\"n_lags\"]}')\n",
    "\n",
    "        for key,val in r[4].items():\n",
    "            print(f' Critical value {adjust(key)} = {round(val, 3)}')\n",
    "\n",
    "    if p_value <= signif:\n",
    "        if verbose:\n",
    "            print(f\" => P-Value = {p_value}. Rejecting Null Hypothesis.\")\n",
    "            print(f\" => Series is Stationary.\")\n",
    "        return 1\n",
    "    else:\n",
    "        if verbose:\n",
    "            print(f\" => P-Value = {p_value}. Weak evidence to reject the Null Hypothesis.\")\n",
    "            print(f\" => Series is Non-Stationary.\") \n",
    "        return 0"
   ]
  },
  {
   "cell_type": "code",
   "execution_count": 5,
   "id": "8c75b5c1",
   "metadata": {
    "ExecuteTime": {
     "end_time": "2022-05-23T14:25:04.394652Z",
     "start_time": "2022-05-23T14:25:04.380657Z"
    },
    "executionInfo": {
     "elapsed": 121,
     "status": "ok",
     "timestamp": 1668970458523,
     "user": {
      "displayName": "Parth Bhatt",
      "userId": "06001564206370072948"
     },
     "user_tz": 300
    },
    "id": "8c75b5c1"
   },
   "outputs": [],
   "source": [
    "# Outlier Detection using Inter Quartile Range\n",
    "def out_iqr(s, k=1.5, return_thresholds=False):\n",
    "    # calculate interquartile range\n",
    "    q25, q75 = np.percentile(s, 25), np.percentile(s, 75)\n",
    "    iqr = q75 - q25\n",
    "    # calculate the outlier cutoff\n",
    "    cut_off = iqr * k\n",
    "    lower, upper = q25 - cut_off, q75 + cut_off\n",
    "    if return_thresholds:\n",
    "        return lower, upper\n",
    "    else: # identify outliers\n",
    "        return [True if x < lower or x > upper else False for x in s]"
   ]
  },
  {
   "cell_type": "code",
   "execution_count": 6,
   "id": "b314382e",
   "metadata": {
    "ExecuteTime": {
     "end_time": "2022-05-24T13:59:27.688459Z",
     "start_time": "2022-05-24T13:59:27.656450Z"
    },
    "executionInfo": {
     "elapsed": 2789,
     "status": "ok",
     "timestamp": 1668970587459,
     "user": {
      "displayName": "Parth Bhatt",
      "userId": "06001564206370072948"
     },
     "user_tz": 300
    },
    "id": "b314382e"
   },
   "outputs": [],
   "source": [
    "df = pd.read_csv('nyc_hourly_data_2022.csv')"
   ]
  },
  {
   "cell_type": "code",
   "execution_count": 7,
   "id": "23637ccc",
   "metadata": {
    "executionInfo": {
     "elapsed": 1044,
     "status": "ok",
     "timestamp": 1668970592380,
     "user": {
      "displayName": "Parth Bhatt",
      "userId": "06001564206370072948"
     },
     "user_tz": 300
    },
    "id": "23637ccc"
   },
   "outputs": [],
   "source": [
    "df['pickup_time']=pd.to_datetime(df['trip_date']+' '+df['pickup_hour'].astype(str) +':00:00')\n",
    "df.drop(['trip_date', 'pickup_hour'], axis=1, inplace=True)"
   ]
  },
  {
   "cell_type": "code",
   "execution_count": 8,
   "id": "dbeb8108",
   "metadata": {
    "executionInfo": {
     "elapsed": 120,
     "status": "ok",
     "timestamp": 1668970593155,
     "user": {
      "displayName": "Parth Bhatt",
      "userId": "06001564206370072948"
     },
     "user_tz": 300
    },
    "id": "dbeb8108"
   },
   "outputs": [],
   "source": [
    "df_132=df[df['pickup_LocationID']==132]"
   ]
  },
  {
   "cell_type": "code",
   "execution_count": 9,
   "id": "849636bf",
   "metadata": {
    "ExecuteTime": {
     "end_time": "2022-05-23T14:29:25.956214Z",
     "start_time": "2022-05-23T14:29:25.924219Z"
    },
    "colab": {
     "base_uri": "https://localhost:8080/"
    },
    "executionInfo": {
     "elapsed": 123,
     "status": "ok",
     "timestamp": 1668970594334,
     "user": {
      "displayName": "Parth Bhatt",
      "userId": "06001564206370072948"
     },
     "user_tz": 300
    },
    "id": "849636bf",
    "outputId": "51c1de03-7d85-412f-970e-df533db43152",
    "scrolled": false
   },
   "outputs": [
    {
     "name": "stdout",
     "output_type": "stream",
     "text": [
      "total_amount | tolls_amount | 0.83\n",
      "total_amount: 0.619\n",
      "tolls_amount: 0.472\n",
      "dropped: tolls_amount\n",
      "-----------------------------------------------------------------------------\n",
      "fare_amount | tolls_amount | 0.81\n",
      "fare_amount: 0.545\n",
      "tolls_amount: 0.472\n",
      "dropped: tolls_amount\n",
      "-----------------------------------------------------------------------------\n",
      "fare_amount | total_amount | 0.96\n",
      "fare_amount: 0.545\n",
      "total_amount: 0.619\n",
      "dropped: fare_amount\n",
      "-----------------------------------------------------------------------------\n",
      "trip_distance | total_amount | 0.92\n",
      "trip_distance: 0.512\n",
      "total_amount: 0.619\n",
      "dropped: trip_distance\n",
      "-----------------------------------------------------------------------------\n",
      "trip_distance | fare_amount | 0.96\n",
      "trip_distance: 0.512\n",
      "fare_amount: 0.545\n",
      "dropped: trip_distance\n",
      "-----------------------------------------------------------------------------\n",
      "congestion_surcharge | tolls_amount | 0.84\n",
      "congestion_surcharge: 0.6\n",
      "tolls_amount: 0.472\n",
      "dropped: tolls_amount\n",
      "-----------------------------------------------------------------------------\n",
      "congestion_surcharge | total_amount | 0.86\n",
      "congestion_surcharge: 0.6\n",
      "total_amount: 0.619\n",
      "dropped: congestion_surcharge\n",
      "-----------------------------------------------------------------------------\n",
      "congestion_surcharge | fare_amount | 0.82\n",
      "congestion_surcharge: 0.6\n",
      "fare_amount: 0.545\n",
      "dropped: fare_amount\n",
      "-----------------------------------------------------------------------------\n"
     ]
    }
   ],
   "source": [
    "df2=remove_collinear_features(df_132, \"trips\", 0.8, verbose=True)"
   ]
  },
  {
   "cell_type": "code",
   "execution_count": 10,
   "id": "481c73ed",
   "metadata": {
    "ExecuteTime": {
     "end_time": "2022-05-24T13:59:42.598863Z",
     "start_time": "2022-05-24T13:59:42.572867Z"
    },
    "executionInfo": {
     "elapsed": 119,
     "status": "ok",
     "timestamp": 1668970653934,
     "user": {
      "displayName": "Parth Bhatt",
      "userId": "06001564206370072948"
     },
     "user_tz": 300
    },
    "id": "481c73ed"
   },
   "outputs": [],
   "source": [
    "# Use linear interpolation to fill up nulls\n",
    "df2 = df2.interpolate(method='ffill', axis=0).ffill().bfill()"
   ]
  },
  {
   "cell_type": "code",
   "execution_count": 11,
   "id": "66beb7f8",
   "metadata": {
    "executionInfo": {
     "elapsed": 154,
     "status": "ok",
     "timestamp": 1668970656838,
     "user": {
      "displayName": "Parth Bhatt",
      "userId": "06001564206370072948"
     },
     "user_tz": 300
    },
    "id": "66beb7f8"
   },
   "outputs": [],
   "source": [
    "df_series=df2.set_index('pickup_time')[['trips', 'total_amount', 'airport_fee', 'trip_duration', 'dropoff_Borough', 'dropoff_Zone', 'RatecodeID', 'payment_type', 'passenger_count']]"
   ]
  },
  {
   "cell_type": "code",
   "execution_count": 12,
   "id": "560893c6",
   "metadata": {
    "colab": {
     "base_uri": "https://localhost:8080/",
     "height": 238
    },
    "executionInfo": {
     "elapsed": 118,
     "status": "ok",
     "timestamp": 1668970658630,
     "user": {
      "displayName": "Parth Bhatt",
      "userId": "06001564206370072948"
     },
     "user_tz": 300
    },
    "id": "560893c6",
    "outputId": "7e812c1f-f463-4af4-f54e-6e3db75dbbbe"
   },
   "outputs": [
    {
     "data": {
      "text/html": [
       "<div>\n",
       "<style scoped>\n",
       "    .dataframe tbody tr th:only-of-type {\n",
       "        vertical-align: middle;\n",
       "    }\n",
       "\n",
       "    .dataframe tbody tr th {\n",
       "        vertical-align: top;\n",
       "    }\n",
       "\n",
       "    .dataframe thead th {\n",
       "        text-align: right;\n",
       "    }\n",
       "</style>\n",
       "<table border=\"1\" class=\"dataframe\">\n",
       "  <thead>\n",
       "    <tr style=\"text-align: right;\">\n",
       "      <th></th>\n",
       "      <th>trips</th>\n",
       "      <th>total_amount</th>\n",
       "      <th>airport_fee</th>\n",
       "      <th>trip_duration</th>\n",
       "      <th>dropoff_Borough</th>\n",
       "      <th>dropoff_Zone</th>\n",
       "      <th>RatecodeID</th>\n",
       "      <th>payment_type</th>\n",
       "      <th>passenger_count</th>\n",
       "    </tr>\n",
       "    <tr>\n",
       "      <th>pickup_time</th>\n",
       "      <th></th>\n",
       "      <th></th>\n",
       "      <th></th>\n",
       "      <th></th>\n",
       "      <th></th>\n",
       "      <th></th>\n",
       "      <th></th>\n",
       "      <th></th>\n",
       "      <th></th>\n",
       "    </tr>\n",
       "  </thead>\n",
       "  <tbody>\n",
       "    <tr>\n",
       "      <th>2022-01-01 00:00:00</th>\n",
       "      <td>167</td>\n",
       "      <td>53.578204</td>\n",
       "      <td>1.220060</td>\n",
       "      <td>1537.964072</td>\n",
       "      <td>1</td>\n",
       "      <td>37</td>\n",
       "      <td>1.0</td>\n",
       "      <td>1</td>\n",
       "      <td>1.0</td>\n",
       "    </tr>\n",
       "    <tr>\n",
       "      <th>2022-01-01 01:00:00</th>\n",
       "      <td>103</td>\n",
       "      <td>54.111359</td>\n",
       "      <td>1.189320</td>\n",
       "      <td>1508.601942</td>\n",
       "      <td>2</td>\n",
       "      <td>30</td>\n",
       "      <td>1.0</td>\n",
       "      <td>1</td>\n",
       "      <td>1.0</td>\n",
       "    </tr>\n",
       "    <tr>\n",
       "      <th>2022-01-01 02:00:00</th>\n",
       "      <td>46</td>\n",
       "      <td>46.714783</td>\n",
       "      <td>1.222826</td>\n",
       "      <td>1402.304348</td>\n",
       "      <td>1</td>\n",
       "      <td>4</td>\n",
       "      <td>1.0</td>\n",
       "      <td>1</td>\n",
       "      <td>1.0</td>\n",
       "    </tr>\n",
       "    <tr>\n",
       "      <th>2022-01-01 03:00:00</th>\n",
       "      <td>34</td>\n",
       "      <td>46.470294</td>\n",
       "      <td>1.213235</td>\n",
       "      <td>1432.529412</td>\n",
       "      <td>1</td>\n",
       "      <td>109</td>\n",
       "      <td>1.0</td>\n",
       "      <td>2</td>\n",
       "      <td>1.0</td>\n",
       "    </tr>\n",
       "    <tr>\n",
       "      <th>2022-01-01 04:00:00</th>\n",
       "      <td>14</td>\n",
       "      <td>51.236429</td>\n",
       "      <td>0.982143</td>\n",
       "      <td>1479.142857</td>\n",
       "      <td>0</td>\n",
       "      <td>36</td>\n",
       "      <td>1.0</td>\n",
       "      <td>2</td>\n",
       "      <td>1.0</td>\n",
       "    </tr>\n",
       "  </tbody>\n",
       "</table>\n",
       "</div>"
      ],
      "text/plain": [
       "                     trips  total_amount  airport_fee  trip_duration  \\\n",
       "pickup_time                                                            \n",
       "2022-01-01 00:00:00    167     53.578204     1.220060    1537.964072   \n",
       "2022-01-01 01:00:00    103     54.111359     1.189320    1508.601942   \n",
       "2022-01-01 02:00:00     46     46.714783     1.222826    1402.304348   \n",
       "2022-01-01 03:00:00     34     46.470294     1.213235    1432.529412   \n",
       "2022-01-01 04:00:00     14     51.236429     0.982143    1479.142857   \n",
       "\n",
       "                     dropoff_Borough  dropoff_Zone  RatecodeID  payment_type  \\\n",
       "pickup_time                                                                    \n",
       "2022-01-01 00:00:00                1            37         1.0             1   \n",
       "2022-01-01 01:00:00                2            30         1.0             1   \n",
       "2022-01-01 02:00:00                1             4         1.0             1   \n",
       "2022-01-01 03:00:00                1           109         1.0             2   \n",
       "2022-01-01 04:00:00                0            36         1.0             2   \n",
       "\n",
       "                     passenger_count  \n",
       "pickup_time                           \n",
       "2022-01-01 00:00:00              1.0  \n",
       "2022-01-01 01:00:00              1.0  \n",
       "2022-01-01 02:00:00              1.0  \n",
       "2022-01-01 03:00:00              1.0  \n",
       "2022-01-01 04:00:00              1.0  "
      ]
     },
     "execution_count": 12,
     "metadata": {},
     "output_type": "execute_result"
    }
   ],
   "source": [
    "le = LabelEncoder()\n",
    "cols = ['dropoff_Borough', 'dropoff_Zone']\n",
    "for col in ['dropoff_Borough', 'dropoff_Zone']:\n",
    "    df_series[col] = le.fit_transform(df_series[col])\n",
    "df_series.head()"
   ]
  },
  {
   "cell_type": "code",
   "execution_count": 13,
   "id": "3e5c42c1",
   "metadata": {
    "ExecuteTime": {
     "end_time": "2022-05-23T14:29:55.231233Z",
     "start_time": "2022-05-23T14:29:55.213234Z"
    },
    "colab": {
     "base_uri": "https://localhost:8080/",
     "height": 238
    },
    "executionInfo": {
     "elapsed": 141,
     "status": "ok",
     "timestamp": 1668970664813,
     "user": {
      "displayName": "Parth Bhatt",
      "userId": "06001564206370072948"
     },
     "user_tz": 300
    },
    "id": "3e5c42c1",
    "outputId": "3de1c096-6260-4eae-cc8e-1930a739c1ae"
   },
   "outputs": [
    {
     "data": {
      "text/html": [
       "<div>\n",
       "<style scoped>\n",
       "    .dataframe tbody tr th:only-of-type {\n",
       "        vertical-align: middle;\n",
       "    }\n",
       "\n",
       "    .dataframe tbody tr th {\n",
       "        vertical-align: top;\n",
       "    }\n",
       "\n",
       "    .dataframe thead th {\n",
       "        text-align: right;\n",
       "    }\n",
       "</style>\n",
       "<table border=\"1\" class=\"dataframe\">\n",
       "  <thead>\n",
       "    <tr style=\"text-align: right;\">\n",
       "      <th></th>\n",
       "      <th>total_amount</th>\n",
       "      <th>airport_fee</th>\n",
       "      <th>trip_duration</th>\n",
       "      <th>dropoff_Borough</th>\n",
       "      <th>dropoff_Zone</th>\n",
       "      <th>RatecodeID</th>\n",
       "      <th>payment_type</th>\n",
       "      <th>passenger_count</th>\n",
       "    </tr>\n",
       "    <tr>\n",
       "      <th>pickup_time</th>\n",
       "      <th></th>\n",
       "      <th></th>\n",
       "      <th></th>\n",
       "      <th></th>\n",
       "      <th></th>\n",
       "      <th></th>\n",
       "      <th></th>\n",
       "      <th></th>\n",
       "    </tr>\n",
       "  </thead>\n",
       "  <tbody>\n",
       "    <tr>\n",
       "      <th>2022-01-01 00:00:00</th>\n",
       "      <td>53.578204</td>\n",
       "      <td>1.220060</td>\n",
       "      <td>1537.964072</td>\n",
       "      <td>1</td>\n",
       "      <td>37</td>\n",
       "      <td>1.0</td>\n",
       "      <td>1</td>\n",
       "      <td>1.0</td>\n",
       "    </tr>\n",
       "    <tr>\n",
       "      <th>2022-01-01 01:00:00</th>\n",
       "      <td>54.111359</td>\n",
       "      <td>1.189320</td>\n",
       "      <td>1508.601942</td>\n",
       "      <td>2</td>\n",
       "      <td>30</td>\n",
       "      <td>1.0</td>\n",
       "      <td>1</td>\n",
       "      <td>1.0</td>\n",
       "    </tr>\n",
       "    <tr>\n",
       "      <th>2022-01-01 02:00:00</th>\n",
       "      <td>46.714783</td>\n",
       "      <td>1.222826</td>\n",
       "      <td>1402.304348</td>\n",
       "      <td>1</td>\n",
       "      <td>4</td>\n",
       "      <td>1.0</td>\n",
       "      <td>1</td>\n",
       "      <td>1.0</td>\n",
       "    </tr>\n",
       "    <tr>\n",
       "      <th>2022-01-01 03:00:00</th>\n",
       "      <td>46.470294</td>\n",
       "      <td>1.213235</td>\n",
       "      <td>1432.529412</td>\n",
       "      <td>1</td>\n",
       "      <td>109</td>\n",
       "      <td>1.0</td>\n",
       "      <td>2</td>\n",
       "      <td>1.0</td>\n",
       "    </tr>\n",
       "    <tr>\n",
       "      <th>2022-01-01 04:00:00</th>\n",
       "      <td>51.236429</td>\n",
       "      <td>0.982143</td>\n",
       "      <td>1479.142857</td>\n",
       "      <td>0</td>\n",
       "      <td>36</td>\n",
       "      <td>1.0</td>\n",
       "      <td>2</td>\n",
       "      <td>1.0</td>\n",
       "    </tr>\n",
       "  </tbody>\n",
       "</table>\n",
       "</div>"
      ],
      "text/plain": [
       "                     total_amount  airport_fee  trip_duration  \\\n",
       "pickup_time                                                     \n",
       "2022-01-01 00:00:00     53.578204     1.220060    1537.964072   \n",
       "2022-01-01 01:00:00     54.111359     1.189320    1508.601942   \n",
       "2022-01-01 02:00:00     46.714783     1.222826    1402.304348   \n",
       "2022-01-01 03:00:00     46.470294     1.213235    1432.529412   \n",
       "2022-01-01 04:00:00     51.236429     0.982143    1479.142857   \n",
       "\n",
       "                     dropoff_Borough  dropoff_Zone  RatecodeID  payment_type  \\\n",
       "pickup_time                                                                    \n",
       "2022-01-01 00:00:00                1            37         1.0             1   \n",
       "2022-01-01 01:00:00                2            30         1.0             1   \n",
       "2022-01-01 02:00:00                1             4         1.0             1   \n",
       "2022-01-01 03:00:00                1           109         1.0             2   \n",
       "2022-01-01 04:00:00                0            36         1.0             2   \n",
       "\n",
       "                     passenger_count  \n",
       "pickup_time                           \n",
       "2022-01-01 00:00:00              1.0  \n",
       "2022-01-01 01:00:00              1.0  \n",
       "2022-01-01 02:00:00              1.0  \n",
       "2022-01-01 03:00:00              1.0  \n",
       "2022-01-01 04:00:00              1.0  "
      ]
     },
     "execution_count": 13,
     "metadata": {},
     "output_type": "execute_result"
    }
   ],
   "source": [
    "predictors1 = df_series.drop(columns=['trips'],axis=1)\n",
    "predictors1.head(5)"
   ]
  },
  {
   "cell_type": "code",
   "execution_count": 14,
   "id": "c26d18ab",
   "metadata": {
    "ExecuteTime": {
     "end_time": "2022-05-23T14:30:05.709681Z",
     "start_time": "2022-05-23T14:30:05.677666Z"
    },
    "colab": {
     "base_uri": "https://localhost:8080/",
     "height": 661
    },
    "executionInfo": {
     "elapsed": 123,
     "status": "ok",
     "timestamp": 1668970666530,
     "user": {
      "displayName": "Parth Bhatt",
      "userId": "06001564206370072948"
     },
     "user_tz": 300
    },
    "id": "c26d18ab",
    "outputId": "2e4e695e-6e81-4a73-976f-566795d260be"
   },
   "outputs": [
    {
     "data": {
      "text/html": [
       "<div>\n",
       "<style scoped>\n",
       "    .dataframe tbody tr th:only-of-type {\n",
       "        vertical-align: middle;\n",
       "    }\n",
       "\n",
       "    .dataframe tbody tr th {\n",
       "        vertical-align: top;\n",
       "    }\n",
       "\n",
       "    .dataframe thead th {\n",
       "        text-align: right;\n",
       "    }\n",
       "</style>\n",
       "<table border=\"1\" class=\"dataframe\">\n",
       "  <thead>\n",
       "    <tr style=\"text-align: right;\">\n",
       "      <th></th>\n",
       "      <th>total_amount</th>\n",
       "      <th>airport_fee</th>\n",
       "      <th>trip_duration</th>\n",
       "      <th>dropoff_Borough</th>\n",
       "      <th>dropoff_Zone</th>\n",
       "      <th>RatecodeID</th>\n",
       "      <th>payment_type</th>\n",
       "      <th>passenger_count</th>\n",
       "      <th>total_amount_Lag1</th>\n",
       "      <th>airport_fee_Lag1</th>\n",
       "      <th>...</th>\n",
       "      <th>payment_type_Lag24</th>\n",
       "      <th>passenger_count_Lag24</th>\n",
       "      <th>total_amount_Lag168</th>\n",
       "      <th>airport_fee_Lag168</th>\n",
       "      <th>trip_duration_Lag168</th>\n",
       "      <th>dropoff_Borough_Lag168</th>\n",
       "      <th>dropoff_Zone_Lag168</th>\n",
       "      <th>RatecodeID_Lag168</th>\n",
       "      <th>payment_type_Lag168</th>\n",
       "      <th>passenger_count_Lag168</th>\n",
       "    </tr>\n",
       "    <tr>\n",
       "      <th>pickup_time</th>\n",
       "      <th></th>\n",
       "      <th></th>\n",
       "      <th></th>\n",
       "      <th></th>\n",
       "      <th></th>\n",
       "      <th></th>\n",
       "      <th></th>\n",
       "      <th></th>\n",
       "      <th></th>\n",
       "      <th></th>\n",
       "      <th></th>\n",
       "      <th></th>\n",
       "      <th></th>\n",
       "      <th></th>\n",
       "      <th></th>\n",
       "      <th></th>\n",
       "      <th></th>\n",
       "      <th></th>\n",
       "      <th></th>\n",
       "      <th></th>\n",
       "      <th></th>\n",
       "    </tr>\n",
       "  </thead>\n",
       "  <tbody>\n",
       "    <tr>\n",
       "      <th>2022-01-08 00:00:00</th>\n",
       "      <td>50.781069</td>\n",
       "      <td>1.163522</td>\n",
       "      <td>1554.811321</td>\n",
       "      <td>2</td>\n",
       "      <td>4</td>\n",
       "      <td>1.0</td>\n",
       "      <td>1</td>\n",
       "      <td>1.0</td>\n",
       "      <td>53.125542</td>\n",
       "      <td>1.189759</td>\n",
       "      <td>...</td>\n",
       "      <td>1.0</td>\n",
       "      <td>1.0</td>\n",
       "      <td>53.578204</td>\n",
       "      <td>1.220060</td>\n",
       "      <td>1537.964072</td>\n",
       "      <td>1.0</td>\n",
       "      <td>37.0</td>\n",
       "      <td>1.0</td>\n",
       "      <td>1.0</td>\n",
       "      <td>1.0</td>\n",
       "    </tr>\n",
       "    <tr>\n",
       "      <th>2022-01-08 01:00:00</th>\n",
       "      <td>45.585857</td>\n",
       "      <td>1.214286</td>\n",
       "      <td>1414.992857</td>\n",
       "      <td>3</td>\n",
       "      <td>78</td>\n",
       "      <td>1.0</td>\n",
       "      <td>1</td>\n",
       "      <td>1.0</td>\n",
       "      <td>50.781069</td>\n",
       "      <td>1.163522</td>\n",
       "      <td>...</td>\n",
       "      <td>1.0</td>\n",
       "      <td>1.0</td>\n",
       "      <td>54.111359</td>\n",
       "      <td>1.189320</td>\n",
       "      <td>1508.601942</td>\n",
       "      <td>2.0</td>\n",
       "      <td>30.0</td>\n",
       "      <td>1.0</td>\n",
       "      <td>1.0</td>\n",
       "      <td>1.0</td>\n",
       "    </tr>\n",
       "    <tr>\n",
       "      <th>2022-01-08 02:00:00</th>\n",
       "      <td>47.696226</td>\n",
       "      <td>1.108491</td>\n",
       "      <td>1343.245283</td>\n",
       "      <td>3</td>\n",
       "      <td>78</td>\n",
       "      <td>1.0</td>\n",
       "      <td>1</td>\n",
       "      <td>1.0</td>\n",
       "      <td>45.585857</td>\n",
       "      <td>1.214286</td>\n",
       "      <td>...</td>\n",
       "      <td>2.0</td>\n",
       "      <td>1.0</td>\n",
       "      <td>46.714783</td>\n",
       "      <td>1.222826</td>\n",
       "      <td>1402.304348</td>\n",
       "      <td>1.0</td>\n",
       "      <td>4.0</td>\n",
       "      <td>1.0</td>\n",
       "      <td>1.0</td>\n",
       "      <td>1.0</td>\n",
       "    </tr>\n",
       "    <tr>\n",
       "      <th>2022-01-08 03:00:00</th>\n",
       "      <td>44.716000</td>\n",
       "      <td>1.125000</td>\n",
       "      <td>1520.750000</td>\n",
       "      <td>1</td>\n",
       "      <td>37</td>\n",
       "      <td>1.0</td>\n",
       "      <td>2</td>\n",
       "      <td>1.0</td>\n",
       "      <td>47.696226</td>\n",
       "      <td>1.108491</td>\n",
       "      <td>...</td>\n",
       "      <td>1.0</td>\n",
       "      <td>1.0</td>\n",
       "      <td>46.470294</td>\n",
       "      <td>1.213235</td>\n",
       "      <td>1432.529412</td>\n",
       "      <td>1.0</td>\n",
       "      <td>109.0</td>\n",
       "      <td>1.0</td>\n",
       "      <td>2.0</td>\n",
       "      <td>1.0</td>\n",
       "    </tr>\n",
       "    <tr>\n",
       "      <th>2022-01-08 04:00:00</th>\n",
       "      <td>30.252500</td>\n",
       "      <td>1.250000</td>\n",
       "      <td>945.000000</td>\n",
       "      <td>3</td>\n",
       "      <td>55</td>\n",
       "      <td>1.0</td>\n",
       "      <td>1</td>\n",
       "      <td>2.0</td>\n",
       "      <td>44.716000</td>\n",
       "      <td>1.125000</td>\n",
       "      <td>...</td>\n",
       "      <td>2.0</td>\n",
       "      <td>1.0</td>\n",
       "      <td>51.236429</td>\n",
       "      <td>0.982143</td>\n",
       "      <td>1479.142857</td>\n",
       "      <td>0.0</td>\n",
       "      <td>36.0</td>\n",
       "      <td>1.0</td>\n",
       "      <td>2.0</td>\n",
       "      <td>1.0</td>\n",
       "    </tr>\n",
       "    <tr>\n",
       "      <th>2022-01-08 05:00:00</th>\n",
       "      <td>56.537347</td>\n",
       "      <td>1.122449</td>\n",
       "      <td>1584.857143</td>\n",
       "      <td>1</td>\n",
       "      <td>106</td>\n",
       "      <td>1.0</td>\n",
       "      <td>1</td>\n",
       "      <td>1.0</td>\n",
       "      <td>30.252500</td>\n",
       "      <td>1.250000</td>\n",
       "      <td>...</td>\n",
       "      <td>2.0</td>\n",
       "      <td>1.0</td>\n",
       "      <td>59.016098</td>\n",
       "      <td>1.219512</td>\n",
       "      <td>1742.951220</td>\n",
       "      <td>2.0</td>\n",
       "      <td>20.0</td>\n",
       "      <td>1.0</td>\n",
       "      <td>1.0</td>\n",
       "      <td>1.0</td>\n",
       "    </tr>\n",
       "    <tr>\n",
       "      <th>2022-01-08 06:00:00</th>\n",
       "      <td>57.799107</td>\n",
       "      <td>1.171875</td>\n",
       "      <td>1596.133929</td>\n",
       "      <td>2</td>\n",
       "      <td>82</td>\n",
       "      <td>1.0</td>\n",
       "      <td>1</td>\n",
       "      <td>1.0</td>\n",
       "      <td>56.537347</td>\n",
       "      <td>1.122449</td>\n",
       "      <td>...</td>\n",
       "      <td>1.0</td>\n",
       "      <td>1.0</td>\n",
       "      <td>58.403387</td>\n",
       "      <td>1.168033</td>\n",
       "      <td>1586.387097</td>\n",
       "      <td>2.0</td>\n",
       "      <td>28.0</td>\n",
       "      <td>2.0</td>\n",
       "      <td>1.0</td>\n",
       "      <td>1.0</td>\n",
       "    </tr>\n",
       "    <tr>\n",
       "      <th>2022-01-08 07:00:00</th>\n",
       "      <td>56.088902</td>\n",
       "      <td>1.157407</td>\n",
       "      <td>1574.817073</td>\n",
       "      <td>2</td>\n",
       "      <td>4</td>\n",
       "      <td>2.0</td>\n",
       "      <td>1</td>\n",
       "      <td>1.0</td>\n",
       "      <td>57.799107</td>\n",
       "      <td>1.171875</td>\n",
       "      <td>...</td>\n",
       "      <td>1.0</td>\n",
       "      <td>1.0</td>\n",
       "      <td>53.367600</td>\n",
       "      <td>1.216667</td>\n",
       "      <td>1483.893333</td>\n",
       "      <td>2.0</td>\n",
       "      <td>82.0</td>\n",
       "      <td>1.0</td>\n",
       "      <td>1.0</td>\n",
       "      <td>1.0</td>\n",
       "    </tr>\n",
       "    <tr>\n",
       "      <th>2022-01-08 08:00:00</th>\n",
       "      <td>58.085306</td>\n",
       "      <td>1.211340</td>\n",
       "      <td>1632.591837</td>\n",
       "      <td>2</td>\n",
       "      <td>82</td>\n",
       "      <td>2.0</td>\n",
       "      <td>1</td>\n",
       "      <td>1.0</td>\n",
       "      <td>56.088902</td>\n",
       "      <td>1.157407</td>\n",
       "      <td>...</td>\n",
       "      <td>1.0</td>\n",
       "      <td>1.0</td>\n",
       "      <td>59.468737</td>\n",
       "      <td>1.171053</td>\n",
       "      <td>1589.378947</td>\n",
       "      <td>2.0</td>\n",
       "      <td>82.0</td>\n",
       "      <td>2.0</td>\n",
       "      <td>1.0</td>\n",
       "      <td>1.0</td>\n",
       "    </tr>\n",
       "    <tr>\n",
       "      <th>2022-01-08 09:00:00</th>\n",
       "      <td>58.212344</td>\n",
       "      <td>1.250000</td>\n",
       "      <td>1681.140625</td>\n",
       "      <td>2</td>\n",
       "      <td>86</td>\n",
       "      <td>2.0</td>\n",
       "      <td>1</td>\n",
       "      <td>1.0</td>\n",
       "      <td>58.085306</td>\n",
       "      <td>1.211340</td>\n",
       "      <td>...</td>\n",
       "      <td>1.0</td>\n",
       "      <td>1.0</td>\n",
       "      <td>58.162286</td>\n",
       "      <td>1.201923</td>\n",
       "      <td>1583.980952</td>\n",
       "      <td>2.0</td>\n",
       "      <td>82.0</td>\n",
       "      <td>1.0</td>\n",
       "      <td>1.0</td>\n",
       "      <td>1.0</td>\n",
       "    </tr>\n",
       "  </tbody>\n",
       "</table>\n",
       "<p>10 rows × 40 columns</p>\n",
       "</div>"
      ],
      "text/plain": [
       "                     total_amount  airport_fee  trip_duration  \\\n",
       "pickup_time                                                     \n",
       "2022-01-08 00:00:00     50.781069     1.163522    1554.811321   \n",
       "2022-01-08 01:00:00     45.585857     1.214286    1414.992857   \n",
       "2022-01-08 02:00:00     47.696226     1.108491    1343.245283   \n",
       "2022-01-08 03:00:00     44.716000     1.125000    1520.750000   \n",
       "2022-01-08 04:00:00     30.252500     1.250000     945.000000   \n",
       "2022-01-08 05:00:00     56.537347     1.122449    1584.857143   \n",
       "2022-01-08 06:00:00     57.799107     1.171875    1596.133929   \n",
       "2022-01-08 07:00:00     56.088902     1.157407    1574.817073   \n",
       "2022-01-08 08:00:00     58.085306     1.211340    1632.591837   \n",
       "2022-01-08 09:00:00     58.212344     1.250000    1681.140625   \n",
       "\n",
       "                     dropoff_Borough  dropoff_Zone  RatecodeID  payment_type  \\\n",
       "pickup_time                                                                    \n",
       "2022-01-08 00:00:00                2             4         1.0             1   \n",
       "2022-01-08 01:00:00                3            78         1.0             1   \n",
       "2022-01-08 02:00:00                3            78         1.0             1   \n",
       "2022-01-08 03:00:00                1            37         1.0             2   \n",
       "2022-01-08 04:00:00                3            55         1.0             1   \n",
       "2022-01-08 05:00:00                1           106         1.0             1   \n",
       "2022-01-08 06:00:00                2            82         1.0             1   \n",
       "2022-01-08 07:00:00                2             4         2.0             1   \n",
       "2022-01-08 08:00:00                2            82         2.0             1   \n",
       "2022-01-08 09:00:00                2            86         2.0             1   \n",
       "\n",
       "                     passenger_count  total_amount_Lag1  airport_fee_Lag1  \\\n",
       "pickup_time                                                                 \n",
       "2022-01-08 00:00:00              1.0          53.125542          1.189759   \n",
       "2022-01-08 01:00:00              1.0          50.781069          1.163522   \n",
       "2022-01-08 02:00:00              1.0          45.585857          1.214286   \n",
       "2022-01-08 03:00:00              1.0          47.696226          1.108491   \n",
       "2022-01-08 04:00:00              2.0          44.716000          1.125000   \n",
       "2022-01-08 05:00:00              1.0          30.252500          1.250000   \n",
       "2022-01-08 06:00:00              1.0          56.537347          1.122449   \n",
       "2022-01-08 07:00:00              1.0          57.799107          1.171875   \n",
       "2022-01-08 08:00:00              1.0          56.088902          1.157407   \n",
       "2022-01-08 09:00:00              1.0          58.085306          1.211340   \n",
       "\n",
       "                     ...  payment_type_Lag24  passenger_count_Lag24  \\\n",
       "pickup_time          ...                                              \n",
       "2022-01-08 00:00:00  ...                 1.0                    1.0   \n",
       "2022-01-08 01:00:00  ...                 1.0                    1.0   \n",
       "2022-01-08 02:00:00  ...                 2.0                    1.0   \n",
       "2022-01-08 03:00:00  ...                 1.0                    1.0   \n",
       "2022-01-08 04:00:00  ...                 2.0                    1.0   \n",
       "2022-01-08 05:00:00  ...                 2.0                    1.0   \n",
       "2022-01-08 06:00:00  ...                 1.0                    1.0   \n",
       "2022-01-08 07:00:00  ...                 1.0                    1.0   \n",
       "2022-01-08 08:00:00  ...                 1.0                    1.0   \n",
       "2022-01-08 09:00:00  ...                 1.0                    1.0   \n",
       "\n",
       "                     total_amount_Lag168  airport_fee_Lag168  \\\n",
       "pickup_time                                                    \n",
       "2022-01-08 00:00:00            53.578204            1.220060   \n",
       "2022-01-08 01:00:00            54.111359            1.189320   \n",
       "2022-01-08 02:00:00            46.714783            1.222826   \n",
       "2022-01-08 03:00:00            46.470294            1.213235   \n",
       "2022-01-08 04:00:00            51.236429            0.982143   \n",
       "2022-01-08 05:00:00            59.016098            1.219512   \n",
       "2022-01-08 06:00:00            58.403387            1.168033   \n",
       "2022-01-08 07:00:00            53.367600            1.216667   \n",
       "2022-01-08 08:00:00            59.468737            1.171053   \n",
       "2022-01-08 09:00:00            58.162286            1.201923   \n",
       "\n",
       "                     trip_duration_Lag168  dropoff_Borough_Lag168  \\\n",
       "pickup_time                                                         \n",
       "2022-01-08 00:00:00           1537.964072                     1.0   \n",
       "2022-01-08 01:00:00           1508.601942                     2.0   \n",
       "2022-01-08 02:00:00           1402.304348                     1.0   \n",
       "2022-01-08 03:00:00           1432.529412                     1.0   \n",
       "2022-01-08 04:00:00           1479.142857                     0.0   \n",
       "2022-01-08 05:00:00           1742.951220                     2.0   \n",
       "2022-01-08 06:00:00           1586.387097                     2.0   \n",
       "2022-01-08 07:00:00           1483.893333                     2.0   \n",
       "2022-01-08 08:00:00           1589.378947                     2.0   \n",
       "2022-01-08 09:00:00           1583.980952                     2.0   \n",
       "\n",
       "                     dropoff_Zone_Lag168  RatecodeID_Lag168  \\\n",
       "pickup_time                                                   \n",
       "2022-01-08 00:00:00                 37.0                1.0   \n",
       "2022-01-08 01:00:00                 30.0                1.0   \n",
       "2022-01-08 02:00:00                  4.0                1.0   \n",
       "2022-01-08 03:00:00                109.0                1.0   \n",
       "2022-01-08 04:00:00                 36.0                1.0   \n",
       "2022-01-08 05:00:00                 20.0                1.0   \n",
       "2022-01-08 06:00:00                 28.0                2.0   \n",
       "2022-01-08 07:00:00                 82.0                1.0   \n",
       "2022-01-08 08:00:00                 82.0                2.0   \n",
       "2022-01-08 09:00:00                 82.0                1.0   \n",
       "\n",
       "                     payment_type_Lag168  passenger_count_Lag168  \n",
       "pickup_time                                                       \n",
       "2022-01-08 00:00:00                  1.0                     1.0  \n",
       "2022-01-08 01:00:00                  1.0                     1.0  \n",
       "2022-01-08 02:00:00                  1.0                     1.0  \n",
       "2022-01-08 03:00:00                  2.0                     1.0  \n",
       "2022-01-08 04:00:00                  2.0                     1.0  \n",
       "2022-01-08 05:00:00                  1.0                     1.0  \n",
       "2022-01-08 06:00:00                  1.0                     1.0  \n",
       "2022-01-08 07:00:00                  1.0                     1.0  \n",
       "2022-01-08 08:00:00                  1.0                     1.0  \n",
       "2022-01-08 09:00:00                  1.0                     1.0  \n",
       "\n",
       "[10 rows x 40 columns]"
      ]
     },
     "execution_count": 14,
     "metadata": {},
     "output_type": "execute_result"
    }
   ],
   "source": [
    "#Engineering features based on creating lags and perdiodic changes of features\n",
    "\n",
    "#Add Lags\n",
    "predictors2 = predictors1.shift(1)\n",
    "predictors2 = predictors2.add_suffix('_Lag1')\n",
    "predictors3 = predictors1.shift(3)\n",
    "predictors3 = predictors3.add_suffix('_Lag3')\n",
    "predictors4 = predictors1.shift(24)\n",
    "predictors4 = predictors4.add_suffix('_Lag24')\n",
    "predictors5 = predictors1.shift(168)\n",
    "predictors5 = predictors5.add_suffix('_Lag168')\n",
    "\n",
    "predictors = pd.concat([predictors1, predictors2, predictors3, predictors4, predictors5], axis=1)\n",
    "predictors=predictors.dropna(axis=0, how='any')\n",
    "\n",
    "predictors.head(10)"
   ]
  },
  {
   "cell_type": "code",
   "execution_count": 15,
   "id": "a1f9eac6",
   "metadata": {
    "ExecuteTime": {
     "end_time": "2022-05-23T14:30:18.154281Z",
     "start_time": "2022-05-23T14:30:18.141283Z"
    },
    "colab": {
     "base_uri": "https://localhost:8080/",
     "height": 238
    },
    "executionInfo": {
     "elapsed": 140,
     "status": "ok",
     "timestamp": 1668970671158,
     "user": {
      "displayName": "Parth Bhatt",
      "userId": "06001564206370072948"
     },
     "user_tz": 300
    },
    "id": "a1f9eac6",
    "outputId": "349de91d-ceac-4e13-b060-9a58a4e35163"
   },
   "outputs": [
    {
     "data": {
      "text/html": [
       "<div>\n",
       "<style scoped>\n",
       "    .dataframe tbody tr th:only-of-type {\n",
       "        vertical-align: middle;\n",
       "    }\n",
       "\n",
       "    .dataframe tbody tr th {\n",
       "        vertical-align: top;\n",
       "    }\n",
       "\n",
       "    .dataframe thead th {\n",
       "        text-align: right;\n",
       "    }\n",
       "</style>\n",
       "<table border=\"1\" class=\"dataframe\">\n",
       "  <thead>\n",
       "    <tr style=\"text-align: right;\">\n",
       "      <th></th>\n",
       "      <th>trips</th>\n",
       "    </tr>\n",
       "    <tr>\n",
       "      <th>pickup_time</th>\n",
       "      <th></th>\n",
       "    </tr>\n",
       "  </thead>\n",
       "  <tbody>\n",
       "    <tr>\n",
       "      <th>2022-01-08 00:00:00</th>\n",
       "      <td>159</td>\n",
       "    </tr>\n",
       "    <tr>\n",
       "      <th>2022-01-08 01:00:00</th>\n",
       "      <td>140</td>\n",
       "    </tr>\n",
       "    <tr>\n",
       "      <th>2022-01-08 02:00:00</th>\n",
       "      <td>53</td>\n",
       "    </tr>\n",
       "    <tr>\n",
       "      <th>2022-01-08 03:00:00</th>\n",
       "      <td>20</td>\n",
       "    </tr>\n",
       "    <tr>\n",
       "      <th>2022-01-08 04:00:00</th>\n",
       "      <td>4</td>\n",
       "    </tr>\n",
       "  </tbody>\n",
       "</table>\n",
       "</div>"
      ],
      "text/plain": [
       "                     trips\n",
       "pickup_time               \n",
       "2022-01-08 00:00:00    159\n",
       "2022-01-08 01:00:00    140\n",
       "2022-01-08 02:00:00     53\n",
       "2022-01-08 03:00:00     20\n",
       "2022-01-08 04:00:00      4"
      ]
     },
     "execution_count": 15,
     "metadata": {},
     "output_type": "execute_result"
    }
   ],
   "source": [
    "#Setting up Target field\n",
    "Target = df_series.iloc[168: , [0]]\n",
    "Target.head(5)"
   ]
  },
  {
   "cell_type": "code",
   "execution_count": 16,
   "id": "7cf6dc34",
   "metadata": {
    "ExecuteTime": {
     "end_time": "2022-05-23T14:30:23.426799Z",
     "start_time": "2022-05-23T14:30:23.099568Z"
    },
    "colab": {
     "base_uri": "https://localhost:8080/",
     "height": 282
    },
    "executionInfo": {
     "elapsed": 9764,
     "status": "ok",
     "timestamp": 1668970684596,
     "user": {
      "displayName": "Parth Bhatt",
      "userId": "06001564206370072948"
     },
     "user_tz": 300
    },
    "id": "7cf6dc34",
    "outputId": "70790918-b45d-457a-ad22-f76fcae4da5a"
   },
   "outputs": [
    {
     "data": {
      "text/plain": [
       "<AxesSubplot:>"
      ]
     },
     "execution_count": 16,
     "metadata": {},
     "output_type": "execute_result"
    },
    {
     "data": {
      "image/png": "[encoded data removed]",
      "text/plain": [
       "<Figure size 432x288 with 1 Axes>"
      ]
     },
     "metadata": {
      "needs_background": "light"
     },
     "output_type": "display_data"
    }
   ],
   "source": [
    "#1.Select the top n features based on feature importance from random forest\n",
    "np.random.seed(10)\n",
    "\n",
    "# define the model\n",
    "model = RandomForestRegressor(random_state = random.seed(10))\n",
    "# fit the model\n",
    "model.fit(predictors, Target)\n",
    "\n",
    "# get importance\n",
    "features = predictors\n",
    "importances = model.feature_importances_\n",
    "indices = np.argsort(importances)\n",
    "\n",
    "feat_importances = pd.Series(model.feature_importances_, index=predictors.columns)\n",
    "feat_importances.nlargest(10).plot(kind='barh')"
   ]
  },
  {
   "cell_type": "code",
   "execution_count": 17,
   "id": "28c81c16",
   "metadata": {
    "ExecuteTime": {
     "end_time": "2022-05-23T14:30:28.383507Z",
     "start_time": "2022-05-23T14:30:28.366506Z"
    },
    "executionInfo": {
     "elapsed": 7,
     "status": "ok",
     "timestamp": 1668970684596,
     "user": {
      "displayName": "Parth Bhatt",
      "userId": "06001564206370072948"
     },
     "user_tz": 300
    },
    "id": "28c81c16"
   },
   "outputs": [],
   "source": [
    "#Final Features from Random Forest (Select Features with highest feature importance)\n",
    "rf_top_features = pd.DataFrame(feat_importances.nlargest(20)).axes[0].tolist()"
   ]
  },
  {
   "cell_type": "code",
   "execution_count": 18,
   "id": "74d63e83",
   "metadata": {
    "ExecuteTime": {
     "end_time": "2022-05-23T14:30:33.496307Z",
     "start_time": "2022-05-23T14:30:33.471105Z"
    },
    "colab": {
     "base_uri": "https://localhost:8080/",
     "height": 363
    },
    "executionInfo": {
     "elapsed": 132,
     "status": "ok",
     "timestamp": 1668970685831,
     "user": {
      "displayName": "Parth Bhatt",
      "userId": "06001564206370072948"
     },
     "user_tz": 300
    },
    "id": "74d63e83",
    "outputId": "8e4bd53c-ead9-4035-b701-c39f4d389845"
   },
   "outputs": [
    {
     "data": {
      "text/html": [
       "<div>\n",
       "<style scoped>\n",
       "    .dataframe tbody tr th:only-of-type {\n",
       "        vertical-align: middle;\n",
       "    }\n",
       "\n",
       "    .dataframe tbody tr th {\n",
       "        vertical-align: top;\n",
       "    }\n",
       "\n",
       "    .dataframe thead th {\n",
       "        text-align: right;\n",
       "    }\n",
       "</style>\n",
       "<table border=\"1\" class=\"dataframe\">\n",
       "  <thead>\n",
       "    <tr style=\"text-align: right;\">\n",
       "      <th></th>\n",
       "      <th>Correlation</th>\n",
       "    </tr>\n",
       "  </thead>\n",
       "  <tbody>\n",
       "    <tr>\n",
       "      <th>total_amount_Lag1</th>\n",
       "      <td>0.620694</td>\n",
       "    </tr>\n",
       "    <tr>\n",
       "      <th>total_amount</th>\n",
       "      <td>0.620503</td>\n",
       "    </tr>\n",
       "    <tr>\n",
       "      <th>total_amount_Lag168</th>\n",
       "      <td>0.586980</td>\n",
       "    </tr>\n",
       "    <tr>\n",
       "      <th>RatecodeID_Lag1</th>\n",
       "      <td>0.565804</td>\n",
       "    </tr>\n",
       "    <tr>\n",
       "      <th>total_amount_Lag24</th>\n",
       "      <td>0.559299</td>\n",
       "    </tr>\n",
       "    <tr>\n",
       "      <th>RatecodeID</th>\n",
       "      <td>0.540173</td>\n",
       "    </tr>\n",
       "    <tr>\n",
       "      <th>RatecodeID_Lag168</th>\n",
       "      <td>0.527980</td>\n",
       "    </tr>\n",
       "    <tr>\n",
       "      <th>RatecodeID_Lag24</th>\n",
       "      <td>0.513915</td>\n",
       "    </tr>\n",
       "    <tr>\n",
       "      <th>trip_duration_Lag3</th>\n",
       "      <td>0.501874</td>\n",
       "    </tr>\n",
       "    <tr>\n",
       "      <th>RatecodeID_Lag3</th>\n",
       "      <td>0.493098</td>\n",
       "    </tr>\n",
       "  </tbody>\n",
       "</table>\n",
       "</div>"
      ],
      "text/plain": [
       "                     Correlation\n",
       "total_amount_Lag1       0.620694\n",
       "total_amount            0.620503\n",
       "total_amount_Lag168     0.586980\n",
       "RatecodeID_Lag1         0.565804\n",
       "total_amount_Lag24      0.559299\n",
       "RatecodeID              0.540173\n",
       "RatecodeID_Lag168       0.527980\n",
       "RatecodeID_Lag24        0.513915\n",
       "trip_duration_Lag3      0.501874\n",
       "RatecodeID_Lag3         0.493098"
      ]
     },
     "execution_count": 18,
     "metadata": {},
     "output_type": "execute_result"
    }
   ],
   "source": [
    "#2.Select the top n features based on absolute correlation with target variable\n",
    "corr_data = pd.concat([Target,predictors],axis = 1)\n",
    "corr_data = corr_data.corr()\n",
    "corr_data = corr_data.iloc[: , [0]]\n",
    "corr_data.columns.values[0] = \"Correlation\"\n",
    "corr_data = corr_data.iloc[corr_data.Correlation.abs().argsort()] \n",
    "corr_data = corr_data[corr_data['Correlation'].notna()]\n",
    "corr_data = corr_data.loc[corr_data['Correlation'] != 1]\n",
    "corr_data.sort_values(by='Correlation', ascending=False).head(10)"
   ]
  },
  {
   "cell_type": "code",
   "execution_count": 19,
   "id": "02c7e57f",
   "metadata": {
    "ExecuteTime": {
     "end_time": "2022-05-23T14:30:48.104903Z",
     "start_time": "2022-05-23T14:30:48.087905Z"
    },
    "executionInfo": {
     "elapsed": 138,
     "status": "ok",
     "timestamp": 1668970688956,
     "user": {
      "displayName": "Parth Bhatt",
      "userId": "06001564206370072948"
     },
     "user_tz": 300
    },
    "id": "02c7e57f"
   },
   "outputs": [],
   "source": [
    "# Select Features with greater than 70% absolute correlation\n",
    "corr_data2 = corr_data.loc[corr_data['Correlation'].abs() > .5]\n",
    "corr_top_features = corr_data2.axes[0].tolist()"
   ]
  },
  {
   "cell_type": "code",
   "execution_count": 20,
   "id": "1dc90eb1",
   "metadata": {
    "ExecuteTime": {
     "end_time": "2022-05-23T14:30:54.093265Z",
     "start_time": "2022-05-23T14:30:53.800877Z"
    },
    "executionInfo": {
     "elapsed": 364,
     "status": "ok",
     "timestamp": 1668970690368,
     "user": {
      "displayName": "Parth Bhatt",
      "userId": "06001564206370072948"
     },
     "user_tz": 300
    },
    "id": "1dc90eb1"
   },
   "outputs": [],
   "source": [
    "#3.Select the features identified by Lasso regression\n",
    "np.random.seed(10)\n",
    "\n",
    "estimator = LassoCV(cv=5, normalize = True)\n",
    "\n",
    "sfm = SelectFromModel(estimator, prefit=False, norm_order=1, max_features=None)\n",
    "\n",
    "sfm.fit(predictors, Target)\n",
    "\n",
    "feature_idx = sfm.get_support()\n",
    "Lasso_features = predictors.columns[feature_idx].tolist()"
   ]
  },
  {
   "cell_type": "code",
   "execution_count": 21,
   "id": "e442d312",
   "metadata": {
    "ExecuteTime": {
     "end_time": "2022-05-23T14:31:00.615219Z",
     "start_time": "2022-05-23T14:31:00.592222Z"
    },
    "colab": {
     "base_uri": "https://localhost:8080/"
    },
    "executionInfo": {
     "elapsed": 289,
     "status": "ok",
     "timestamp": 1668970692605,
     "user": {
      "displayName": "Parth Bhatt",
      "userId": "06001564206370072948"
     },
     "user_tz": 300
    },
    "id": "e442d312",
    "outputId": "b94373aa-7316-4815-c7c4-5f48789f98d5",
    "scrolled": false
   },
   "outputs": [
    {
     "name": "stdout",
     "output_type": "stream",
     "text": [
      "Fitting estimator with 40 features.\n",
      "Fitting estimator with 39 features.\n",
      "Fitting estimator with 38 features.\n",
      "Fitting estimator with 37 features.\n",
      "Fitting estimator with 36 features.\n",
      "Fitting estimator with 35 features.\n",
      "Fitting estimator with 34 features.\n",
      "Fitting estimator with 33 features.\n",
      "Fitting estimator with 32 features.\n",
      "Fitting estimator with 31 features.\n",
      "Fitting estimator with 30 features.\n",
      "Fitting estimator with 29 features.\n",
      "Fitting estimator with 28 features.\n",
      "Fitting estimator with 27 features.\n",
      "Fitting estimator with 26 features.\n",
      "Fitting estimator with 25 features.\n",
      "Fitting estimator with 24 features.\n",
      "Fitting estimator with 23 features.\n",
      "Fitting estimator with 22 features.\n",
      "Fitting estimator with 21 features.\n"
     ]
    }
   ],
   "source": [
    "#4.Perform recursive feature selection and use cross validation to identify the best number of features\n",
    "\n",
    "#Feature ranking with recursive feature elimination and cross-validated selection of the best number of features\n",
    "rfe_selector = RFE(estimator=LinearRegression(), n_features_to_select= 20, step=1, verbose=10)\n",
    "rfe_selector.fit(predictors, Target)\n",
    "rfe_support = rfe_selector.get_support()\n",
    "rfe_feature = predictors.loc[:,rfe_support].columns.tolist()"
   ]
  },
  {
   "cell_type": "code",
   "execution_count": 22,
   "id": "bad44100",
   "metadata": {
    "ExecuteTime": {
     "end_time": "2022-05-23T14:31:32.370941Z",
     "start_time": "2022-05-23T14:31:32.347956Z"
    },
    "executionInfo": {
     "elapsed": 125,
     "status": "ok",
     "timestamp": 1668970694530,
     "user": {
      "displayName": "Parth Bhatt",
      "userId": "06001564206370072948"
     },
     "user_tz": 300
    },
    "id": "bad44100",
    "scrolled": false
   },
   "outputs": [],
   "source": [
    "#5.Select the top n features based on absolute value of beta coefficients of features\n",
    "\n",
    "# define standard scaler\n",
    "scaler = StandardScaler()\n",
    "# transform x data\n",
    "scaled_predictors = scaler.fit_transform(predictors)\n",
    "scaled_Target = scaler.fit_transform(Target)\n",
    "\n",
    "sr_reg = LinearRegression(fit_intercept = False).fit(scaled_predictors, scaled_Target)\n",
    "coef_table = pd.DataFrame(list(predictors.columns)).copy()\n",
    "coef_table.insert(len(coef_table.columns),\"Coefs\",sr_reg.coef_.transpose())\n",
    "coef_table = coef_table.iloc[coef_table.Coefs.abs().argsort()] \n",
    "\n",
    "sr_top_features = coef_table.iloc[:,0].tolist()"
   ]
  },
  {
   "cell_type": "code",
   "execution_count": 23,
   "id": "44121498",
   "metadata": {
    "ExecuteTime": {
     "end_time": "2022-05-23T14:31:41.552881Z",
     "start_time": "2022-05-23T14:31:41.529882Z"
    },
    "colab": {
     "base_uri": "https://localhost:8080/",
     "height": 677
    },
    "executionInfo": {
     "elapsed": 121,
     "status": "ok",
     "timestamp": 1668970696521,
     "user": {
      "displayName": "Parth Bhatt",
      "userId": "06001564206370072948"
     },
     "user_tz": 300
    },
    "id": "44121498",
    "outputId": "cabc4ffc-52d1-4353-fb73-fc21cdbcc00c"
   },
   "outputs": [
    {
     "data": {
      "text/html": [
       "<div>\n",
       "<style scoped>\n",
       "    .dataframe tbody tr th:only-of-type {\n",
       "        vertical-align: middle;\n",
       "    }\n",
       "\n",
       "    .dataframe tbody tr th {\n",
       "        vertical-align: top;\n",
       "    }\n",
       "\n",
       "    .dataframe thead th {\n",
       "        text-align: right;\n",
       "    }\n",
       "</style>\n",
       "<table border=\"1\" class=\"dataframe\">\n",
       "  <thead>\n",
       "    <tr style=\"text-align: right;\">\n",
       "      <th></th>\n",
       "      <th>number_of_models</th>\n",
       "    </tr>\n",
       "  </thead>\n",
       "  <tbody>\n",
       "    <tr>\n",
       "      <th>total_amount_Lag24</th>\n",
       "      <td>4</td>\n",
       "    </tr>\n",
       "    <tr>\n",
       "      <th>RatecodeID_Lag168</th>\n",
       "      <td>4</td>\n",
       "    </tr>\n",
       "    <tr>\n",
       "      <th>total_amount_Lag1</th>\n",
       "      <td>4</td>\n",
       "    </tr>\n",
       "    <tr>\n",
       "      <th>airport_fee_Lag1</th>\n",
       "      <td>4</td>\n",
       "    </tr>\n",
       "    <tr>\n",
       "      <th>airport_fee_Lag24</th>\n",
       "      <td>4</td>\n",
       "    </tr>\n",
       "    <tr>\n",
       "      <th>total_amount_Lag168</th>\n",
       "      <td>4</td>\n",
       "    </tr>\n",
       "    <tr>\n",
       "      <th>total_amount</th>\n",
       "      <td>4</td>\n",
       "    </tr>\n",
       "    <tr>\n",
       "      <th>RatecodeID_Lag1</th>\n",
       "      <td>4</td>\n",
       "    </tr>\n",
       "    <tr>\n",
       "      <th>airport_fee</th>\n",
       "      <td>4</td>\n",
       "    </tr>\n",
       "    <tr>\n",
       "      <th>airport_fee_Lag168</th>\n",
       "      <td>4</td>\n",
       "    </tr>\n",
       "    <tr>\n",
       "      <th>trip_duration_Lag3</th>\n",
       "      <td>4</td>\n",
       "    </tr>\n",
       "    <tr>\n",
       "      <th>airport_fee_Lag3</th>\n",
       "      <td>4</td>\n",
       "    </tr>\n",
       "    <tr>\n",
       "      <th>RatecodeID_Lag24</th>\n",
       "      <td>4</td>\n",
       "    </tr>\n",
       "    <tr>\n",
       "      <th>RatecodeID</th>\n",
       "      <td>3</td>\n",
       "    </tr>\n",
       "    <tr>\n",
       "      <th>payment_type_Lag24</th>\n",
       "      <td>3</td>\n",
       "    </tr>\n",
       "    <tr>\n",
       "      <th>payment_type_Lag3</th>\n",
       "      <td>3</td>\n",
       "    </tr>\n",
       "    <tr>\n",
       "      <th>dropoff_Borough_Lag3</th>\n",
       "      <td>3</td>\n",
       "    </tr>\n",
       "    <tr>\n",
       "      <th>trip_duration_Lag24</th>\n",
       "      <td>3</td>\n",
       "    </tr>\n",
       "    <tr>\n",
       "      <th>RatecodeID_Lag3</th>\n",
       "      <td>3</td>\n",
       "    </tr>\n",
       "    <tr>\n",
       "      <th>total_amount_Lag3</th>\n",
       "      <td>3</td>\n",
       "    </tr>\n",
       "  </tbody>\n",
       "</table>\n",
       "</div>"
      ],
      "text/plain": [
       "                      number_of_models\n",
       "total_amount_Lag24                   4\n",
       "RatecodeID_Lag168                    4\n",
       "total_amount_Lag1                    4\n",
       "airport_fee_Lag1                     4\n",
       "airport_fee_Lag24                    4\n",
       "total_amount_Lag168                  4\n",
       "total_amount                         4\n",
       "RatecodeID_Lag1                      4\n",
       "airport_fee                          4\n",
       "airport_fee_Lag168                   4\n",
       "trip_duration_Lag3                   4\n",
       "airport_fee_Lag3                     4\n",
       "RatecodeID_Lag24                     4\n",
       "RatecodeID                           3\n",
       "payment_type_Lag24                   3\n",
       "payment_type_Lag3                    3\n",
       "dropoff_Borough_Lag3                 3\n",
       "trip_duration_Lag24                  3\n",
       "RatecodeID_Lag3                      3\n",
       "total_amount_Lag3                    3"
      ]
     },
     "execution_count": 23,
     "metadata": {},
     "output_type": "execute_result"
    }
   ],
   "source": [
    "# Combining features from all the models\n",
    "combined_feature_list = sr_top_features + Lasso_features + corr_top_features + rf_top_features + rfe_feature\n",
    "\n",
    "combined_feature = {x:combined_feature_list.count(x) for x in combined_feature_list}\n",
    "combined_feature_data = pd.DataFrame.from_dict(combined_feature,orient='index')\n",
    "\n",
    "combined_feature_data.rename(columns={ combined_feature_data.columns[0]: \"number_of_models\" }, inplace = True)\n",
    "\n",
    "combined_feature_data = combined_feature_data.sort_values(['number_of_models'], ascending=[False])\n",
    "\n",
    "combined_feature_data.head(20)"
   ]
  },
  {
   "cell_type": "code",
   "execution_count": 24,
   "id": "73e5fe5a",
   "metadata": {
    "ExecuteTime": {
     "end_time": "2022-05-23T14:31:47.530213Z",
     "start_time": "2022-05-23T14:31:47.509204Z"
    },
    "colab": {
     "base_uri": "https://localhost:8080/"
    },
    "executionInfo": {
     "elapsed": 2,
     "status": "ok",
     "timestamp": 1668970699435,
     "user": {
      "displayName": "Parth Bhatt",
      "userId": "06001564206370072948"
     },
     "user_tz": 300
    },
    "id": "73e5fe5a",
    "outputId": "afabf498-b2e8-4455-aeae-7aec5f740414"
   },
   "outputs": [
    {
     "data": {
      "text/plain": [
       "['total_amount_Lag24',\n",
       " 'RatecodeID_Lag168',\n",
       " 'total_amount_Lag1',\n",
       " 'airport_fee_Lag1',\n",
       " 'airport_fee_Lag24',\n",
       " 'total_amount_Lag168',\n",
       " 'total_amount',\n",
       " 'RatecodeID_Lag1',\n",
       " 'airport_fee',\n",
       " 'airport_fee_Lag168',\n",
       " 'trip_duration_Lag3',\n",
       " 'airport_fee_Lag3',\n",
       " 'RatecodeID_Lag24']"
      ]
     },
     "execution_count": 24,
     "metadata": {},
     "output_type": "execute_result"
    }
   ],
   "source": [
    "#Final Features: features which were selected in atleast 3 models\n",
    "combined_feature_data = combined_feature_data.loc[combined_feature_data['number_of_models'] > 3]\n",
    "final_features = combined_feature_data.axes[0].tolist()\n",
    "final_features"
   ]
  },
  {
   "cell_type": "code",
   "execution_count": 25,
   "id": "cf32bc69",
   "metadata": {
    "ExecuteTime": {
     "end_time": "2022-05-23T14:32:03.620945Z",
     "start_time": "2022-05-23T14:32:03.595949Z"
    },
    "colab": {
     "base_uri": "https://localhost:8080/",
     "height": 632
    },
    "executionInfo": {
     "elapsed": 152,
     "status": "ok",
     "timestamp": 1668970701065,
     "user": {
      "displayName": "Parth Bhatt",
      "userId": "06001564206370072948"
     },
     "user_tz": 300
    },
    "id": "cf32bc69",
    "outputId": "6e58a280-d953-44a0-9e3e-a1d7c98a28bd"
   },
   "outputs": [
    {
     "data": {
      "text/html": [
       "<div>\n",
       "<style scoped>\n",
       "    .dataframe tbody tr th:only-of-type {\n",
       "        vertical-align: middle;\n",
       "    }\n",
       "\n",
       "    .dataframe tbody tr th {\n",
       "        vertical-align: top;\n",
       "    }\n",
       "\n",
       "    .dataframe thead th {\n",
       "        text-align: right;\n",
       "    }\n",
       "</style>\n",
       "<table border=\"1\" class=\"dataframe\">\n",
       "  <thead>\n",
       "    <tr style=\"text-align: right;\">\n",
       "      <th></th>\n",
       "      <th>total_amount</th>\n",
       "      <th>airport_fee</th>\n",
       "      <th>total_amount_Lag1</th>\n",
       "      <th>airport_fee_Lag1</th>\n",
       "      <th>RatecodeID_Lag1</th>\n",
       "      <th>airport_fee_Lag3</th>\n",
       "      <th>trip_duration_Lag3</th>\n",
       "      <th>total_amount_Lag24</th>\n",
       "      <th>airport_fee_Lag24</th>\n",
       "      <th>RatecodeID_Lag24</th>\n",
       "      <th>total_amount_Lag168</th>\n",
       "      <th>airport_fee_Lag168</th>\n",
       "      <th>RatecodeID_Lag168</th>\n",
       "    </tr>\n",
       "    <tr>\n",
       "      <th>pickup_time</th>\n",
       "      <th></th>\n",
       "      <th></th>\n",
       "      <th></th>\n",
       "      <th></th>\n",
       "      <th></th>\n",
       "      <th></th>\n",
       "      <th></th>\n",
       "      <th></th>\n",
       "      <th></th>\n",
       "      <th></th>\n",
       "      <th></th>\n",
       "      <th></th>\n",
       "      <th></th>\n",
       "    </tr>\n",
       "  </thead>\n",
       "  <tbody>\n",
       "    <tr>\n",
       "      <th>2022-01-08 00:00:00</th>\n",
       "      <td>50.781069</td>\n",
       "      <td>1.163522</td>\n",
       "      <td>53.125542</td>\n",
       "      <td>1.189759</td>\n",
       "      <td>1.0</td>\n",
       "      <td>1.208054</td>\n",
       "      <td>1675.000000</td>\n",
       "      <td>51.361316</td>\n",
       "      <td>1.184211</td>\n",
       "      <td>1.0</td>\n",
       "      <td>53.578204</td>\n",
       "      <td>1.220060</td>\n",
       "      <td>1.0</td>\n",
       "    </tr>\n",
       "    <tr>\n",
       "      <th>2022-01-08 01:00:00</th>\n",
       "      <td>45.585857</td>\n",
       "      <td>1.214286</td>\n",
       "      <td>50.781069</td>\n",
       "      <td>1.163522</td>\n",
       "      <td>1.0</td>\n",
       "      <td>1.164021</td>\n",
       "      <td>1746.867725</td>\n",
       "      <td>53.717576</td>\n",
       "      <td>1.250000</td>\n",
       "      <td>1.0</td>\n",
       "      <td>54.111359</td>\n",
       "      <td>1.189320</td>\n",
       "      <td>1.0</td>\n",
       "    </tr>\n",
       "    <tr>\n",
       "      <th>2022-01-08 02:00:00</th>\n",
       "      <td>47.696226</td>\n",
       "      <td>1.108491</td>\n",
       "      <td>45.585857</td>\n",
       "      <td>1.214286</td>\n",
       "      <td>1.0</td>\n",
       "      <td>1.189759</td>\n",
       "      <td>1665.590361</td>\n",
       "      <td>39.392500</td>\n",
       "      <td>1.250000</td>\n",
       "      <td>1.0</td>\n",
       "      <td>46.714783</td>\n",
       "      <td>1.222826</td>\n",
       "      <td>1.0</td>\n",
       "    </tr>\n",
       "    <tr>\n",
       "      <th>2022-01-08 03:00:00</th>\n",
       "      <td>44.716000</td>\n",
       "      <td>1.125000</td>\n",
       "      <td>47.696226</td>\n",
       "      <td>1.108491</td>\n",
       "      <td>1.0</td>\n",
       "      <td>1.163522</td>\n",
       "      <td>1554.811321</td>\n",
       "      <td>38.555000</td>\n",
       "      <td>1.250000</td>\n",
       "      <td>1.0</td>\n",
       "      <td>46.470294</td>\n",
       "      <td>1.213235</td>\n",
       "      <td>1.0</td>\n",
       "    </tr>\n",
       "    <tr>\n",
       "      <th>2022-01-08 04:00:00</th>\n",
       "      <td>30.252500</td>\n",
       "      <td>1.250000</td>\n",
       "      <td>44.716000</td>\n",
       "      <td>1.125000</td>\n",
       "      <td>1.0</td>\n",
       "      <td>1.214286</td>\n",
       "      <td>1414.992857</td>\n",
       "      <td>39.522857</td>\n",
       "      <td>1.071429</td>\n",
       "      <td>1.0</td>\n",
       "      <td>51.236429</td>\n",
       "      <td>0.982143</td>\n",
       "      <td>1.0</td>\n",
       "    </tr>\n",
       "    <tr>\n",
       "      <th>2022-01-08 05:00:00</th>\n",
       "      <td>56.537347</td>\n",
       "      <td>1.122449</td>\n",
       "      <td>30.252500</td>\n",
       "      <td>1.250000</td>\n",
       "      <td>1.0</td>\n",
       "      <td>1.108491</td>\n",
       "      <td>1343.245283</td>\n",
       "      <td>48.049643</td>\n",
       "      <td>1.250000</td>\n",
       "      <td>1.0</td>\n",
       "      <td>59.016098</td>\n",
       "      <td>1.219512</td>\n",
       "      <td>1.0</td>\n",
       "    </tr>\n",
       "    <tr>\n",
       "      <th>2022-01-08 06:00:00</th>\n",
       "      <td>57.799107</td>\n",
       "      <td>1.171875</td>\n",
       "      <td>56.537347</td>\n",
       "      <td>1.122449</td>\n",
       "      <td>1.0</td>\n",
       "      <td>1.125000</td>\n",
       "      <td>1520.750000</td>\n",
       "      <td>53.629818</td>\n",
       "      <td>1.227273</td>\n",
       "      <td>1.0</td>\n",
       "      <td>58.403387</td>\n",
       "      <td>1.168033</td>\n",
       "      <td>2.0</td>\n",
       "    </tr>\n",
       "    <tr>\n",
       "      <th>2022-01-08 07:00:00</th>\n",
       "      <td>56.088902</td>\n",
       "      <td>1.157407</td>\n",
       "      <td>57.799107</td>\n",
       "      <td>1.171875</td>\n",
       "      <td>1.0</td>\n",
       "      <td>1.250000</td>\n",
       "      <td>945.000000</td>\n",
       "      <td>52.868780</td>\n",
       "      <td>1.158537</td>\n",
       "      <td>1.0</td>\n",
       "      <td>53.367600</td>\n",
       "      <td>1.216667</td>\n",
       "      <td>1.0</td>\n",
       "    </tr>\n",
       "    <tr>\n",
       "      <th>2022-01-08 08:00:00</th>\n",
       "      <td>58.085306</td>\n",
       "      <td>1.211340</td>\n",
       "      <td>56.088902</td>\n",
       "      <td>1.157407</td>\n",
       "      <td>2.0</td>\n",
       "      <td>1.122449</td>\n",
       "      <td>1584.857143</td>\n",
       "      <td>52.937708</td>\n",
       "      <td>1.184896</td>\n",
       "      <td>1.0</td>\n",
       "      <td>59.468737</td>\n",
       "      <td>1.171053</td>\n",
       "      <td>2.0</td>\n",
       "    </tr>\n",
       "    <tr>\n",
       "      <th>2022-01-08 09:00:00</th>\n",
       "      <td>58.212344</td>\n",
       "      <td>1.250000</td>\n",
       "      <td>58.085306</td>\n",
       "      <td>1.211340</td>\n",
       "      <td>2.0</td>\n",
       "      <td>1.171875</td>\n",
       "      <td>1596.133929</td>\n",
       "      <td>49.320439</td>\n",
       "      <td>1.205752</td>\n",
       "      <td>1.0</td>\n",
       "      <td>58.162286</td>\n",
       "      <td>1.201923</td>\n",
       "      <td>1.0</td>\n",
       "    </tr>\n",
       "  </tbody>\n",
       "</table>\n",
       "</div>"
      ],
      "text/plain": [
       "                     total_amount  airport_fee  total_amount_Lag1  \\\n",
       "pickup_time                                                         \n",
       "2022-01-08 00:00:00     50.781069     1.163522          53.125542   \n",
       "2022-01-08 01:00:00     45.585857     1.214286          50.781069   \n",
       "2022-01-08 02:00:00     47.696226     1.108491          45.585857   \n",
       "2022-01-08 03:00:00     44.716000     1.125000          47.696226   \n",
       "2022-01-08 04:00:00     30.252500     1.250000          44.716000   \n",
       "2022-01-08 05:00:00     56.537347     1.122449          30.252500   \n",
       "2022-01-08 06:00:00     57.799107     1.171875          56.537347   \n",
       "2022-01-08 07:00:00     56.088902     1.157407          57.799107   \n",
       "2022-01-08 08:00:00     58.085306     1.211340          56.088902   \n",
       "2022-01-08 09:00:00     58.212344     1.250000          58.085306   \n",
       "\n",
       "                     airport_fee_Lag1  RatecodeID_Lag1  airport_fee_Lag3  \\\n",
       "pickup_time                                                                \n",
       "2022-01-08 00:00:00          1.189759              1.0          1.208054   \n",
       "2022-01-08 01:00:00          1.163522              1.0          1.164021   \n",
       "2022-01-08 02:00:00          1.214286              1.0          1.189759   \n",
       "2022-01-08 03:00:00          1.108491              1.0          1.163522   \n",
       "2022-01-08 04:00:00          1.125000              1.0          1.214286   \n",
       "2022-01-08 05:00:00          1.250000              1.0          1.108491   \n",
       "2022-01-08 06:00:00          1.122449              1.0          1.125000   \n",
       "2022-01-08 07:00:00          1.171875              1.0          1.250000   \n",
       "2022-01-08 08:00:00          1.157407              2.0          1.122449   \n",
       "2022-01-08 09:00:00          1.211340              2.0          1.171875   \n",
       "\n",
       "                     trip_duration_Lag3  total_amount_Lag24  \\\n",
       "pickup_time                                                   \n",
       "2022-01-08 00:00:00         1675.000000           51.361316   \n",
       "2022-01-08 01:00:00         1746.867725           53.717576   \n",
       "2022-01-08 02:00:00         1665.590361           39.392500   \n",
       "2022-01-08 03:00:00         1554.811321           38.555000   \n",
       "2022-01-08 04:00:00         1414.992857           39.522857   \n",
       "2022-01-08 05:00:00         1343.245283           48.049643   \n",
       "2022-01-08 06:00:00         1520.750000           53.629818   \n",
       "2022-01-08 07:00:00          945.000000           52.868780   \n",
       "2022-01-08 08:00:00         1584.857143           52.937708   \n",
       "2022-01-08 09:00:00         1596.133929           49.320439   \n",
       "\n",
       "                     airport_fee_Lag24  RatecodeID_Lag24  total_amount_Lag168  \\\n",
       "pickup_time                                                                     \n",
       "2022-01-08 00:00:00           1.184211               1.0            53.578204   \n",
       "2022-01-08 01:00:00           1.250000               1.0            54.111359   \n",
       "2022-01-08 02:00:00           1.250000               1.0            46.714783   \n",
       "2022-01-08 03:00:00           1.250000               1.0            46.470294   \n",
       "2022-01-08 04:00:00           1.071429               1.0            51.236429   \n",
       "2022-01-08 05:00:00           1.250000               1.0            59.016098   \n",
       "2022-01-08 06:00:00           1.227273               1.0            58.403387   \n",
       "2022-01-08 07:00:00           1.158537               1.0            53.367600   \n",
       "2022-01-08 08:00:00           1.184896               1.0            59.468737   \n",
       "2022-01-08 09:00:00           1.205752               1.0            58.162286   \n",
       "\n",
       "                     airport_fee_Lag168  RatecodeID_Lag168  \n",
       "pickup_time                                                 \n",
       "2022-01-08 00:00:00            1.220060                1.0  \n",
       "2022-01-08 01:00:00            1.189320                1.0  \n",
       "2022-01-08 02:00:00            1.222826                1.0  \n",
       "2022-01-08 03:00:00            1.213235                1.0  \n",
       "2022-01-08 04:00:00            0.982143                1.0  \n",
       "2022-01-08 05:00:00            1.219512                1.0  \n",
       "2022-01-08 06:00:00            1.168033                2.0  \n",
       "2022-01-08 07:00:00            1.216667                1.0  \n",
       "2022-01-08 08:00:00            1.171053                2.0  \n",
       "2022-01-08 09:00:00            1.201923                1.0  "
      ]
     },
     "execution_count": 25,
     "metadata": {},
     "output_type": "execute_result"
    }
   ],
   "source": [
    "# Final Master Data on Selected Features\n",
    "features = predictors[predictors.columns.intersection(final_features)]\n",
    "features_date =  df2.iloc[168:,-1]\n",
    "features_final = features.set_index(features_date)\n",
    "features_final.head(10)"
   ]
  },
  {
   "cell_type": "code",
   "execution_count": 26,
   "id": "14dd180f",
   "metadata": {
    "ExecuteTime": {
     "end_time": "2022-05-23T14:32:24.188967Z",
     "start_time": "2022-05-23T14:32:24.173965Z"
    },
    "colab": {
     "base_uri": "https://localhost:8080/"
    },
    "executionInfo": {
     "elapsed": 120,
     "status": "ok",
     "timestamp": 1668970704058,
     "user": {
      "displayName": "Parth Bhatt",
      "userId": "06001564206370072948"
     },
     "user_tz": 300
    },
    "id": "14dd180f",
    "outputId": "20855607-9832-40be-b276-1d9f6ff8fac0"
   },
   "outputs": [
    {
     "data": {
      "text/plain": [
       "pickup_time\n",
       "2022-06-30 19:00:00    269\n",
       "2022-06-30 20:00:00    310\n",
       "2022-06-30 21:00:00    374\n",
       "2022-06-30 22:00:00    338\n",
       "2022-06-30 23:00:00    267\n",
       "Name: trips, dtype: int64"
      ]
     },
     "execution_count": 26,
     "metadata": {},
     "output_type": "execute_result"
    }
   ],
   "source": [
    "# Final Target Variable Dataset\n",
    "target_final = pd.Series(df_series['trips'], index= df_series.index).iloc[168:,]\n",
    "target_final.tail(5)"
   ]
  },
  {
   "cell_type": "code",
   "execution_count": 27,
   "id": "9e6b5810",
   "metadata": {
    "colab": {
     "base_uri": "https://localhost:8080/",
     "height": 388
    },
    "executionInfo": {
     "elapsed": 128,
     "status": "ok",
     "timestamp": 1668970705542,
     "user": {
      "displayName": "Parth Bhatt",
      "userId": "06001564206370072948"
     },
     "user_tz": 300
    },
    "id": "9e6b5810",
    "outputId": "8b9fdf2d-3b42-4dcb-c611-7050570e1ba5"
   },
   "outputs": [
    {
     "data": {
      "text/html": [
       "<div>\n",
       "<style scoped>\n",
       "    .dataframe tbody tr th:only-of-type {\n",
       "        vertical-align: middle;\n",
       "    }\n",
       "\n",
       "    .dataframe tbody tr th {\n",
       "        vertical-align: top;\n",
       "    }\n",
       "\n",
       "    .dataframe thead th {\n",
       "        text-align: right;\n",
       "    }\n",
       "</style>\n",
       "<table border=\"1\" class=\"dataframe\">\n",
       "  <thead>\n",
       "    <tr style=\"text-align: right;\">\n",
       "      <th></th>\n",
       "      <th>total_amount</th>\n",
       "      <th>airport_fee</th>\n",
       "      <th>total_amount_Lag1</th>\n",
       "      <th>airport_fee_Lag1</th>\n",
       "      <th>RatecodeID_Lag1</th>\n",
       "      <th>airport_fee_Lag3</th>\n",
       "      <th>trip_duration_Lag3</th>\n",
       "      <th>total_amount_Lag24</th>\n",
       "      <th>airport_fee_Lag24</th>\n",
       "      <th>RatecodeID_Lag24</th>\n",
       "      <th>total_amount_Lag168</th>\n",
       "      <th>airport_fee_Lag168</th>\n",
       "      <th>RatecodeID_Lag168</th>\n",
       "    </tr>\n",
       "    <tr>\n",
       "      <th>pickup_time</th>\n",
       "      <th></th>\n",
       "      <th></th>\n",
       "      <th></th>\n",
       "      <th></th>\n",
       "      <th></th>\n",
       "      <th></th>\n",
       "      <th></th>\n",
       "      <th></th>\n",
       "      <th></th>\n",
       "      <th></th>\n",
       "      <th></th>\n",
       "      <th></th>\n",
       "      <th></th>\n",
       "    </tr>\n",
       "  </thead>\n",
       "  <tbody>\n",
       "    <tr>\n",
       "      <th>2022-06-30 19:00:00</th>\n",
       "      <td>61.643086</td>\n",
       "      <td>1.184944</td>\n",
       "      <td>60.564038</td>\n",
       "      <td>1.165865</td>\n",
       "      <td>1.0</td>\n",
       "      <td>1.200980</td>\n",
       "      <td>3288.192737</td>\n",
       "      <td>61.268679</td>\n",
       "      <td>1.186909</td>\n",
       "      <td>2.0</td>\n",
       "      <td>67.572234</td>\n",
       "      <td>1.159759</td>\n",
       "      <td>2.0</td>\n",
       "    </tr>\n",
       "    <tr>\n",
       "      <th>2022-06-30 20:00:00</th>\n",
       "      <td>58.860839</td>\n",
       "      <td>1.193182</td>\n",
       "      <td>61.643086</td>\n",
       "      <td>1.184944</td>\n",
       "      <td>2.0</td>\n",
       "      <td>1.197581</td>\n",
       "      <td>3351.394231</td>\n",
       "      <td>59.233865</td>\n",
       "      <td>1.191950</td>\n",
       "      <td>2.0</td>\n",
       "      <td>60.099526</td>\n",
       "      <td>1.180556</td>\n",
       "      <td>2.0</td>\n",
       "    </tr>\n",
       "    <tr>\n",
       "      <th>2022-06-30 21:00:00</th>\n",
       "      <td>60.327754</td>\n",
       "      <td>1.202957</td>\n",
       "      <td>58.860839</td>\n",
       "      <td>1.193182</td>\n",
       "      <td>2.0</td>\n",
       "      <td>1.165865</td>\n",
       "      <td>2837.076923</td>\n",
       "      <td>59.878709</td>\n",
       "      <td>1.212349</td>\n",
       "      <td>2.0</td>\n",
       "      <td>59.049942</td>\n",
       "      <td>1.195494</td>\n",
       "      <td>2.0</td>\n",
       "    </tr>\n",
       "    <tr>\n",
       "      <th>2022-06-30 22:00:00</th>\n",
       "      <td>57.951391</td>\n",
       "      <td>1.194527</td>\n",
       "      <td>60.327754</td>\n",
       "      <td>1.202957</td>\n",
       "      <td>2.0</td>\n",
       "      <td>1.184944</td>\n",
       "      <td>2500.033457</td>\n",
       "      <td>58.603613</td>\n",
       "      <td>1.199422</td>\n",
       "      <td>2.0</td>\n",
       "      <td>58.937138</td>\n",
       "      <td>1.172601</td>\n",
       "      <td>2.0</td>\n",
       "    </tr>\n",
       "    <tr>\n",
       "      <th>2022-06-30 23:00:00</th>\n",
       "      <td>57.517715</td>\n",
       "      <td>1.193609</td>\n",
       "      <td>57.951391</td>\n",
       "      <td>1.194527</td>\n",
       "      <td>2.0</td>\n",
       "      <td>1.193182</td>\n",
       "      <td>2283.764516</td>\n",
       "      <td>58.501615</td>\n",
       "      <td>1.211340</td>\n",
       "      <td>2.0</td>\n",
       "      <td>59.526502</td>\n",
       "      <td>1.174645</td>\n",
       "      <td>2.0</td>\n",
       "    </tr>\n",
       "  </tbody>\n",
       "</table>\n",
       "</div>"
      ],
      "text/plain": [
       "                     total_amount  airport_fee  total_amount_Lag1  \\\n",
       "pickup_time                                                         \n",
       "2022-06-30 19:00:00     61.643086     1.184944          60.564038   \n",
       "2022-06-30 20:00:00     58.860839     1.193182          61.643086   \n",
       "2022-06-30 21:00:00     60.327754     1.202957          58.860839   \n",
       "2022-06-30 22:00:00     57.951391     1.194527          60.327754   \n",
       "2022-06-30 23:00:00     57.517715     1.193609          57.951391   \n",
       "\n",
       "                     airport_fee_Lag1  RatecodeID_Lag1  airport_fee_Lag3  \\\n",
       "pickup_time                                                                \n",
       "2022-06-30 19:00:00          1.165865              1.0          1.200980   \n",
       "2022-06-30 20:00:00          1.184944              2.0          1.197581   \n",
       "2022-06-30 21:00:00          1.193182              2.0          1.165865   \n",
       "2022-06-30 22:00:00          1.202957              2.0          1.184944   \n",
       "2022-06-30 23:00:00          1.194527              2.0          1.193182   \n",
       "\n",
       "                     trip_duration_Lag3  total_amount_Lag24  \\\n",
       "pickup_time                                                   \n",
       "2022-06-30 19:00:00         3288.192737           61.268679   \n",
       "2022-06-30 20:00:00         3351.394231           59.233865   \n",
       "2022-06-30 21:00:00         2837.076923           59.878709   \n",
       "2022-06-30 22:00:00         2500.033457           58.603613   \n",
       "2022-06-30 23:00:00         2283.764516           58.501615   \n",
       "\n",
       "                     airport_fee_Lag24  RatecodeID_Lag24  total_amount_Lag168  \\\n",
       "pickup_time                                                                     \n",
       "2022-06-30 19:00:00           1.186909               2.0            67.572234   \n",
       "2022-06-30 20:00:00           1.191950               2.0            60.099526   \n",
       "2022-06-30 21:00:00           1.212349               2.0            59.049942   \n",
       "2022-06-30 22:00:00           1.199422               2.0            58.937138   \n",
       "2022-06-30 23:00:00           1.211340               2.0            59.526502   \n",
       "\n",
       "                     airport_fee_Lag168  RatecodeID_Lag168  \n",
       "pickup_time                                                 \n",
       "2022-06-30 19:00:00            1.159759                2.0  \n",
       "2022-06-30 20:00:00            1.180556                2.0  \n",
       "2022-06-30 21:00:00            1.195494                2.0  \n",
       "2022-06-30 22:00:00            1.172601                2.0  \n",
       "2022-06-30 23:00:00            1.174645                2.0  "
      ]
     },
     "execution_count": 27,
     "metadata": {},
     "output_type": "execute_result"
    }
   ],
   "source": [
    "features_final.tail()"
   ]
  },
  {
   "cell_type": "code",
   "execution_count": 28,
   "id": "3e10790b",
   "metadata": {
    "ExecuteTime": {
     "end_time": "2022-05-23T14:34:38.542415Z",
     "start_time": "2022-05-23T14:34:38.444420Z"
    },
    "colab": {
     "base_uri": "https://localhost:8080/"
    },
    "executionInfo": {
     "elapsed": 4089,
     "status": "ok",
     "timestamp": 1668970711340,
     "user": {
      "displayName": "Parth Bhatt",
      "userId": "06001564206370072948"
     },
     "user_tz": 300
    },
    "id": "3e10790b",
    "outputId": "a8b7da88-2006-489e-f7a5-aff270484613",
    "scrolled": false
   },
   "outputs": [
    {
     "name": "stdout",
     "output_type": "stream",
     "text": [
      "    Augmented Dickey-Fuller Test on \"trips\" \n",
      "    -----------------------------------------------\n",
      " Null Hypothesis: Data has unit root. Non-Stationary.\n",
      " Significance Level    = 0.05\n",
      " Test Statistic        = -5.265\n",
      " No. Lags Chosen       = 30\n",
      " Critical value 1%     = -3.432\n",
      " Critical value 5%     = -2.862\n",
      " Critical value 10%    = -2.567\n",
      " => P-Value = 0.0. Rejecting Null Hypothesis.\n",
      " => Series is Stationary.\n",
      "\n",
      "\n",
      "    Augmented Dickey-Fuller Test on \"total_amount\" \n",
      "    -----------------------------------------------\n",
      " Null Hypothesis: Data has unit root. Non-Stationary.\n",
      " Significance Level    = 0.05\n",
      " Test Statistic        = -7.1234\n",
      " No. Lags Chosen       = 31\n",
      " Critical value 1%     = -3.432\n",
      " Critical value 5%     = -2.862\n",
      " Critical value 10%    = -2.567\n",
      " => P-Value = 0.0. Rejecting Null Hypothesis.\n",
      " => Series is Stationary.\n",
      "\n",
      "\n",
      "    Augmented Dickey-Fuller Test on \"airport_fee\" \n",
      "    -----------------------------------------------\n",
      " Null Hypothesis: Data has unit root. Non-Stationary.\n",
      " Significance Level    = 0.05\n",
      " Test Statistic        = -8.42\n",
      " No. Lags Chosen       = 27\n",
      " Critical value 1%     = -3.432\n",
      " Critical value 5%     = -2.862\n",
      " Critical value 10%    = -2.567\n",
      " => P-Value = 0.0. Rejecting Null Hypothesis.\n",
      " => Series is Stationary.\n",
      "\n",
      "\n",
      "    Augmented Dickey-Fuller Test on \"total_amount_Lag1\" \n",
      "    -----------------------------------------------\n",
      " Null Hypothesis: Data has unit root. Non-Stationary.\n",
      " Significance Level    = 0.05\n",
      " Test Statistic        = -7.1203\n",
      " No. Lags Chosen       = 31\n",
      " Critical value 1%     = -3.432\n",
      " Critical value 5%     = -2.862\n",
      " Critical value 10%    = -2.567\n",
      " => P-Value = 0.0. Rejecting Null Hypothesis.\n",
      " => Series is Stationary.\n",
      "\n",
      "\n",
      "    Augmented Dickey-Fuller Test on \"airport_fee_Lag1\" \n",
      "    -----------------------------------------------\n",
      " Null Hypothesis: Data has unit root. Non-Stationary.\n",
      " Significance Level    = 0.05\n",
      " Test Statistic        = -8.3976\n",
      " No. Lags Chosen       = 27\n",
      " Critical value 1%     = -3.432\n",
      " Critical value 5%     = -2.862\n",
      " Critical value 10%    = -2.567\n",
      " => P-Value = 0.0. Rejecting Null Hypothesis.\n",
      " => Series is Stationary.\n",
      "\n",
      "\n",
      "    Augmented Dickey-Fuller Test on \"RatecodeID_Lag1\" \n",
      "    -----------------------------------------------\n",
      " Null Hypothesis: Data has unit root. Non-Stationary.\n",
      " Significance Level    = 0.05\n",
      " Test Statistic        = -5.2569\n",
      " No. Lags Chosen       = 30\n",
      " Critical value 1%     = -3.432\n",
      " Critical value 5%     = -2.862\n",
      " Critical value 10%    = -2.567\n",
      " => P-Value = 0.0. Rejecting Null Hypothesis.\n",
      " => Series is Stationary.\n",
      "\n",
      "\n",
      "    Augmented Dickey-Fuller Test on \"airport_fee_Lag3\" \n",
      "    -----------------------------------------------\n",
      " Null Hypothesis: Data has unit root. Non-Stationary.\n",
      " Significance Level    = 0.05\n",
      " Test Statistic        = -8.3901\n",
      " No. Lags Chosen       = 27\n",
      " Critical value 1%     = -3.432\n",
      " Critical value 5%     = -2.862\n",
      " Critical value 10%    = -2.567\n",
      " => P-Value = 0.0. Rejecting Null Hypothesis.\n",
      " => Series is Stationary.\n",
      "\n",
      "\n",
      "    Augmented Dickey-Fuller Test on \"trip_duration_Lag3\" \n",
      "    -----------------------------------------------\n",
      " Null Hypothesis: Data has unit root. Non-Stationary.\n",
      " Significance Level    = 0.05\n",
      " Test Statistic        = -6.1067\n",
      " No. Lags Chosen       = 28\n",
      " Critical value 1%     = -3.432\n",
      " Critical value 5%     = -2.862\n",
      " Critical value 10%    = -2.567\n",
      " => P-Value = 0.0. Rejecting Null Hypothesis.\n",
      " => Series is Stationary.\n",
      "\n",
      "\n",
      "    Augmented Dickey-Fuller Test on \"total_amount_Lag24\" \n",
      "    -----------------------------------------------\n",
      " Null Hypothesis: Data has unit root. Non-Stationary.\n",
      " Significance Level    = 0.05\n",
      " Test Statistic        = -7.0661\n",
      " No. Lags Chosen       = 31\n",
      " Critical value 1%     = -3.432\n",
      " Critical value 5%     = -2.862\n",
      " Critical value 10%    = -2.567\n",
      " => P-Value = 0.0. Rejecting Null Hypothesis.\n",
      " => Series is Stationary.\n",
      "\n",
      "\n",
      "    Augmented Dickey-Fuller Test on \"airport_fee_Lag24\" \n",
      "    -----------------------------------------------\n",
      " Null Hypothesis: Data has unit root. Non-Stationary.\n",
      " Significance Level    = 0.05\n",
      " Test Statistic        = -8.4356\n",
      " No. Lags Chosen       = 27\n",
      " Critical value 1%     = -3.432\n",
      " Critical value 5%     = -2.862\n",
      " Critical value 10%    = -2.567\n",
      " => P-Value = 0.0. Rejecting Null Hypothesis.\n",
      " => Series is Stationary.\n",
      "\n",
      "\n",
      "    Augmented Dickey-Fuller Test on \"RatecodeID_Lag24\" \n",
      "    -----------------------------------------------\n",
      " Null Hypothesis: Data has unit root. Non-Stationary.\n",
      " Significance Level    = 0.05\n",
      " Test Statistic        = -5.4897\n",
      " No. Lags Chosen       = 30\n",
      " Critical value 1%     = -3.432\n",
      " Critical value 5%     = -2.862\n",
      " Critical value 10%    = -2.567\n",
      " => P-Value = 0.0. Rejecting Null Hypothesis.\n",
      " => Series is Stationary.\n",
      "\n",
      "\n",
      "    Augmented Dickey-Fuller Test on \"total_amount_Lag168\" \n",
      "    -----------------------------------------------\n",
      " Null Hypothesis: Data has unit root. Non-Stationary.\n",
      " Significance Level    = 0.05\n",
      " Test Statistic        = -6.7336\n",
      " No. Lags Chosen       = 31\n",
      " Critical value 1%     = -3.432\n",
      " Critical value 5%     = -2.862\n",
      " Critical value 10%    = -2.567\n",
      " => P-Value = 0.0. Rejecting Null Hypothesis.\n",
      " => Series is Stationary.\n",
      "\n",
      "\n",
      "    Augmented Dickey-Fuller Test on \"airport_fee_Lag168\" \n",
      "    -----------------------------------------------\n",
      " Null Hypothesis: Data has unit root. Non-Stationary.\n",
      " Significance Level    = 0.05\n",
      " Test Statistic        = -8.5266\n",
      " No. Lags Chosen       = 27\n",
      " Critical value 1%     = -3.432\n",
      " Critical value 5%     = -2.862\n",
      " Critical value 10%    = -2.567\n",
      " => P-Value = 0.0. Rejecting Null Hypothesis.\n",
      " => Series is Stationary.\n",
      "\n",
      "\n",
      "    Augmented Dickey-Fuller Test on \"RatecodeID_Lag168\" \n",
      "    -----------------------------------------------\n",
      " Null Hypothesis: Data has unit root. Non-Stationary.\n",
      " Significance Level    = 0.05\n",
      " Test Statistic        = -4.9161\n",
      " No. Lags Chosen       = 30\n",
      " Critical value 1%     = -3.432\n",
      " Critical value 5%     = -2.862\n",
      " Critical value 10%    = -2.567\n",
      " => P-Value = 0.0. Rejecting Null Hypothesis.\n",
      " => Series is Stationary.\n",
      "\n",
      "\n"
     ]
    }
   ],
   "source": [
    "# Data Prep\n",
    "AI_Model_data = pd.concat([Target, features_final], axis=1, sort=False)\n",
    "\n",
    "# Check stationarity\n",
    "\n",
    "# ADF Test on each column\n",
    "for name, column in AI_Model_data.iteritems():\n",
    "    adfuller_test(column, name=column.name)\n",
    "    print('\\n')"
   ]
  },
  {
   "cell_type": "code",
   "execution_count": 29,
   "id": "6603dcb6",
   "metadata": {
    "ExecuteTime": {
     "end_time": "2022-05-23T14:34:42.587090Z",
     "start_time": "2022-05-23T14:34:42.420497Z"
    },
    "executionInfo": {
     "elapsed": 7,
     "status": "ok",
     "timestamp": 1668970711340,
     "user": {
      "displayName": "Parth Bhatt",
      "userId": "06001564206370072948"
     },
     "user_tz": 300
    },
    "id": "6603dcb6",
    "scrolled": false
   },
   "outputs": [],
   "source": [
    "x = AI_Model_data.values #returns a numpy array\n",
    "\n",
    "# Standardise Datasets\n",
    "standard_scaler = StandardScaler()\n",
    "x_scaled = standard_scaler.fit_transform(x)\n",
    "scaled_AI_Model_data = pd.DataFrame(x_scaled)\n",
    "scaled_AI_Model_data.columns = AI_Model_data.columns\n",
    "scaled_AI_Model_data.index = AI_Model_data.index"
   ]
  },
  {
   "cell_type": "code",
   "execution_count": 30,
   "id": "368de765",
   "metadata": {
    "ExecuteTime": {
     "end_time": "2022-05-23T14:34:46.660489Z",
     "start_time": "2022-05-23T14:34:46.637490Z"
    },
    "colab": {
     "base_uri": "https://localhost:8080/",
     "height": 693
    },
    "executionInfo": {
     "elapsed": 122,
     "status": "ok",
     "timestamp": 1668970713485,
     "user": {
      "displayName": "Parth Bhatt",
      "userId": "06001564206370072948"
     },
     "user_tz": 300
    },
    "id": "368de765",
    "outputId": "b0a449c2-1122-462b-cba0-e95e988bde4c"
   },
   "outputs": [
    {
     "data": {
      "text/html": [
       "<div>\n",
       "<style scoped>\n",
       "    .dataframe tbody tr th:only-of-type {\n",
       "        vertical-align: middle;\n",
       "    }\n",
       "\n",
       "    .dataframe tbody tr th {\n",
       "        vertical-align: top;\n",
       "    }\n",
       "\n",
       "    .dataframe thead th {\n",
       "        text-align: right;\n",
       "    }\n",
       "</style>\n",
       "<table border=\"1\" class=\"dataframe\">\n",
       "  <thead>\n",
       "    <tr style=\"text-align: right;\">\n",
       "      <th></th>\n",
       "      <th>total_amount</th>\n",
       "      <th>airport_fee</th>\n",
       "      <th>total_amount_Lag1</th>\n",
       "      <th>airport_fee_Lag1</th>\n",
       "      <th>RatecodeID_Lag1</th>\n",
       "      <th>airport_fee_Lag3</th>\n",
       "      <th>trip_duration_Lag3</th>\n",
       "      <th>total_amount_Lag24</th>\n",
       "      <th>airport_fee_Lag24</th>\n",
       "      <th>RatecodeID_Lag24</th>\n",
       "      <th>total_amount_Lag168</th>\n",
       "      <th>airport_fee_Lag168</th>\n",
       "      <th>RatecodeID_Lag168</th>\n",
       "    </tr>\n",
       "    <tr>\n",
       "      <th>pickup_time</th>\n",
       "      <th></th>\n",
       "      <th></th>\n",
       "      <th></th>\n",
       "      <th></th>\n",
       "      <th></th>\n",
       "      <th></th>\n",
       "      <th></th>\n",
       "      <th></th>\n",
       "      <th></th>\n",
       "      <th></th>\n",
       "      <th></th>\n",
       "      <th></th>\n",
       "      <th></th>\n",
       "    </tr>\n",
       "  </thead>\n",
       "  <tbody>\n",
       "    <tr>\n",
       "      <th>2022-01-08 00:00:00</th>\n",
       "      <td>-1.314351</td>\n",
       "      <td>-0.716758</td>\n",
       "      <td>-0.918413</td>\n",
       "      <td>0.044482</td>\n",
       "      <td>-1.478084</td>\n",
       "      <td>0.575399</td>\n",
       "      <td>-0.873944</td>\n",
       "      <td>-1.206917</td>\n",
       "      <td>-0.115810</td>\n",
       "      <td>-1.469900</td>\n",
       "      <td>-0.822973</td>\n",
       "      <td>0.899060</td>\n",
       "      <td>-1.428571</td>\n",
       "    </tr>\n",
       "    <tr>\n",
       "      <th>2022-01-08 01:00:00</th>\n",
       "      <td>-2.191135</td>\n",
       "      <td>0.756045</td>\n",
       "      <td>-1.314046</td>\n",
       "      <td>-0.716733</td>\n",
       "      <td>-1.478084</td>\n",
       "      <td>-0.702023</td>\n",
       "      <td>-0.776528</td>\n",
       "      <td>-0.810855</td>\n",
       "      <td>1.786561</td>\n",
       "      <td>-1.469900</td>\n",
       "      <td>-0.732963</td>\n",
       "      <td>0.036778</td>\n",
       "      <td>-1.428571</td>\n",
       "    </tr>\n",
       "    <tr>\n",
       "      <th>2022-01-08 02:00:00</th>\n",
       "      <td>-1.834973</td>\n",
       "      <td>-2.313380</td>\n",
       "      <td>-2.190744</td>\n",
       "      <td>0.756074</td>\n",
       "      <td>-1.478084</td>\n",
       "      <td>0.044655</td>\n",
       "      <td>-0.886698</td>\n",
       "      <td>-3.218750</td>\n",
       "      <td>1.786561</td>\n",
       "      <td>-1.469900</td>\n",
       "      <td>-1.981684</td>\n",
       "      <td>0.976656</td>\n",
       "      <td>-1.428571</td>\n",
       "    </tr>\n",
       "    <tr>\n",
       "      <th>2022-01-08 03:00:00</th>\n",
       "      <td>-2.337939</td>\n",
       "      <td>-1.834393</td>\n",
       "      <td>-1.834617</td>\n",
       "      <td>-2.313359</td>\n",
       "      <td>-1.478084</td>\n",
       "      <td>-0.716504</td>\n",
       "      <td>-1.036857</td>\n",
       "      <td>-3.359525</td>\n",
       "      <td>1.786561</td>\n",
       "      <td>-1.469900</td>\n",
       "      <td>-2.022960</td>\n",
       "      <td>0.707622</td>\n",
       "      <td>-1.428571</td>\n",
       "    </tr>\n",
       "    <tr>\n",
       "      <th>2022-01-08 04:00:00</th>\n",
       "      <td>-4.778910</td>\n",
       "      <td>1.792221</td>\n",
       "      <td>-2.337534</td>\n",
       "      <td>-1.834371</td>\n",
       "      <td>-1.478084</td>\n",
       "      <td>0.756196</td>\n",
       "      <td>-1.226379</td>\n",
       "      <td>-3.196838</td>\n",
       "      <td>-3.377017</td>\n",
       "      <td>-1.469900</td>\n",
       "      <td>-1.218321</td>\n",
       "      <td>-5.774813</td>\n",
       "      <td>-1.428571</td>\n",
       "    </tr>\n",
       "    <tr>\n",
       "      <th>...</th>\n",
       "      <td>...</td>\n",
       "      <td>...</td>\n",
       "      <td>...</td>\n",
       "      <td>...</td>\n",
       "      <td>...</td>\n",
       "      <td>...</td>\n",
       "      <td>...</td>\n",
       "      <td>...</td>\n",
       "      <td>...</td>\n",
       "      <td>...</td>\n",
       "      <td>...</td>\n",
       "      <td>...</td>\n",
       "      <td>...</td>\n",
       "    </tr>\n",
       "    <tr>\n",
       "      <th>2022-06-30 19:00:00</th>\n",
       "      <td>0.518806</td>\n",
       "      <td>-0.095236</td>\n",
       "      <td>0.336842</td>\n",
       "      <td>-0.648744</td>\n",
       "      <td>-1.478084</td>\n",
       "      <td>0.370197</td>\n",
       "      <td>1.312708</td>\n",
       "      <td>0.458406</td>\n",
       "      <td>-0.037795</td>\n",
       "      <td>0.680318</td>\n",
       "      <td>1.539557</td>\n",
       "      <td>-0.792446</td>\n",
       "      <td>0.700000</td>\n",
       "    </tr>\n",
       "    <tr>\n",
       "      <th>2022-06-30 20:00:00</th>\n",
       "      <td>0.049252</td>\n",
       "      <td>0.143760</td>\n",
       "      <td>0.518933</td>\n",
       "      <td>-0.095210</td>\n",
       "      <td>0.676551</td>\n",
       "      <td>0.271567</td>\n",
       "      <td>1.398376</td>\n",
       "      <td>0.116375</td>\n",
       "      <td>0.107999</td>\n",
       "      <td>0.680318</td>\n",
       "      <td>0.277984</td>\n",
       "      <td>-0.209086</td>\n",
       "      <td>0.700000</td>\n",
       "    </tr>\n",
       "    <tr>\n",
       "      <th>2022-06-30 21:00:00</th>\n",
       "      <td>0.296820</td>\n",
       "      <td>0.427366</td>\n",
       "      <td>0.049425</td>\n",
       "      <td>0.143787</td>\n",
       "      <td>0.676551</td>\n",
       "      <td>-0.648520</td>\n",
       "      <td>0.701229</td>\n",
       "      <td>0.224767</td>\n",
       "      <td>0.697855</td>\n",
       "      <td>0.680318</td>\n",
       "      <td>0.100789</td>\n",
       "      <td>0.209961</td>\n",
       "      <td>0.700000</td>\n",
       "    </tr>\n",
       "    <tr>\n",
       "      <th>2022-06-30 22:00:00</th>\n",
       "      <td>-0.104233</td>\n",
       "      <td>0.182777</td>\n",
       "      <td>0.296969</td>\n",
       "      <td>0.427394</td>\n",
       "      <td>0.676551</td>\n",
       "      <td>-0.095026</td>\n",
       "      <td>0.244373</td>\n",
       "      <td>0.010437</td>\n",
       "      <td>0.324045</td>\n",
       "      <td>0.680318</td>\n",
       "      <td>0.081745</td>\n",
       "      <td>-0.432232</td>\n",
       "      <td>0.700000</td>\n",
       "    </tr>\n",
       "    <tr>\n",
       "      <th>2022-06-30 23:00:00</th>\n",
       "      <td>-0.177423</td>\n",
       "      <td>0.156154</td>\n",
       "      <td>-0.104045</td>\n",
       "      <td>0.182804</td>\n",
       "      <td>0.676551</td>\n",
       "      <td>0.143953</td>\n",
       "      <td>-0.048775</td>\n",
       "      <td>-0.006708</td>\n",
       "      <td>0.668673</td>\n",
       "      <td>0.680318</td>\n",
       "      <td>0.181243</td>\n",
       "      <td>-0.374874</td>\n",
       "      <td>0.700000</td>\n",
       "    </tr>\n",
       "  </tbody>\n",
       "</table>\n",
       "<p>4172 rows × 13 columns</p>\n",
       "</div>"
      ],
      "text/plain": [
       "                     total_amount  airport_fee  total_amount_Lag1  \\\n",
       "pickup_time                                                         \n",
       "2022-01-08 00:00:00     -1.314351    -0.716758          -0.918413   \n",
       "2022-01-08 01:00:00     -2.191135     0.756045          -1.314046   \n",
       "2022-01-08 02:00:00     -1.834973    -2.313380          -2.190744   \n",
       "2022-01-08 03:00:00     -2.337939    -1.834393          -1.834617   \n",
       "2022-01-08 04:00:00     -4.778910     1.792221          -2.337534   \n",
       "...                           ...          ...                ...   \n",
       "2022-06-30 19:00:00      0.518806    -0.095236           0.336842   \n",
       "2022-06-30 20:00:00      0.049252     0.143760           0.518933   \n",
       "2022-06-30 21:00:00      0.296820     0.427366           0.049425   \n",
       "2022-06-30 22:00:00     -0.104233     0.182777           0.296969   \n",
       "2022-06-30 23:00:00     -0.177423     0.156154          -0.104045   \n",
       "\n",
       "                     airport_fee_Lag1  RatecodeID_Lag1  airport_fee_Lag3  \\\n",
       "pickup_time                                                                \n",
       "2022-01-08 00:00:00          0.044482        -1.478084          0.575399   \n",
       "2022-01-08 01:00:00         -0.716733        -1.478084         -0.702023   \n",
       "2022-01-08 02:00:00          0.756074        -1.478084          0.044655   \n",
       "2022-01-08 03:00:00         -2.313359        -1.478084         -0.716504   \n",
       "2022-01-08 04:00:00         -1.834371        -1.478084          0.756196   \n",
       "...                               ...              ...               ...   \n",
       "2022-06-30 19:00:00         -0.648744        -1.478084          0.370197   \n",
       "2022-06-30 20:00:00         -0.095210         0.676551          0.271567   \n",
       "2022-06-30 21:00:00          0.143787         0.676551         -0.648520   \n",
       "2022-06-30 22:00:00          0.427394         0.676551         -0.095026   \n",
       "2022-06-30 23:00:00          0.182804         0.676551          0.143953   \n",
       "\n",
       "                     trip_duration_Lag3  total_amount_Lag24  \\\n",
       "pickup_time                                                   \n",
       "2022-01-08 00:00:00           -0.873944           -1.206917   \n",
       "2022-01-08 01:00:00           -0.776528           -0.810855   \n",
       "2022-01-08 02:00:00           -0.886698           -3.218750   \n",
       "2022-01-08 03:00:00           -1.036857           -3.359525   \n",
       "2022-01-08 04:00:00           -1.226379           -3.196838   \n",
       "...                                 ...                 ...   \n",
       "2022-06-30 19:00:00            1.312708            0.458406   \n",
       "2022-06-30 20:00:00            1.398376            0.116375   \n",
       "2022-06-30 21:00:00            0.701229            0.224767   \n",
       "2022-06-30 22:00:00            0.244373            0.010437   \n",
       "2022-06-30 23:00:00           -0.048775           -0.006708   \n",
       "\n",
       "                     airport_fee_Lag24  RatecodeID_Lag24  total_amount_Lag168  \\\n",
       "pickup_time                                                                     \n",
       "2022-01-08 00:00:00          -0.115810         -1.469900            -0.822973   \n",
       "2022-01-08 01:00:00           1.786561         -1.469900            -0.732963   \n",
       "2022-01-08 02:00:00           1.786561         -1.469900            -1.981684   \n",
       "2022-01-08 03:00:00           1.786561         -1.469900            -2.022960   \n",
       "2022-01-08 04:00:00          -3.377017         -1.469900            -1.218321   \n",
       "...                                ...               ...                  ...   \n",
       "2022-06-30 19:00:00          -0.037795          0.680318             1.539557   \n",
       "2022-06-30 20:00:00           0.107999          0.680318             0.277984   \n",
       "2022-06-30 21:00:00           0.697855          0.680318             0.100789   \n",
       "2022-06-30 22:00:00           0.324045          0.680318             0.081745   \n",
       "2022-06-30 23:00:00           0.668673          0.680318             0.181243   \n",
       "\n",
       "                     airport_fee_Lag168  RatecodeID_Lag168  \n",
       "pickup_time                                                 \n",
       "2022-01-08 00:00:00            0.899060          -1.428571  \n",
       "2022-01-08 01:00:00            0.036778          -1.428571  \n",
       "2022-01-08 02:00:00            0.976656          -1.428571  \n",
       "2022-01-08 03:00:00            0.707622          -1.428571  \n",
       "2022-01-08 04:00:00           -5.774813          -1.428571  \n",
       "...                                 ...                ...  \n",
       "2022-06-30 19:00:00           -0.792446           0.700000  \n",
       "2022-06-30 20:00:00           -0.209086           0.700000  \n",
       "2022-06-30 21:00:00            0.209961           0.700000  \n",
       "2022-06-30 22:00:00           -0.432232           0.700000  \n",
       "2022-06-30 23:00:00           -0.374874           0.700000  \n",
       "\n",
       "[4172 rows x 13 columns]"
      ]
     },
     "execution_count": 30,
     "metadata": {},
     "output_type": "execute_result"
    }
   ],
   "source": [
    "# Separate out target and features\n",
    "scaled_AI_Model_Target = scaled_AI_Model_data.iloc[:,0]\n",
    "scaled_AI_Model_Features = scaled_AI_Model_data.iloc[:,1:]\n",
    "\n",
    "#Mean and Standard Deviation\n",
    "mean_target = AI_Model_data.iloc[:,0].mean()\n",
    "std_target = AI_Model_data.iloc[:,0].std()\n",
    "\n",
    "scaled_AI_Model_Features"
   ]
  },
  {
   "cell_type": "code",
   "execution_count": 31,
   "id": "36b3c71f",
   "metadata": {
    "ExecuteTime": {
     "end_time": "2022-05-23T14:35:33.164349Z",
     "start_time": "2022-05-23T14:35:33.154354Z"
    },
    "colab": {
     "base_uri": "https://localhost:8080/"
    },
    "executionInfo": {
     "elapsed": 138,
     "status": "ok",
     "timestamp": 1668970715951,
     "user": {
      "displayName": "Parth Bhatt",
      "userId": "06001564206370072948"
     },
     "user_tz": 300
    },
    "id": "36b3c71f",
    "outputId": "14806bef-8aec-433e-ad61-edf0694ea8be",
    "scrolled": true
   },
   "outputs": [
    {
     "name": "stdout",
     "output_type": "stream",
     "text": [
      "(4148, 13)\n",
      "(24, 13)\n",
      "(4148,)\n",
      "(24,)\n"
     ]
    }
   ],
   "source": [
    "# Train Test Split\n",
    "\n",
    "nobs = 24\n",
    "features_train, features_test = scaled_AI_Model_Features[0:-nobs], scaled_AI_Model_Features[-nobs:]\n",
    "target_train, target_test = scaled_AI_Model_Target[0:-nobs], scaled_AI_Model_Target[-nobs:]\n",
    "\n",
    "# Check size\n",
    "print(features_train.shape) \n",
    "print(features_test.shape) \n",
    "print(target_train.shape)  \n",
    "print(target_test.shape)"
   ]
  },
  {
   "cell_type": "code",
   "execution_count": 34,
   "id": "ff300ea9",
   "metadata": {
    "executionInfo": {
     "elapsed": 297,
     "status": "ok",
     "timestamp": 1668970718614,
     "user": {
      "displayName": "Parth Bhatt",
      "userId": "06001564206370072948"
     },
     "user_tz": 300
    },
    "id": "ff300ea9"
   },
   "outputs": [],
   "source": [
    "alphas = [0.001, 0.01, 0.1, 0.25, 0.5, 0.75, 1]\n",
    "l1_ratios = [.1, .25, .5, .75, 1]\n",
    "regr = ElasticNetCV(alphas=alphas, l1_ratio=l1_ratios, cv=5)\n",
    "regr.fit(features_train,target_train)\n",
    "y_pred_EN = regr.predict(features_test)"
   ]
  },
  {
   "cell_type": "code",
   "execution_count": 35,
   "id": "cd16a8f7",
   "metadata": {
    "colab": {
     "base_uri": "https://localhost:8080/"
    },
    "executionInfo": {
     "elapsed": 2529902,
     "status": "ok",
     "timestamp": 1668973253560,
     "user": {
      "displayName": "Parth Bhatt",
      "userId": "06001564206370072948"
     },
     "user_tz": 300
    },
    "id": "cd16a8f7",
    "outputId": "6ca495cd-397c-4cb1-aa86-e3a7a2631cde",
    "scrolled": true
   },
   "outputs": [
    {
     "name": "stdout",
     "output_type": "stream",
     "text": [
      "Fitting 5 folds for each of 108 candidates, totalling 540 fits\n"
     ]
    }
   ],
   "source": [
    "param_grid = {\n",
    "    'bootstrap': [True],\n",
    "    'max_depth': [50, 75, 100],\n",
    "    'max_features': [5, 7],\n",
    "    'min_samples_leaf': [3, 4, 5],\n",
    "    'min_samples_split': [5, 10],\n",
    "    'n_estimators': [100, 500, 1000]\n",
    "}\n",
    "# Create a based model\n",
    "rf = RandomForestRegressor()\n",
    "# Instantiate the grid search model\n",
    "grid_search = GridSearchCV(estimator = rf, param_grid = param_grid,  cv = 5, n_jobs = -1, verbose = 2)\n",
    "grid_search.fit(features_train,target_train)\n",
    "y_pred_rf=grid_search.predict(features_test)"
   ]
  },
  {
   "cell_type": "code",
   "execution_count": 36,
   "id": "2aee7012",
   "metadata": {
    "colab": {
     "base_uri": "https://localhost:8080/"
    },
    "executionInfo": {
     "elapsed": 1170910,
     "status": "ok",
     "timestamp": 1668974424466,
     "user": {
      "displayName": "Parth Bhatt",
      "userId": "06001564206370072948"
     },
     "user_tz": 300
    },
    "id": "2aee7012",
    "outputId": "f695314f-146f-40a1-c2ce-26c6a3010630"
   },
   "outputs": [
    {
     "name": "stdout",
     "output_type": "stream",
     "text": [
      "Fitting 5 folds for each of 54 candidates, totalling 270 fits\n",
      "[16:20:35] WARNING: C:\\Windows\\Temp\\abs_557yfx631l\\croots\\recipe\\xgboost-split_1659548953302\\work\\src\\learner.cc:576: \n",
      "Parameters: { \"silent\" } might not be used.\n",
      "\n",
      "  This could be a false alarm, with some parameters getting used by language bindings but\n",
      "  then being mistakenly passed down to XGBoost core, or some parameter actually being used\n",
      "  but getting flagged wrongly here. Please open an issue if you find any such cases.\n",
      "\n",
      "\n"
     ]
    }
   ],
   "source": [
    "xgbr = xgb.XGBRegressor()\n",
    "parameters = {'nthread':[4],\n",
    "              'objective':['reg:squarederror'],\n",
    "              'learning_rate': [.025, 0.05, .075],\n",
    "              'max_depth': [5, 6, 7],\n",
    "              'min_child_weight': [5,6,7],\n",
    "              'silent': [1],\n",
    "              'subsample': [0.7],\n",
    "              'colsample_bytree': [0.5],\n",
    "              'booster':['gbtree'],\n",
    "              'max_delta_step': [0,5],\n",
    "              'n_estimators': [1000]}\n",
    "\n",
    "\n",
    "xgb_grid = GridSearchCV(xgbr,\n",
    "                        parameters,\n",
    "                        cv = 5,\n",
    "                        n_jobs = 5,\n",
    "                        verbose=True, return_train_score=False, refit=True,\n",
    "                        scoring = 'neg_root_mean_squared_error')\n",
    "\n",
    "xgb_grid.fit(features_train, target_train)\n",
    "y_pred_xgb=xgb_grid.predict(features_test)"
   ]
  },
  {
   "cell_type": "code",
   "execution_count": 37,
   "id": "9a8c5993",
   "metadata": {
    "ExecuteTime": {
     "end_time": "2022-05-23T14:49:34.047667Z",
     "start_time": "2022-05-23T14:49:34.017670Z"
    },
    "colab": {
     "base_uri": "https://localhost:8080/"
    },
    "executionInfo": {
     "elapsed": 1047937,
     "status": "ok",
     "timestamp": 1668975472401,
     "user": {
      "displayName": "Parth Bhatt",
      "userId": "06001564206370072948"
     },
     "user_tz": 300
    },
    "id": "9a8c5993",
    "outputId": "4dec34fb-c79e-4a14-f389-023a11a594af"
   },
   "outputs": [
    {
     "name": "stdout",
     "output_type": "stream",
     "text": [
      "Fitting 5 folds for each of 90 candidates, totalling 450 fits\n"
     ]
    }
   ],
   "source": [
    "# SVR\n",
    "svr = SVR(kernel='rbf')\n",
    "parameters = {'C': [1, 5, 10, 50, 100],\n",
    "              'epsilon': [0.001, 0.01, 1],\n",
    "              'gamma': [0.025, 0.05, 0.075, 0.1, 0.5, 1]}\n",
    "\n",
    "\n",
    "svr_grid = GridSearchCV(svr,\n",
    "                        parameters,\n",
    "                        cv = 5,\n",
    "                        n_jobs = 5,\n",
    "                        verbose=True, return_train_score=False, refit=True,\n",
    "                        scoring = 'neg_root_mean_squared_error')\n",
    "\n",
    "svr_grid.fit(features_train, target_train)\n",
    "y_pred_svr=svr_grid.predict(features_test)"
   ]
  },
  {
   "cell_type": "code",
   "execution_count": 38,
   "id": "979b4496",
   "metadata": {
    "ExecuteTime": {
     "end_time": "2022-05-23T14:33:28.779918Z",
     "start_time": "2022-05-23T14:33:28.573027Z"
    },
    "executionInfo": {
     "elapsed": 154,
     "status": "ok",
     "timestamp": 1668975472551,
     "user": {
      "displayName": "Parth Bhatt",
      "userId": "06001564206370072948"
     },
     "user_tz": 300
    },
    "id": "979b4496"
   },
   "outputs": [],
   "source": [
    "# Holt Winter’s Exponential Smoothing (HWES)or Triple Smoothing\n",
    "# fit model\n",
    "\n",
    "random.seed(10)\n",
    "\n",
    "model = ExponentialSmoothing(target_train,seasonal= 'add', seasonal_periods= 24)\n",
    "model_fit = model.fit()\n",
    "# make prediction\n",
    "y_pred_hwes = model_fit.forecast(steps=24).values"
   ]
  },
  {
   "cell_type": "code",
   "execution_count": 39,
   "id": "84b685fb",
   "metadata": {
    "ExecuteTime": {
     "end_time": "2022-05-23T14:38:16.496382Z",
     "start_time": "2022-05-23T14:38:16.402385Z"
    },
    "executionInfo": {
     "elapsed": 165,
     "status": "ok",
     "timestamp": 1668976526648,
     "user": {
      "displayName": "Parth Bhatt",
      "userId": "06001564206370072948"
     },
     "user_tz": 300
    },
    "id": "84b685fb",
    "scrolled": true
   },
   "outputs": [],
   "source": [
    "# Data Prep for VAR/VECM - First Difference and check stationarity\n",
    "\n",
    "# Data Prep for VAR - check stationarity\n",
    "varma_vecm_data = pd.concat([target_train, features_train], axis=1, sort=False)\n",
    "varma_vecm_data  = varma_vecm_data[varma_vecm_data.columns.drop(list(varma_vecm_data.filter(regex='Lag')))]\n",
    "\n",
    "# 1st difference\n",
    "varma_vecm_data_differenced = varma_vecm_data.diff(periods=24).dropna()"
   ]
  },
  {
   "cell_type": "code",
   "execution_count": 40,
   "id": "8a3782b5",
   "metadata": {
    "ExecuteTime": {
     "end_time": "2022-05-23T14:40:15.094695Z",
     "start_time": "2022-05-23T14:40:15.070694Z"
    },
    "executionInfo": {
     "elapsed": 337,
     "status": "ok",
     "timestamp": 1668976530356,
     "user": {
      "displayName": "Parth Bhatt",
      "userId": "06001564206370072948"
     },
     "user_tz": 300
    },
    "id": "8a3782b5"
   },
   "outputs": [],
   "source": [
    "#VAR Model\n",
    "\n",
    "model = VAR(varma_vecm_data_differenced)\n",
    "lag_selection_VAR = model.select_order(maxlags=3)\n",
    "\n",
    "list(lag_selection_VAR.selected_orders.values())[0]\n",
    "\n",
    "\n",
    "# Get the lag order\n",
    "lag_order = list(lag_selection_VAR.selected_orders.values())[0]\n",
    "\n",
    "model_fitted = model.fit(lag_order)\n",
    "\n",
    "\n",
    "# Input data for forecasting\n",
    "forecast_input = varma_vecm_data_differenced.values[-lag_order:]\n",
    "\n",
    "# Forecast\n",
    "y_pred_VAR = model_fitted.forecast(y=forecast_input, steps= 24)\n",
    "\n",
    "\n",
    "#VAR Forecast\n",
    "\n",
    "def invert_transformation(df_train, df_forecast, second_diff=False):\n",
    "    \"\"\"Revert back the differencing to get the forecast to original scale.\"\"\"\n",
    "    df_fc = df_forecast.copy()\n",
    "    columns = df_train.columns\n",
    "    for col in columns:        \n",
    "        # Roll back 2nd Diff\n",
    "        if second_diff:\n",
    "            df_fc[str(col)+'_1d'] = (df_train[col].iloc[-1]-df_train[col].iloc[-2]) + df_fc[str(col)+'_2d'].cumsum()\n",
    "        # Roll back 1st Diff\n",
    "        df_fc[str(col)+'_forecast'] = df_train[col].iloc[-1] + df_fc[str(col)+'_1d'].cumsum()\n",
    "    return df_fc\n",
    "\n",
    "y_pred_VAR = invert_transformation(varma_vecm_data, pd.DataFrame(y_pred_VAR , index= features_test.index, columns=varma_vecm_data_differenced.columns + '_1d'), second_diff=False)['trips_forecast']"
   ]
  },
  {
   "cell_type": "code",
   "execution_count": 41,
   "id": "94a255f8",
   "metadata": {
    "ExecuteTime": {
     "end_time": "2022-05-23T14:42:10.630518Z",
     "start_time": "2022-05-23T14:42:10.611516Z"
    },
    "colab": {
     "base_uri": "https://localhost:8080/"
    },
    "executionInfo": {
     "elapsed": 123,
     "status": "ok",
     "timestamp": 1668976550580,
     "user": {
      "displayName": "Parth Bhatt",
      "userId": "06001564206370072948"
     },
     "user_tz": 300
    },
    "id": "94a255f8",
    "outputId": "db98bd16-845b-40a3-b863-a894204d7f63"
   },
   "outputs": [
    {
     "name": "stdout",
     "output_type": "stream",
     "text": [
      "Johansen cointegration test using trace test statistic with 5% significance level\n",
      "=====================================\n",
      "r_0 r_1 test statistic critical value\n",
      "-------------------------------------\n",
      "  0   3          1875.          24.28\n",
      "  1   3          935.2          12.32\n",
      "  2   3          335.7          4.130\n",
      "-------------------------------------\n"
     ]
    }
   ],
   "source": [
    "# VECM - Johansen Cointegration Test'\n",
    "rank_test = select_coint_rank(varma_vecm_data_differenced,-1, lag_order, method='trace',\n",
    "                              signif=0.05)\n",
    "print(rank_test)"
   ]
  },
  {
   "cell_type": "code",
   "execution_count": 42,
   "id": "ddb8bb62",
   "metadata": {
    "ExecuteTime": {
     "end_time": "2022-05-23T14:42:11.931543Z",
     "start_time": "2022-05-23T14:42:11.908542Z"
    },
    "executionInfo": {
     "elapsed": 726,
     "status": "ok",
     "timestamp": 1668976555241,
     "user": {
      "displayName": "Parth Bhatt",
      "userId": "06001564206370072948"
     },
     "user_tz": 300
    },
    "id": "ddb8bb62"
   },
   "outputs": [],
   "source": [
    "# VECM\n",
    "\n",
    "model = VECM(varma_vecm_data_differenced, deterministic=\"ci\",\n",
    "             k_ar_diff=lag_order,  \n",
    "             coint_rank=rank_test.rank)  \n",
    "\n",
    "vecm_res = model.fit()\n",
    "\n",
    "y_pred_VECM = vecm_res.predict(steps=24)\n",
    "\n",
    "y_pred_VECM = invert_transformation(varma_vecm_data, pd.DataFrame(y_pred_VAR , index= features_test.index, columns=varma_vecm_data_differenced.columns + '_1d'), second_diff=False)['trips_forecast']"
   ]
  },
  {
   "cell_type": "code",
   "execution_count": 43,
   "id": "33b28119",
   "metadata": {
    "colab": {
     "base_uri": "https://localhost:8080/"
    },
    "executionInfo": {
     "elapsed": 31607,
     "status": "ok",
     "timestamp": 1668975504156,
     "user": {
      "displayName": "Parth Bhatt",
      "userId": "06001564206370072948"
     },
     "user_tz": 300
    },
    "id": "33b28119",
    "outputId": "24d31aee-dc79-4932-e2cd-1e7a90eef570"
   },
   "outputs": [
    {
     "name": "stdout",
     "output_type": "stream",
     "text": [
      "Performing stepwise search to minimize aic\n",
      " ARIMA(2,1,2)(0,0,0)[0] intercept   : AIC=inf, Time=3.50 sec\n",
      " ARIMA(0,1,0)(0,0,0)[0] intercept   : AIC=6791.374, Time=0.24 sec\n",
      " ARIMA(1,1,0)(0,0,0)[0] intercept   : AIC=6754.756, Time=0.20 sec\n",
      " ARIMA(0,1,1)(0,0,0)[0] intercept   : AIC=6761.370, Time=0.29 sec\n",
      " ARIMA(0,1,0)(0,0,0)[0]             : AIC=6789.375, Time=0.08 sec\n",
      " ARIMA(2,1,0)(0,0,0)[0] intercept   : AIC=6722.112, Time=0.21 sec\n",
      " ARIMA(3,1,0)(0,0,0)[0] intercept   : AIC=6659.614, Time=0.44 sec\n",
      " ARIMA(4,1,0)(0,0,0)[0] intercept   : AIC=6482.370, Time=0.60 sec\n",
      " ARIMA(5,1,0)(0,0,0)[0] intercept   : AIC=6421.332, Time=0.62 sec\n",
      " ARIMA(5,1,1)(0,0,0)[0] intercept   : AIC=6423.201, Time=1.92 sec\n",
      " ARIMA(4,1,1)(0,0,0)[0] intercept   : AIC=6442.161, Time=1.07 sec\n",
      " ARIMA(5,1,0)(0,0,0)[0]             : AIC=6419.335, Time=0.32 sec\n",
      " ARIMA(4,1,0)(0,0,0)[0]             : AIC=6480.372, Time=0.27 sec\n",
      " ARIMA(5,1,1)(0,0,0)[0]             : AIC=6421.204, Time=0.62 sec\n",
      " ARIMA(4,1,1)(0,0,0)[0]             : AIC=6440.165, Time=0.51 sec\n",
      "\n",
      "Best model:  ARIMA(5,1,0)(0,0,0)[0]          \n",
      "Total fit time: 10.891 seconds\n"
     ]
    }
   ],
   "source": [
    "stepwise_fit = pm.auto_arima(target_train, m=1, seasonal=False, trace=True,\n",
    "                             error_action='ignore',  # don't want to know if an order does not work\n",
    "                             suppress_warnings=True,  # don't want convergence warnings\n",
    "                             stepwise=True)  # set to stepwise\n",
    "y_pred_arima = stepwise_fit.predict(n_periods= 24)"
   ]
  },
  {
   "cell_type": "code",
   "execution_count": null,
   "id": "aa55b39b",
   "metadata": {},
   "outputs": [],
   "source": [
    "plot_pacf(target_final, lags =24)"
   ]
  },
  {
   "cell_type": "code",
   "execution_count": 59,
   "id": "55c884a1",
   "metadata": {},
   "outputs": [
    {
     "data": {
      "image/png": "[encoded data removed]",
      "text/plain": [
       "<Figure size 432x288 with 1 Axes>"
      ]
     },
     "execution_count": 59,
     "metadata": {},
     "output_type": "execute_result"
    },
    {
     "data": {
      "image/png": "[encoded data removed]",
      "text/plain": [
       "<Figure size 432x288 with 1 Axes>"
      ]
     },
     "metadata": {
      "needs_background": "light"
     },
     "output_type": "display_data"
    },
    {
     "data": {
      "image/png": "[encoded data removed]",
      "text/plain": [
       "<Figure size 432x288 with 1 Axes>"
      ]
     },
     "metadata": {
      "needs_background": "light"
     },
     "output_type": "display_data"
    }
   ],
   "source": [
    "plot_acf(target_final, lags =24)"
   ]
  },
  {
   "cell_type": "code",
   "execution_count": 71,
   "id": "ee3d48aa",
   "metadata": {},
   "outputs": [],
   "source": [
    "sarima_model=SARIMAX(target_train,order=stepwise_fit.order,seasonal_order=(1,1,0,24)).fit()\n",
    "y_pred_sarima=sarima_model.predict(len(target_train),len(target_train)+23, dynamic= True).values  "
   ]
  },
  {
   "cell_type": "code",
   "execution_count": 69,
   "id": "77e332b8",
   "metadata": {
    "ExecuteTime": {
     "end_time": "2022-05-23T14:37:21.162579Z",
     "start_time": "2022-05-23T14:35:42.559970Z"
    },
    "colab": {
     "base_uri": "https://localhost:8080/",
     "height": 183
    },
    "executionInfo": {
     "elapsed": 316,
     "status": "error",
     "timestamp": 1668978242507,
     "user": {
      "displayName": "Parth Bhatt",
      "userId": "06001564206370072948"
     },
     "user_tz": 300
    },
    "id": "77e332b8",
    "outputId": "b6571a6d-4ac4-407b-ecba-1b9dba46f4e6",
    "scrolled": true
   },
   "outputs": [],
   "source": [
    "model = SARIMAX(target_train, exog=features_train, order=stepwise_fit.order, seasonal_order=(1,1,0,24)).fit(disp=False)\n",
    "y_pred_sarimax = model.predict(len(target_train),len(target_train)+23, exog=features_test).values "
   ]
  },
  {
   "cell_type": "code",
   "execution_count": 32,
   "id": "0d871427",
   "metadata": {},
   "outputs": [
    {
     "ename": "NotImplementedError",
     "evalue": "Cannot convert a symbolic Tensor (lstm/strided_slice:0) to a numpy array. This error may indicate that you're trying to pass a Tensor to a NumPy call, which is not supported",
     "output_type": "error",
     "traceback": [
      "\u001b[1;31m---------------------------------------------------------------------------\u001b[0m",
      "\u001b[1;31mNotImplementedError\u001b[0m                       Traceback (most recent call last)",
      "\u001b[1;32m<ipython-input-32-30eb2670b8b3>\u001b[0m in \u001b[0;36m<module>\u001b[1;34m\u001b[0m\n\u001b[0;32m      2\u001b[0m \u001b[0mtest_X\u001b[0m \u001b[1;33m=\u001b[0m \u001b[0mfeatures_test\u001b[0m\u001b[1;33m.\u001b[0m\u001b[0mto_numpy\u001b[0m\u001b[1;33m(\u001b[0m\u001b[1;33m)\u001b[0m\u001b[1;33m.\u001b[0m\u001b[0mreshape\u001b[0m\u001b[1;33m(\u001b[0m\u001b[1;33m(\u001b[0m\u001b[0mfeatures_test\u001b[0m\u001b[1;33m.\u001b[0m\u001b[0mshape\u001b[0m\u001b[1;33m[\u001b[0m\u001b[1;36m0\u001b[0m\u001b[1;33m]\u001b[0m\u001b[1;33m,\u001b[0m \u001b[1;36m1\u001b[0m\u001b[1;33m,\u001b[0m \u001b[0mfeatures_test\u001b[0m\u001b[1;33m.\u001b[0m\u001b[0mshape\u001b[0m\u001b[1;33m[\u001b[0m\u001b[1;36m1\u001b[0m\u001b[1;33m]\u001b[0m\u001b[1;33m)\u001b[0m\u001b[1;33m)\u001b[0m\u001b[1;33m\u001b[0m\u001b[1;33m\u001b[0m\u001b[0m\n\u001b[0;32m      3\u001b[0m \u001b[0mmodel\u001b[0m \u001b[1;33m=\u001b[0m \u001b[0mSequential\u001b[0m\u001b[1;33m(\u001b[0m\u001b[1;33m)\u001b[0m\u001b[1;33m\u001b[0m\u001b[1;33m\u001b[0m\u001b[0m\n\u001b[1;32m----> 4\u001b[1;33m \u001b[0mmodel\u001b[0m\u001b[1;33m.\u001b[0m\u001b[0madd\u001b[0m\u001b[1;33m(\u001b[0m\u001b[0mLSTM\u001b[0m\u001b[1;33m(\u001b[0m\u001b[1;36m50\u001b[0m\u001b[1;33m,\u001b[0m \u001b[0mreturn_sequences\u001b[0m\u001b[1;33m=\u001b[0m\u001b[1;32mTrue\u001b[0m\u001b[1;33m,\u001b[0m \u001b[0minput_shape\u001b[0m\u001b[1;33m=\u001b[0m\u001b[1;33m(\u001b[0m\u001b[0mtrain_X\u001b[0m\u001b[1;33m.\u001b[0m\u001b[0mshape\u001b[0m\u001b[1;33m[\u001b[0m\u001b[1;36m1\u001b[0m\u001b[1;33m]\u001b[0m\u001b[1;33m,\u001b[0m \u001b[0mtrain_X\u001b[0m\u001b[1;33m.\u001b[0m\u001b[0mshape\u001b[0m\u001b[1;33m[\u001b[0m\u001b[1;36m2\u001b[0m\u001b[1;33m]\u001b[0m\u001b[1;33m)\u001b[0m\u001b[1;33m)\u001b[0m\u001b[1;33m)\u001b[0m\u001b[1;33m\u001b[0m\u001b[1;33m\u001b[0m\u001b[0m\n\u001b[0m\u001b[0;32m      5\u001b[0m \u001b[0mmodel\u001b[0m\u001b[1;33m.\u001b[0m\u001b[0madd\u001b[0m\u001b[1;33m(\u001b[0m\u001b[0mDropout\u001b[0m\u001b[1;33m(\u001b[0m\u001b[1;36m0.2\u001b[0m\u001b[1;33m)\u001b[0m\u001b[1;33m)\u001b[0m\u001b[1;33m\u001b[0m\u001b[1;33m\u001b[0m\u001b[0m\n\u001b[0;32m      6\u001b[0m \u001b[0mmodel\u001b[0m\u001b[1;33m.\u001b[0m\u001b[0madd\u001b[0m\u001b[1;33m(\u001b[0m\u001b[0mLSTM\u001b[0m\u001b[1;33m(\u001b[0m\u001b[0munits\u001b[0m\u001b[1;33m=\u001b[0m\u001b[1;36m50\u001b[0m\u001b[1;33m)\u001b[0m\u001b[1;33m)\u001b[0m\u001b[1;33m\u001b[0m\u001b[1;33m\u001b[0m\u001b[0m\n",
      "\u001b[1;32mC:\\Python\\Anaconda3\\lib\\site-packages\\tensorflow\\python\\training\\tracking\\base.py\u001b[0m in \u001b[0;36m_method_wrapper\u001b[1;34m(self, *args, **kwargs)\u001b[0m\n\u001b[0;32m    455\u001b[0m     \u001b[0mself\u001b[0m\u001b[1;33m.\u001b[0m\u001b[0m_self_setattr_tracking\u001b[0m \u001b[1;33m=\u001b[0m \u001b[1;32mFalse\u001b[0m  \u001b[1;31m# pylint: disable=protected-access\u001b[0m\u001b[1;33m\u001b[0m\u001b[1;33m\u001b[0m\u001b[0m\n\u001b[0;32m    456\u001b[0m     \u001b[1;32mtry\u001b[0m\u001b[1;33m:\u001b[0m\u001b[1;33m\u001b[0m\u001b[1;33m\u001b[0m\u001b[0m\n\u001b[1;32m--> 457\u001b[1;33m       \u001b[0mresult\u001b[0m \u001b[1;33m=\u001b[0m \u001b[0mmethod\u001b[0m\u001b[1;33m(\u001b[0m\u001b[0mself\u001b[0m\u001b[1;33m,\u001b[0m \u001b[1;33m*\u001b[0m\u001b[0margs\u001b[0m\u001b[1;33m,\u001b[0m \u001b[1;33m**\u001b[0m\u001b[0mkwargs\u001b[0m\u001b[1;33m)\u001b[0m\u001b[1;33m\u001b[0m\u001b[1;33m\u001b[0m\u001b[0m\n\u001b[0m\u001b[0;32m    458\u001b[0m     \u001b[1;32mfinally\u001b[0m\u001b[1;33m:\u001b[0m\u001b[1;33m\u001b[0m\u001b[1;33m\u001b[0m\u001b[0m\n\u001b[0;32m    459\u001b[0m       \u001b[0mself\u001b[0m\u001b[1;33m.\u001b[0m\u001b[0m_self_setattr_tracking\u001b[0m \u001b[1;33m=\u001b[0m \u001b[0mprevious_value\u001b[0m  \u001b[1;31m# pylint: disable=protected-access\u001b[0m\u001b[1;33m\u001b[0m\u001b[1;33m\u001b[0m\u001b[0m\n",
      "\u001b[1;32mC:\\Python\\Anaconda3\\lib\\site-packages\\tensorflow\\python\\keras\\engine\\sequential.py\u001b[0m in \u001b[0;36madd\u001b[1;34m(self, layer)\u001b[0m\n\u001b[0;32m    204\u001b[0m           \u001b[1;31m# and create the node connecting the current layer\u001b[0m\u001b[1;33m\u001b[0m\u001b[1;33m\u001b[0m\u001b[1;33m\u001b[0m\u001b[0m\n\u001b[0;32m    205\u001b[0m           \u001b[1;31m# to the input layer we just created.\u001b[0m\u001b[1;33m\u001b[0m\u001b[1;33m\u001b[0m\u001b[1;33m\u001b[0m\u001b[0m\n\u001b[1;32m--> 206\u001b[1;33m           \u001b[0mlayer\u001b[0m\u001b[1;33m(\u001b[0m\u001b[0mx\u001b[0m\u001b[1;33m)\u001b[0m\u001b[1;33m\u001b[0m\u001b[1;33m\u001b[0m\u001b[0m\n\u001b[0m\u001b[0;32m    207\u001b[0m           \u001b[0mset_inputs\u001b[0m \u001b[1;33m=\u001b[0m \u001b[1;32mTrue\u001b[0m\u001b[1;33m\u001b[0m\u001b[1;33m\u001b[0m\u001b[0m\n\u001b[0;32m    208\u001b[0m \u001b[1;33m\u001b[0m\u001b[0m\n",
      "\u001b[1;32mC:\\Python\\Anaconda3\\lib\\site-packages\\tensorflow\\python\\keras\\layers\\recurrent.py\u001b[0m in \u001b[0;36m__call__\u001b[1;34m(self, inputs, initial_state, constants, **kwargs)\u001b[0m\n\u001b[0;32m    661\u001b[0m \u001b[1;33m\u001b[0m\u001b[0m\n\u001b[0;32m    662\u001b[0m     \u001b[1;32mif\u001b[0m \u001b[0minitial_state\u001b[0m \u001b[1;32mis\u001b[0m \u001b[1;32mNone\u001b[0m \u001b[1;32mand\u001b[0m \u001b[0mconstants\u001b[0m \u001b[1;32mis\u001b[0m \u001b[1;32mNone\u001b[0m\u001b[1;33m:\u001b[0m\u001b[1;33m\u001b[0m\u001b[1;33m\u001b[0m\u001b[0m\n\u001b[1;32m--> 663\u001b[1;33m       \u001b[1;32mreturn\u001b[0m \u001b[0msuper\u001b[0m\u001b[1;33m(\u001b[0m\u001b[0mRNN\u001b[0m\u001b[1;33m,\u001b[0m \u001b[0mself\u001b[0m\u001b[1;33m)\u001b[0m\u001b[1;33m.\u001b[0m\u001b[0m__call__\u001b[0m\u001b[1;33m(\u001b[0m\u001b[0minputs\u001b[0m\u001b[1;33m,\u001b[0m \u001b[1;33m**\u001b[0m\u001b[0mkwargs\u001b[0m\u001b[1;33m)\u001b[0m\u001b[1;33m\u001b[0m\u001b[1;33m\u001b[0m\u001b[0m\n\u001b[0m\u001b[0;32m    664\u001b[0m \u001b[1;33m\u001b[0m\u001b[0m\n\u001b[0;32m    665\u001b[0m     \u001b[1;31m# If any of `initial_state` or `constants` are specified and are Keras\u001b[0m\u001b[1;33m\u001b[0m\u001b[1;33m\u001b[0m\u001b[1;33m\u001b[0m\u001b[0m\n",
      "\u001b[1;32mC:\\Python\\Anaconda3\\lib\\site-packages\\tensorflow\\python\\keras\\engine\\base_layer.py\u001b[0m in \u001b[0;36m__call__\u001b[1;34m(self, *args, **kwargs)\u001b[0m\n\u001b[0;32m    923\u001b[0m     \u001b[1;31m# >> model = tf.keras.Model(inputs, outputs)\u001b[0m\u001b[1;33m\u001b[0m\u001b[1;33m\u001b[0m\u001b[1;33m\u001b[0m\u001b[0m\n\u001b[0;32m    924\u001b[0m     \u001b[1;32mif\u001b[0m \u001b[0m_in_functional_construction_mode\u001b[0m\u001b[1;33m(\u001b[0m\u001b[0mself\u001b[0m\u001b[1;33m,\u001b[0m \u001b[0minputs\u001b[0m\u001b[1;33m,\u001b[0m \u001b[0margs\u001b[0m\u001b[1;33m,\u001b[0m \u001b[0mkwargs\u001b[0m\u001b[1;33m,\u001b[0m \u001b[0minput_list\u001b[0m\u001b[1;33m)\u001b[0m\u001b[1;33m:\u001b[0m\u001b[1;33m\u001b[0m\u001b[1;33m\u001b[0m\u001b[0m\n\u001b[1;32m--> 925\u001b[1;33m       return self._functional_construction_call(inputs, args, kwargs,\n\u001b[0m\u001b[0;32m    926\u001b[0m                                                 input_list)\n\u001b[0;32m    927\u001b[0m \u001b[1;33m\u001b[0m\u001b[0m\n",
      "\u001b[1;32mC:\\Python\\Anaconda3\\lib\\site-packages\\tensorflow\\python\\keras\\engine\\base_layer.py\u001b[0m in \u001b[0;36m_functional_construction_call\u001b[1;34m(self, inputs, args, kwargs, input_list)\u001b[0m\n\u001b[0;32m   1115\u001b[0m           \u001b[1;32mtry\u001b[0m\u001b[1;33m:\u001b[0m\u001b[1;33m\u001b[0m\u001b[1;33m\u001b[0m\u001b[0m\n\u001b[0;32m   1116\u001b[0m             \u001b[1;32mwith\u001b[0m \u001b[0mops\u001b[0m\u001b[1;33m.\u001b[0m\u001b[0menable_auto_cast_variables\u001b[0m\u001b[1;33m(\u001b[0m\u001b[0mself\u001b[0m\u001b[1;33m.\u001b[0m\u001b[0m_compute_dtype_object\u001b[0m\u001b[1;33m)\u001b[0m\u001b[1;33m:\u001b[0m\u001b[1;33m\u001b[0m\u001b[1;33m\u001b[0m\u001b[0m\n\u001b[1;32m-> 1117\u001b[1;33m               \u001b[0moutputs\u001b[0m \u001b[1;33m=\u001b[0m \u001b[0mcall_fn\u001b[0m\u001b[1;33m(\u001b[0m\u001b[0mcast_inputs\u001b[0m\u001b[1;33m,\u001b[0m \u001b[1;33m*\u001b[0m\u001b[0margs\u001b[0m\u001b[1;33m,\u001b[0m \u001b[1;33m**\u001b[0m\u001b[0mkwargs\u001b[0m\u001b[1;33m)\u001b[0m\u001b[1;33m\u001b[0m\u001b[1;33m\u001b[0m\u001b[0m\n\u001b[0m\u001b[0;32m   1118\u001b[0m \u001b[1;33m\u001b[0m\u001b[0m\n\u001b[0;32m   1119\u001b[0m           \u001b[1;32mexcept\u001b[0m \u001b[0merrors\u001b[0m\u001b[1;33m.\u001b[0m\u001b[0mOperatorNotAllowedInGraphError\u001b[0m \u001b[1;32mas\u001b[0m \u001b[0me\u001b[0m\u001b[1;33m:\u001b[0m\u001b[1;33m\u001b[0m\u001b[1;33m\u001b[0m\u001b[0m\n",
      "\u001b[1;32mC:\\Python\\Anaconda3\\lib\\site-packages\\tensorflow\\python\\keras\\layers\\recurrent_v2.py\u001b[0m in \u001b[0;36mcall\u001b[1;34m(self, inputs, mask, training, initial_state)\u001b[0m\n\u001b[0;32m   1106\u001b[0m \u001b[1;33m\u001b[0m\u001b[0m\n\u001b[0;32m   1107\u001b[0m     \u001b[1;31m# LSTM does not support constants. Ignore it during process.\u001b[0m\u001b[1;33m\u001b[0m\u001b[1;33m\u001b[0m\u001b[1;33m\u001b[0m\u001b[0m\n\u001b[1;32m-> 1108\u001b[1;33m     \u001b[0minputs\u001b[0m\u001b[1;33m,\u001b[0m \u001b[0minitial_state\u001b[0m\u001b[1;33m,\u001b[0m \u001b[0m_\u001b[0m \u001b[1;33m=\u001b[0m \u001b[0mself\u001b[0m\u001b[1;33m.\u001b[0m\u001b[0m_process_inputs\u001b[0m\u001b[1;33m(\u001b[0m\u001b[0minputs\u001b[0m\u001b[1;33m,\u001b[0m \u001b[0minitial_state\u001b[0m\u001b[1;33m,\u001b[0m \u001b[1;32mNone\u001b[0m\u001b[1;33m)\u001b[0m\u001b[1;33m\u001b[0m\u001b[1;33m\u001b[0m\u001b[0m\n\u001b[0m\u001b[0;32m   1109\u001b[0m \u001b[1;33m\u001b[0m\u001b[0m\n\u001b[0;32m   1110\u001b[0m     \u001b[1;32mif\u001b[0m \u001b[0misinstance\u001b[0m\u001b[1;33m(\u001b[0m\u001b[0mmask\u001b[0m\u001b[1;33m,\u001b[0m \u001b[0mlist\u001b[0m\u001b[1;33m)\u001b[0m\u001b[1;33m:\u001b[0m\u001b[1;33m\u001b[0m\u001b[1;33m\u001b[0m\u001b[0m\n",
      "\u001b[1;32mC:\\Python\\Anaconda3\\lib\\site-packages\\tensorflow\\python\\keras\\layers\\recurrent.py\u001b[0m in \u001b[0;36m_process_inputs\u001b[1;34m(self, inputs, initial_state, constants)\u001b[0m\n\u001b[0;32m    860\u001b[0m         \u001b[0minitial_state\u001b[0m \u001b[1;33m=\u001b[0m \u001b[0mself\u001b[0m\u001b[1;33m.\u001b[0m\u001b[0mstates\u001b[0m\u001b[1;33m\u001b[0m\u001b[1;33m\u001b[0m\u001b[0m\n\u001b[0;32m    861\u001b[0m     \u001b[1;32melif\u001b[0m \u001b[0minitial_state\u001b[0m \u001b[1;32mis\u001b[0m \u001b[1;32mNone\u001b[0m\u001b[1;33m:\u001b[0m\u001b[1;33m\u001b[0m\u001b[1;33m\u001b[0m\u001b[0m\n\u001b[1;32m--> 862\u001b[1;33m       \u001b[0minitial_state\u001b[0m \u001b[1;33m=\u001b[0m \u001b[0mself\u001b[0m\u001b[1;33m.\u001b[0m\u001b[0mget_initial_state\u001b[0m\u001b[1;33m(\u001b[0m\u001b[0minputs\u001b[0m\u001b[1;33m)\u001b[0m\u001b[1;33m\u001b[0m\u001b[1;33m\u001b[0m\u001b[0m\n\u001b[0m\u001b[0;32m    863\u001b[0m \u001b[1;33m\u001b[0m\u001b[0m\n\u001b[0;32m    864\u001b[0m     \u001b[1;32mif\u001b[0m \u001b[0mlen\u001b[0m\u001b[1;33m(\u001b[0m\u001b[0minitial_state\u001b[0m\u001b[1;33m)\u001b[0m \u001b[1;33m!=\u001b[0m \u001b[0mlen\u001b[0m\u001b[1;33m(\u001b[0m\u001b[0mself\u001b[0m\u001b[1;33m.\u001b[0m\u001b[0mstates\u001b[0m\u001b[1;33m)\u001b[0m\u001b[1;33m:\u001b[0m\u001b[1;33m\u001b[0m\u001b[1;33m\u001b[0m\u001b[0m\n",
      "\u001b[1;32mC:\\Python\\Anaconda3\\lib\\site-packages\\tensorflow\\python\\keras\\layers\\recurrent.py\u001b[0m in \u001b[0;36mget_initial_state\u001b[1;34m(self, inputs)\u001b[0m\n\u001b[0;32m    643\u001b[0m     \u001b[0mdtype\u001b[0m \u001b[1;33m=\u001b[0m \u001b[0minputs\u001b[0m\u001b[1;33m.\u001b[0m\u001b[0mdtype\u001b[0m\u001b[1;33m\u001b[0m\u001b[1;33m\u001b[0m\u001b[0m\n\u001b[0;32m    644\u001b[0m     \u001b[1;32mif\u001b[0m \u001b[0mget_initial_state_fn\u001b[0m\u001b[1;33m:\u001b[0m\u001b[1;33m\u001b[0m\u001b[1;33m\u001b[0m\u001b[0m\n\u001b[1;32m--> 645\u001b[1;33m       init_state = get_initial_state_fn(\n\u001b[0m\u001b[0;32m    646\u001b[0m           inputs=None, batch_size=batch_size, dtype=dtype)\n\u001b[0;32m    647\u001b[0m     \u001b[1;32melse\u001b[0m\u001b[1;33m:\u001b[0m\u001b[1;33m\u001b[0m\u001b[1;33m\u001b[0m\u001b[0m\n",
      "\u001b[1;32mC:\\Python\\Anaconda3\\lib\\site-packages\\tensorflow\\python\\keras\\layers\\recurrent.py\u001b[0m in \u001b[0;36mget_initial_state\u001b[1;34m(self, inputs, batch_size, dtype)\u001b[0m\n\u001b[0;32m   2521\u001b[0m \u001b[1;33m\u001b[0m\u001b[0m\n\u001b[0;32m   2522\u001b[0m   \u001b[1;32mdef\u001b[0m \u001b[0mget_initial_state\u001b[0m\u001b[1;33m(\u001b[0m\u001b[0mself\u001b[0m\u001b[1;33m,\u001b[0m \u001b[0minputs\u001b[0m\u001b[1;33m=\u001b[0m\u001b[1;32mNone\u001b[0m\u001b[1;33m,\u001b[0m \u001b[0mbatch_size\u001b[0m\u001b[1;33m=\u001b[0m\u001b[1;32mNone\u001b[0m\u001b[1;33m,\u001b[0m \u001b[0mdtype\u001b[0m\u001b[1;33m=\u001b[0m\u001b[1;32mNone\u001b[0m\u001b[1;33m)\u001b[0m\u001b[1;33m:\u001b[0m\u001b[1;33m\u001b[0m\u001b[1;33m\u001b[0m\u001b[0m\n\u001b[1;32m-> 2523\u001b[1;33m     return list(_generate_zero_filled_state_for_cell(\n\u001b[0m\u001b[0;32m   2524\u001b[0m         self, inputs, batch_size, dtype))\n\u001b[0;32m   2525\u001b[0m \u001b[1;33m\u001b[0m\u001b[0m\n",
      "\u001b[1;32mC:\\Python\\Anaconda3\\lib\\site-packages\\tensorflow\\python\\keras\\layers\\recurrent.py\u001b[0m in \u001b[0;36m_generate_zero_filled_state_for_cell\u001b[1;34m(cell, inputs, batch_size, dtype)\u001b[0m\n\u001b[0;32m   2966\u001b[0m     \u001b[0mbatch_size\u001b[0m \u001b[1;33m=\u001b[0m \u001b[0marray_ops\u001b[0m\u001b[1;33m.\u001b[0m\u001b[0mshape\u001b[0m\u001b[1;33m(\u001b[0m\u001b[0minputs\u001b[0m\u001b[1;33m)\u001b[0m\u001b[1;33m[\u001b[0m\u001b[1;36m0\u001b[0m\u001b[1;33m]\u001b[0m\u001b[1;33m\u001b[0m\u001b[1;33m\u001b[0m\u001b[0m\n\u001b[0;32m   2967\u001b[0m     \u001b[0mdtype\u001b[0m \u001b[1;33m=\u001b[0m \u001b[0minputs\u001b[0m\u001b[1;33m.\u001b[0m\u001b[0mdtype\u001b[0m\u001b[1;33m\u001b[0m\u001b[1;33m\u001b[0m\u001b[0m\n\u001b[1;32m-> 2968\u001b[1;33m   \u001b[1;32mreturn\u001b[0m \u001b[0m_generate_zero_filled_state\u001b[0m\u001b[1;33m(\u001b[0m\u001b[0mbatch_size\u001b[0m\u001b[1;33m,\u001b[0m \u001b[0mcell\u001b[0m\u001b[1;33m.\u001b[0m\u001b[0mstate_size\u001b[0m\u001b[1;33m,\u001b[0m \u001b[0mdtype\u001b[0m\u001b[1;33m)\u001b[0m\u001b[1;33m\u001b[0m\u001b[1;33m\u001b[0m\u001b[0m\n\u001b[0m\u001b[0;32m   2969\u001b[0m \u001b[1;33m\u001b[0m\u001b[0m\n\u001b[0;32m   2970\u001b[0m \u001b[1;33m\u001b[0m\u001b[0m\n",
      "\u001b[1;32mC:\\Python\\Anaconda3\\lib\\site-packages\\tensorflow\\python\\keras\\layers\\recurrent.py\u001b[0m in \u001b[0;36m_generate_zero_filled_state\u001b[1;34m(batch_size_tensor, state_size, dtype)\u001b[0m\n\u001b[0;32m   2982\u001b[0m \u001b[1;33m\u001b[0m\u001b[0m\n\u001b[0;32m   2983\u001b[0m   \u001b[1;32mif\u001b[0m \u001b[0mnest\u001b[0m\u001b[1;33m.\u001b[0m\u001b[0mis_sequence\u001b[0m\u001b[1;33m(\u001b[0m\u001b[0mstate_size\u001b[0m\u001b[1;33m)\u001b[0m\u001b[1;33m:\u001b[0m\u001b[1;33m\u001b[0m\u001b[1;33m\u001b[0m\u001b[0m\n\u001b[1;32m-> 2984\u001b[1;33m     \u001b[1;32mreturn\u001b[0m \u001b[0mnest\u001b[0m\u001b[1;33m.\u001b[0m\u001b[0mmap_structure\u001b[0m\u001b[1;33m(\u001b[0m\u001b[0mcreate_zeros\u001b[0m\u001b[1;33m,\u001b[0m \u001b[0mstate_size\u001b[0m\u001b[1;33m)\u001b[0m\u001b[1;33m\u001b[0m\u001b[1;33m\u001b[0m\u001b[0m\n\u001b[0m\u001b[0;32m   2985\u001b[0m   \u001b[1;32melse\u001b[0m\u001b[1;33m:\u001b[0m\u001b[1;33m\u001b[0m\u001b[1;33m\u001b[0m\u001b[0m\n\u001b[0;32m   2986\u001b[0m     \u001b[1;32mreturn\u001b[0m \u001b[0mcreate_zeros\u001b[0m\u001b[1;33m(\u001b[0m\u001b[0mstate_size\u001b[0m\u001b[1;33m)\u001b[0m\u001b[1;33m\u001b[0m\u001b[1;33m\u001b[0m\u001b[0m\n",
      "\u001b[1;32mC:\\Python\\Anaconda3\\lib\\site-packages\\tensorflow\\python\\util\\nest.py\u001b[0m in \u001b[0;36mmap_structure\u001b[1;34m(func, *structure, **kwargs)\u001b[0m\n\u001b[0;32m    633\u001b[0m \u001b[1;33m\u001b[0m\u001b[0m\n\u001b[0;32m    634\u001b[0m   return pack_sequence_as(\n\u001b[1;32m--> 635\u001b[1;33m       \u001b[0mstructure\u001b[0m\u001b[1;33m[\u001b[0m\u001b[1;36m0\u001b[0m\u001b[1;33m]\u001b[0m\u001b[1;33m,\u001b[0m \u001b[1;33m[\u001b[0m\u001b[0mfunc\u001b[0m\u001b[1;33m(\u001b[0m\u001b[1;33m*\u001b[0m\u001b[0mx\u001b[0m\u001b[1;33m)\u001b[0m \u001b[1;32mfor\u001b[0m \u001b[0mx\u001b[0m \u001b[1;32min\u001b[0m \u001b[0mentries\u001b[0m\u001b[1;33m]\u001b[0m\u001b[1;33m,\u001b[0m\u001b[1;33m\u001b[0m\u001b[1;33m\u001b[0m\u001b[0m\n\u001b[0m\u001b[0;32m    636\u001b[0m       expand_composites=expand_composites)\n\u001b[0;32m    637\u001b[0m \u001b[1;33m\u001b[0m\u001b[0m\n",
      "\u001b[1;32mC:\\Python\\Anaconda3\\lib\\site-packages\\tensorflow\\python\\util\\nest.py\u001b[0m in \u001b[0;36m<listcomp>\u001b[1;34m(.0)\u001b[0m\n\u001b[0;32m    633\u001b[0m \u001b[1;33m\u001b[0m\u001b[0m\n\u001b[0;32m    634\u001b[0m   return pack_sequence_as(\n\u001b[1;32m--> 635\u001b[1;33m       \u001b[0mstructure\u001b[0m\u001b[1;33m[\u001b[0m\u001b[1;36m0\u001b[0m\u001b[1;33m]\u001b[0m\u001b[1;33m,\u001b[0m \u001b[1;33m[\u001b[0m\u001b[0mfunc\u001b[0m\u001b[1;33m(\u001b[0m\u001b[1;33m*\u001b[0m\u001b[0mx\u001b[0m\u001b[1;33m)\u001b[0m \u001b[1;32mfor\u001b[0m \u001b[0mx\u001b[0m \u001b[1;32min\u001b[0m \u001b[0mentries\u001b[0m\u001b[1;33m]\u001b[0m\u001b[1;33m,\u001b[0m\u001b[1;33m\u001b[0m\u001b[1;33m\u001b[0m\u001b[0m\n\u001b[0m\u001b[0;32m    636\u001b[0m       expand_composites=expand_composites)\n\u001b[0;32m    637\u001b[0m \u001b[1;33m\u001b[0m\u001b[0m\n",
      "\u001b[1;32mC:\\Python\\Anaconda3\\lib\\site-packages\\tensorflow\\python\\keras\\layers\\recurrent.py\u001b[0m in \u001b[0;36mcreate_zeros\u001b[1;34m(unnested_state_size)\u001b[0m\n\u001b[0;32m   2979\u001b[0m     \u001b[0mflat_dims\u001b[0m \u001b[1;33m=\u001b[0m \u001b[0mtensor_shape\u001b[0m\u001b[1;33m.\u001b[0m\u001b[0mas_shape\u001b[0m\u001b[1;33m(\u001b[0m\u001b[0munnested_state_size\u001b[0m\u001b[1;33m)\u001b[0m\u001b[1;33m.\u001b[0m\u001b[0mas_list\u001b[0m\u001b[1;33m(\u001b[0m\u001b[1;33m)\u001b[0m\u001b[1;33m\u001b[0m\u001b[1;33m\u001b[0m\u001b[0m\n\u001b[0;32m   2980\u001b[0m     \u001b[0minit_state_size\u001b[0m \u001b[1;33m=\u001b[0m \u001b[1;33m[\u001b[0m\u001b[0mbatch_size_tensor\u001b[0m\u001b[1;33m]\u001b[0m \u001b[1;33m+\u001b[0m \u001b[0mflat_dims\u001b[0m\u001b[1;33m\u001b[0m\u001b[1;33m\u001b[0m\u001b[0m\n\u001b[1;32m-> 2981\u001b[1;33m     \u001b[1;32mreturn\u001b[0m \u001b[0marray_ops\u001b[0m\u001b[1;33m.\u001b[0m\u001b[0mzeros\u001b[0m\u001b[1;33m(\u001b[0m\u001b[0minit_state_size\u001b[0m\u001b[1;33m,\u001b[0m \u001b[0mdtype\u001b[0m\u001b[1;33m=\u001b[0m\u001b[0mdtype\u001b[0m\u001b[1;33m)\u001b[0m\u001b[1;33m\u001b[0m\u001b[1;33m\u001b[0m\u001b[0m\n\u001b[0m\u001b[0;32m   2982\u001b[0m \u001b[1;33m\u001b[0m\u001b[0m\n\u001b[0;32m   2983\u001b[0m   \u001b[1;32mif\u001b[0m \u001b[0mnest\u001b[0m\u001b[1;33m.\u001b[0m\u001b[0mis_sequence\u001b[0m\u001b[1;33m(\u001b[0m\u001b[0mstate_size\u001b[0m\u001b[1;33m)\u001b[0m\u001b[1;33m:\u001b[0m\u001b[1;33m\u001b[0m\u001b[1;33m\u001b[0m\u001b[0m\n",
      "\u001b[1;32mC:\\Python\\Anaconda3\\lib\\site-packages\\tensorflow\\python\\util\\dispatch.py\u001b[0m in \u001b[0;36mwrapper\u001b[1;34m(*args, **kwargs)\u001b[0m\n\u001b[0;32m    199\u001b[0m     \u001b[1;34m\"\"\"Call target, and fall back on dispatchers if there is a TypeError.\"\"\"\u001b[0m\u001b[1;33m\u001b[0m\u001b[1;33m\u001b[0m\u001b[0m\n\u001b[0;32m    200\u001b[0m     \u001b[1;32mtry\u001b[0m\u001b[1;33m:\u001b[0m\u001b[1;33m\u001b[0m\u001b[1;33m\u001b[0m\u001b[0m\n\u001b[1;32m--> 201\u001b[1;33m       \u001b[1;32mreturn\u001b[0m \u001b[0mtarget\u001b[0m\u001b[1;33m(\u001b[0m\u001b[1;33m*\u001b[0m\u001b[0margs\u001b[0m\u001b[1;33m,\u001b[0m \u001b[1;33m**\u001b[0m\u001b[0mkwargs\u001b[0m\u001b[1;33m)\u001b[0m\u001b[1;33m\u001b[0m\u001b[1;33m\u001b[0m\u001b[0m\n\u001b[0m\u001b[0;32m    202\u001b[0m     \u001b[1;32mexcept\u001b[0m \u001b[1;33m(\u001b[0m\u001b[0mTypeError\u001b[0m\u001b[1;33m,\u001b[0m \u001b[0mValueError\u001b[0m\u001b[1;33m)\u001b[0m\u001b[1;33m:\u001b[0m\u001b[1;33m\u001b[0m\u001b[1;33m\u001b[0m\u001b[0m\n\u001b[0;32m    203\u001b[0m       \u001b[1;31m# Note: convert_to_eager_tensor currently raises a ValueError, not a\u001b[0m\u001b[1;33m\u001b[0m\u001b[1;33m\u001b[0m\u001b[1;33m\u001b[0m\u001b[0m\n",
      "\u001b[1;32mC:\\Python\\Anaconda3\\lib\\site-packages\\tensorflow\\python\\ops\\array_ops.py\u001b[0m in \u001b[0;36mwrapped\u001b[1;34m(*args, **kwargs)\u001b[0m\n\u001b[0;32m   2745\u001b[0m \u001b[1;33m\u001b[0m\u001b[0m\n\u001b[0;32m   2746\u001b[0m   \u001b[1;32mdef\u001b[0m \u001b[0mwrapped\u001b[0m\u001b[1;33m(\u001b[0m\u001b[1;33m*\u001b[0m\u001b[0margs\u001b[0m\u001b[1;33m,\u001b[0m \u001b[1;33m**\u001b[0m\u001b[0mkwargs\u001b[0m\u001b[1;33m)\u001b[0m\u001b[1;33m:\u001b[0m\u001b[1;33m\u001b[0m\u001b[1;33m\u001b[0m\u001b[0m\n\u001b[1;32m-> 2747\u001b[1;33m     \u001b[0mtensor\u001b[0m \u001b[1;33m=\u001b[0m \u001b[0mfun\u001b[0m\u001b[1;33m(\u001b[0m\u001b[1;33m*\u001b[0m\u001b[0margs\u001b[0m\u001b[1;33m,\u001b[0m \u001b[1;33m**\u001b[0m\u001b[0mkwargs\u001b[0m\u001b[1;33m)\u001b[0m\u001b[1;33m\u001b[0m\u001b[1;33m\u001b[0m\u001b[0m\n\u001b[0m\u001b[0;32m   2748\u001b[0m     \u001b[0mtensor\u001b[0m\u001b[1;33m.\u001b[0m\u001b[0m_is_zeros_tensor\u001b[0m \u001b[1;33m=\u001b[0m \u001b[1;32mTrue\u001b[0m\u001b[1;33m\u001b[0m\u001b[1;33m\u001b[0m\u001b[0m\n\u001b[0;32m   2749\u001b[0m     \u001b[1;32mreturn\u001b[0m \u001b[0mtensor\u001b[0m\u001b[1;33m\u001b[0m\u001b[1;33m\u001b[0m\u001b[0m\n",
      "\u001b[1;32mC:\\Python\\Anaconda3\\lib\\site-packages\\tensorflow\\python\\ops\\array_ops.py\u001b[0m in \u001b[0;36mzeros\u001b[1;34m(shape, dtype, name)\u001b[0m\n\u001b[0;32m   2792\u001b[0m           \u001b[1;31m# Create a constant if it won't be very big. Otherwise create a fill\u001b[0m\u001b[1;33m\u001b[0m\u001b[1;33m\u001b[0m\u001b[1;33m\u001b[0m\u001b[0m\n\u001b[0;32m   2793\u001b[0m           \u001b[1;31m# op to prevent serialized GraphDefs from becoming too large.\u001b[0m\u001b[1;33m\u001b[0m\u001b[1;33m\u001b[0m\u001b[1;33m\u001b[0m\u001b[0m\n\u001b[1;32m-> 2794\u001b[1;33m           \u001b[0moutput\u001b[0m \u001b[1;33m=\u001b[0m \u001b[0m_constant_if_small\u001b[0m\u001b[1;33m(\u001b[0m\u001b[0mzero\u001b[0m\u001b[1;33m,\u001b[0m \u001b[0mshape\u001b[0m\u001b[1;33m,\u001b[0m \u001b[0mdtype\u001b[0m\u001b[1;33m,\u001b[0m \u001b[0mname\u001b[0m\u001b[1;33m)\u001b[0m\u001b[1;33m\u001b[0m\u001b[1;33m\u001b[0m\u001b[0m\n\u001b[0m\u001b[0;32m   2795\u001b[0m           \u001b[1;32mif\u001b[0m \u001b[0moutput\u001b[0m \u001b[1;32mis\u001b[0m \u001b[1;32mnot\u001b[0m \u001b[1;32mNone\u001b[0m\u001b[1;33m:\u001b[0m\u001b[1;33m\u001b[0m\u001b[1;33m\u001b[0m\u001b[0m\n\u001b[0;32m   2796\u001b[0m             \u001b[1;32mreturn\u001b[0m \u001b[0moutput\u001b[0m\u001b[1;33m\u001b[0m\u001b[1;33m\u001b[0m\u001b[0m\n",
      "\u001b[1;32mC:\\Python\\Anaconda3\\lib\\site-packages\\tensorflow\\python\\ops\\array_ops.py\u001b[0m in \u001b[0;36m_constant_if_small\u001b[1;34m(value, shape, dtype, name)\u001b[0m\n\u001b[0;32m   2730\u001b[0m \u001b[1;32mdef\u001b[0m \u001b[0m_constant_if_small\u001b[0m\u001b[1;33m(\u001b[0m\u001b[0mvalue\u001b[0m\u001b[1;33m,\u001b[0m \u001b[0mshape\u001b[0m\u001b[1;33m,\u001b[0m \u001b[0mdtype\u001b[0m\u001b[1;33m,\u001b[0m \u001b[0mname\u001b[0m\u001b[1;33m)\u001b[0m\u001b[1;33m:\u001b[0m\u001b[1;33m\u001b[0m\u001b[1;33m\u001b[0m\u001b[0m\n\u001b[0;32m   2731\u001b[0m   \u001b[1;32mtry\u001b[0m\u001b[1;33m:\u001b[0m\u001b[1;33m\u001b[0m\u001b[1;33m\u001b[0m\u001b[0m\n\u001b[1;32m-> 2732\u001b[1;33m     \u001b[1;32mif\u001b[0m \u001b[0mnp\u001b[0m\u001b[1;33m.\u001b[0m\u001b[0mprod\u001b[0m\u001b[1;33m(\u001b[0m\u001b[0mshape\u001b[0m\u001b[1;33m)\u001b[0m \u001b[1;33m<\u001b[0m \u001b[1;36m1000\u001b[0m\u001b[1;33m:\u001b[0m\u001b[1;33m\u001b[0m\u001b[1;33m\u001b[0m\u001b[0m\n\u001b[0m\u001b[0;32m   2733\u001b[0m       \u001b[1;32mreturn\u001b[0m \u001b[0mconstant\u001b[0m\u001b[1;33m(\u001b[0m\u001b[0mvalue\u001b[0m\u001b[1;33m,\u001b[0m \u001b[0mshape\u001b[0m\u001b[1;33m=\u001b[0m\u001b[0mshape\u001b[0m\u001b[1;33m,\u001b[0m \u001b[0mdtype\u001b[0m\u001b[1;33m=\u001b[0m\u001b[0mdtype\u001b[0m\u001b[1;33m,\u001b[0m \u001b[0mname\u001b[0m\u001b[1;33m=\u001b[0m\u001b[0mname\u001b[0m\u001b[1;33m)\u001b[0m\u001b[1;33m\u001b[0m\u001b[1;33m\u001b[0m\u001b[0m\n\u001b[0;32m   2734\u001b[0m   \u001b[1;32mexcept\u001b[0m \u001b[0mTypeError\u001b[0m\u001b[1;33m:\u001b[0m\u001b[1;33m\u001b[0m\u001b[1;33m\u001b[0m\u001b[0m\n",
      "\u001b[1;32mC:\\Python\\Anaconda3\\lib\\site-packages\\numpy\\core\\overrides.py\u001b[0m in \u001b[0;36mprod\u001b[1;34m(*args, **kwargs)\u001b[0m\n",
      "\u001b[1;32mC:\\Python\\Anaconda3\\lib\\site-packages\\numpy\\core\\fromnumeric.py\u001b[0m in \u001b[0;36mprod\u001b[1;34m(a, axis, dtype, out, keepdims, initial, where)\u001b[0m\n\u001b[0;32m   3086\u001b[0m     \u001b[1;36m10\u001b[0m\u001b[1;33m\u001b[0m\u001b[1;33m\u001b[0m\u001b[0m\n\u001b[0;32m   3087\u001b[0m     \"\"\"\n\u001b[1;32m-> 3088\u001b[1;33m     return _wrapreduction(a, np.multiply, 'prod', axis, dtype, out,\n\u001b[0m\u001b[0;32m   3089\u001b[0m                           keepdims=keepdims, initial=initial, where=where)\n\u001b[0;32m   3090\u001b[0m \u001b[1;33m\u001b[0m\u001b[0m\n",
      "\u001b[1;32mC:\\Python\\Anaconda3\\lib\\site-packages\\numpy\\core\\fromnumeric.py\u001b[0m in \u001b[0;36m_wrapreduction\u001b[1;34m(obj, ufunc, method, axis, dtype, out, **kwargs)\u001b[0m\n\u001b[0;32m     84\u001b[0m                 \u001b[1;32mreturn\u001b[0m \u001b[0mreduction\u001b[0m\u001b[1;33m(\u001b[0m\u001b[0maxis\u001b[0m\u001b[1;33m=\u001b[0m\u001b[0maxis\u001b[0m\u001b[1;33m,\u001b[0m \u001b[0mout\u001b[0m\u001b[1;33m=\u001b[0m\u001b[0mout\u001b[0m\u001b[1;33m,\u001b[0m \u001b[1;33m**\u001b[0m\u001b[0mpasskwargs\u001b[0m\u001b[1;33m)\u001b[0m\u001b[1;33m\u001b[0m\u001b[1;33m\u001b[0m\u001b[0m\n\u001b[0;32m     85\u001b[0m \u001b[1;33m\u001b[0m\u001b[0m\n\u001b[1;32m---> 86\u001b[1;33m     \u001b[1;32mreturn\u001b[0m \u001b[0mufunc\u001b[0m\u001b[1;33m.\u001b[0m\u001b[0mreduce\u001b[0m\u001b[1;33m(\u001b[0m\u001b[0mobj\u001b[0m\u001b[1;33m,\u001b[0m \u001b[0maxis\u001b[0m\u001b[1;33m,\u001b[0m \u001b[0mdtype\u001b[0m\u001b[1;33m,\u001b[0m \u001b[0mout\u001b[0m\u001b[1;33m,\u001b[0m \u001b[1;33m**\u001b[0m\u001b[0mpasskwargs\u001b[0m\u001b[1;33m)\u001b[0m\u001b[1;33m\u001b[0m\u001b[1;33m\u001b[0m\u001b[0m\n\u001b[0m\u001b[0;32m     87\u001b[0m \u001b[1;33m\u001b[0m\u001b[0m\n\u001b[0;32m     88\u001b[0m \u001b[1;33m\u001b[0m\u001b[0m\n",
      "\u001b[1;32mC:\\Python\\Anaconda3\\lib\\site-packages\\tensorflow\\python\\framework\\ops.py\u001b[0m in \u001b[0;36m__array__\u001b[1;34m(self)\u001b[0m\n\u001b[0;32m    843\u001b[0m \u001b[1;33m\u001b[0m\u001b[0m\n\u001b[0;32m    844\u001b[0m   \u001b[1;32mdef\u001b[0m \u001b[0m__array__\u001b[0m\u001b[1;33m(\u001b[0m\u001b[0mself\u001b[0m\u001b[1;33m)\u001b[0m\u001b[1;33m:\u001b[0m\u001b[1;33m\u001b[0m\u001b[1;33m\u001b[0m\u001b[0m\n\u001b[1;32m--> 845\u001b[1;33m     raise NotImplementedError(\n\u001b[0m\u001b[0;32m    846\u001b[0m         \u001b[1;34m\"Cannot convert a symbolic Tensor ({}) to a numpy array.\"\u001b[0m\u001b[1;33m\u001b[0m\u001b[1;33m\u001b[0m\u001b[0m\n\u001b[0;32m    847\u001b[0m         \u001b[1;34m\" This error may indicate that you're trying to pass a Tensor to\"\u001b[0m\u001b[1;33m\u001b[0m\u001b[1;33m\u001b[0m\u001b[0m\n",
      "\u001b[1;31mNotImplementedError\u001b[0m: Cannot convert a symbolic Tensor (lstm/strided_slice:0) to a numpy array. This error may indicate that you're trying to pass a Tensor to a NumPy call, which is not supported"
     ]
    }
   ],
   "source": [
    "train_X = features_train.to_numpy().reshape((features_train.shape[0], 1, features_train.shape[1]))\n",
    "test_X = features_test.to_numpy().reshape((features_test.shape[0], 1, features_test.shape[1]))\n",
    "model = Sequential()\n",
    "model.add(LSTM(50, return_sequences=True, input_shape=(train_X.shape[1], train_X.shape[2])))\n",
    "model.add(Dropout(0.2))\n",
    "model.add(LSTM(units=50))\n",
    "model.add(Dropout(0.2))\n",
    "model.add(Dense(1))\n",
    "model.compile(loss='mean_squared_error', optimizer='adam')\n",
    "# fit network\n",
    "history = model.fit(train_X, target_train, epochs=50, batch_size=32, verbose=2, shuffle=False)\n",
    "y_pred_LSTM = model.predict(test_X)"
   ]
  },
  {
   "cell_type": "code",
   "execution_count": 72,
   "id": "50da4904",
   "metadata": {
    "id": "50da4904",
    "outputId": "1d0e0a81-a85b-411d-aa96-5606ff744b9d"
   },
   "outputs": [
    {
     "data": {
      "text/html": [
       "<div>\n",
       "<style scoped>\n",
       "    .dataframe tbody tr th:only-of-type {\n",
       "        vertical-align: middle;\n",
       "    }\n",
       "\n",
       "    .dataframe tbody tr th {\n",
       "        vertical-align: top;\n",
       "    }\n",
       "\n",
       "    .dataframe thead th {\n",
       "        text-align: right;\n",
       "    }\n",
       "</style>\n",
       "<table border=\"1\" class=\"dataframe\">\n",
       "  <thead>\n",
       "    <tr style=\"text-align: right;\">\n",
       "      <th></th>\n",
       "      <th>Actual Values</th>\n",
       "      <th>ElasticNet</th>\n",
       "      <th>RandomForest</th>\n",
       "      <th>XGBoost</th>\n",
       "      <th>SVR</th>\n",
       "      <th>HWES</th>\n",
       "      <th>VAR (1st difference)</th>\n",
       "      <th>VECM (1st difference)</th>\n",
       "      <th>ARIMA</th>\n",
       "      <th>SARIMA</th>\n",
       "      <th>SARIMAX (with exog)</th>\n",
       "    </tr>\n",
       "    <tr>\n",
       "      <th>pickup_time</th>\n",
       "      <th></th>\n",
       "      <th></th>\n",
       "      <th></th>\n",
       "      <th></th>\n",
       "      <th></th>\n",
       "      <th></th>\n",
       "      <th></th>\n",
       "      <th></th>\n",
       "      <th></th>\n",
       "      <th></th>\n",
       "      <th></th>\n",
       "    </tr>\n",
       "  </thead>\n",
       "  <tbody>\n",
       "    <tr>\n",
       "      <th>2022-06-30 00:00:00</th>\n",
       "      <td>151.996078</td>\n",
       "      <td>130.572454</td>\n",
       "      <td>122.655400</td>\n",
       "      <td>150.722565</td>\n",
       "      <td>111.777925</td>\n",
       "      <td>238.493812</td>\n",
       "      <td>282.556397</td>\n",
       "      <td>282.556397</td>\n",
       "      <td>287.489747</td>\n",
       "      <td>257.438349</td>\n",
       "      <td>252.872614</td>\n",
       "    </tr>\n",
       "    <tr>\n",
       "      <th>2022-06-30 01:00:00</th>\n",
       "      <td>144.995239</td>\n",
       "      <td>76.615502</td>\n",
       "      <td>62.439318</td>\n",
       "      <td>64.533165</td>\n",
       "      <td>69.058849</td>\n",
       "      <td>99.665703</td>\n",
       "      <td>277.233407</td>\n",
       "      <td>277.233407</td>\n",
       "      <td>277.737705</td>\n",
       "      <td>58.443926</td>\n",
       "      <td>59.900851</td>\n",
       "    </tr>\n",
       "    <tr>\n",
       "      <th>2022-06-30 02:00:00</th>\n",
       "      <td>54.984451</td>\n",
       "      <td>92.064038</td>\n",
       "      <td>66.413842</td>\n",
       "      <td>62.819733</td>\n",
       "      <td>61.603758</td>\n",
       "      <td>38.756607</td>\n",
       "      <td>267.042695</td>\n",
       "      <td>267.042695</td>\n",
       "      <td>278.349701</td>\n",
       "      <td>37.561116</td>\n",
       "      <td>38.064736</td>\n",
       "    </tr>\n",
       "    <tr>\n",
       "      <th>2022-06-30 03:00:00</th>\n",
       "      <td>30.981574</td>\n",
       "      <td>19.019760</td>\n",
       "      <td>42.180638</td>\n",
       "      <td>35.602875</td>\n",
       "      <td>30.967880</td>\n",
       "      <td>7.536555</td>\n",
       "      <td>261.961508</td>\n",
       "      <td>261.961508</td>\n",
       "      <td>286.837879</td>\n",
       "      <td>-8.786592</td>\n",
       "      <td>3.635577</td>\n",
       "    </tr>\n",
       "    <tr>\n",
       "      <th>2022-06-30 04:00:00</th>\n",
       "      <td>23.980735</td>\n",
       "      <td>121.185851</td>\n",
       "      <td>86.941394</td>\n",
       "      <td>44.541428</td>\n",
       "      <td>81.287840</td>\n",
       "      <td>9.516108</td>\n",
       "      <td>258.010991</td>\n",
       "      <td>258.010991</td>\n",
       "      <td>295.626527</td>\n",
       "      <td>-4.679864</td>\n",
       "      <td>-17.478247</td>\n",
       "    </tr>\n",
       "    <tr>\n",
       "      <th>2022-06-30 05:00:00</th>\n",
       "      <td>93.989126</td>\n",
       "      <td>85.160691</td>\n",
       "      <td>105.775531</td>\n",
       "      <td>97.239883</td>\n",
       "      <td>101.986951</td>\n",
       "      <td>69.507405</td>\n",
       "      <td>254.594827</td>\n",
       "      <td>254.594827</td>\n",
       "      <td>299.280972</td>\n",
       "      <td>58.122008</td>\n",
       "      <td>50.046161</td>\n",
       "    </tr>\n",
       "    <tr>\n",
       "      <th>2022-06-30 06:00:00</th>\n",
       "      <td>130.993561</td>\n",
       "      <td>149.272001</td>\n",
       "      <td>141.603151</td>\n",
       "      <td>155.651260</td>\n",
       "      <td>137.146895</td>\n",
       "      <td>142.677579</td>\n",
       "      <td>252.216353</td>\n",
       "      <td>252.216353</td>\n",
       "      <td>300.749281</td>\n",
       "      <td>111.506270</td>\n",
       "      <td>120.753780</td>\n",
       "    </tr>\n",
       "    <tr>\n",
       "      <th>2022-06-30 07:00:00</th>\n",
       "      <td>181.999674</td>\n",
       "      <td>189.874059</td>\n",
       "      <td>149.729529</td>\n",
       "      <td>118.997887</td>\n",
       "      <td>86.849731</td>\n",
       "      <td>166.913470</td>\n",
       "      <td>250.413944</td>\n",
       "      <td>250.413944</td>\n",
       "      <td>298.697792</td>\n",
       "      <td>138.403475</td>\n",
       "      <td>140.132066</td>\n",
       "    </tr>\n",
       "    <tr>\n",
       "      <th>2022-06-30 08:00:00</th>\n",
       "      <td>120.992362</td>\n",
       "      <td>206.174424</td>\n",
       "      <td>178.765674</td>\n",
       "      <td>182.802490</td>\n",
       "      <td>207.404318</td>\n",
       "      <td>143.759058</td>\n",
       "      <td>249.045267</td>\n",
       "      <td>249.045267</td>\n",
       "      <td>295.665923</td>\n",
       "      <td>116.404034</td>\n",
       "      <td>120.585946</td>\n",
       "    </tr>\n",
       "    <tr>\n",
       "      <th>2022-06-30 09:00:00</th>\n",
       "      <td>117.992003</td>\n",
       "      <td>213.173512</td>\n",
       "      <td>205.835630</td>\n",
       "      <td>197.650635</td>\n",
       "      <td>200.216545</td>\n",
       "      <td>117.456304</td>\n",
       "      <td>248.062262</td>\n",
       "      <td>248.062262</td>\n",
       "      <td>293.365711</td>\n",
       "      <td>96.334396</td>\n",
       "      <td>99.590898</td>\n",
       "    </tr>\n",
       "    <tr>\n",
       "      <th>2022-06-30 10:00:00</th>\n",
       "      <td>113.991523</td>\n",
       "      <td>179.114124</td>\n",
       "      <td>157.032024</td>\n",
       "      <td>116.872559</td>\n",
       "      <td>108.849919</td>\n",
       "      <td>129.278077</td>\n",
       "      <td>247.362127</td>\n",
       "      <td>247.362127</td>\n",
       "      <td>292.365494</td>\n",
       "      <td>111.699773</td>\n",
       "      <td>113.552672</td>\n",
       "    </tr>\n",
       "    <tr>\n",
       "      <th>2022-06-30 11:00:00</th>\n",
       "      <td>145.995359</td>\n",
       "      <td>226.198787</td>\n",
       "      <td>193.132727</td>\n",
       "      <td>188.145187</td>\n",
       "      <td>191.975234</td>\n",
       "      <td>150.479341</td>\n",
       "      <td>246.883244</td>\n",
       "      <td>246.883244</td>\n",
       "      <td>292.556164</td>\n",
       "      <td>135.321224</td>\n",
       "      <td>140.897621</td>\n",
       "    </tr>\n",
       "    <tr>\n",
       "      <th>2022-06-30 12:00:00</th>\n",
       "      <td>175.998955</td>\n",
       "      <td>235.132400</td>\n",
       "      <td>186.105645</td>\n",
       "      <td>213.894165</td>\n",
       "      <td>189.282453</td>\n",
       "      <td>196.076389</td>\n",
       "      <td>246.581880</td>\n",
       "      <td>246.581880</td>\n",
       "      <td>293.507471</td>\n",
       "      <td>159.710650</td>\n",
       "      <td>161.968210</td>\n",
       "    </tr>\n",
       "    <tr>\n",
       "      <th>2022-06-30 13:00:00</th>\n",
       "      <td>191.000753</td>\n",
       "      <td>234.014441</td>\n",
       "      <td>215.176249</td>\n",
       "      <td>220.600967</td>\n",
       "      <td>203.911856</td>\n",
       "      <td>190.930813</td>\n",
       "      <td>246.418479</td>\n",
       "      <td>246.418479</td>\n",
       "      <td>294.487697</td>\n",
       "      <td>116.542636</td>\n",
       "      <td>119.219372</td>\n",
       "    </tr>\n",
       "    <tr>\n",
       "      <th>2022-06-30 14:00:00</th>\n",
       "      <td>279.011301</td>\n",
       "      <td>247.586469</td>\n",
       "      <td>311.345798</td>\n",
       "      <td>294.765289</td>\n",
       "      <td>321.579032</td>\n",
       "      <td>278.966162</td>\n",
       "      <td>246.363633</td>\n",
       "      <td>246.363633</td>\n",
       "      <td>295.101938</td>\n",
       "      <td>220.667289</td>\n",
       "      <td>222.327692</td>\n",
       "    </tr>\n",
       "    <tr>\n",
       "      <th>2022-06-30 15:00:00</th>\n",
       "      <td>319.016096</td>\n",
       "      <td>251.269456</td>\n",
       "      <td>287.767500</td>\n",
       "      <td>279.874054</td>\n",
       "      <td>287.548390</td>\n",
       "      <td>348.844453</td>\n",
       "      <td>246.394573</td>\n",
       "      <td>246.394573</td>\n",
       "      <td>295.240395</td>\n",
       "      <td>335.465705</td>\n",
       "      <td>333.352890</td>\n",
       "    </tr>\n",
       "    <tr>\n",
       "      <th>2022-06-30 16:00:00</th>\n",
       "      <td>358.020771</td>\n",
       "      <td>271.501485</td>\n",
       "      <td>265.710668</td>\n",
       "      <td>286.624512</td>\n",
       "      <td>248.261114</td>\n",
       "      <td>318.774959</td>\n",
       "      <td>246.492947</td>\n",
       "      <td>246.492947</td>\n",
       "      <td>295.017235</td>\n",
       "      <td>308.014695</td>\n",
       "      <td>307.867866</td>\n",
       "    </tr>\n",
       "    <tr>\n",
       "      <th>2022-06-30 17:00:00</th>\n",
       "      <td>312.015257</td>\n",
       "      <td>275.102351</td>\n",
       "      <td>303.263665</td>\n",
       "      <td>306.812317</td>\n",
       "      <td>273.648007</td>\n",
       "      <td>309.459810</td>\n",
       "      <td>246.644463</td>\n",
       "      <td>246.644463</td>\n",
       "      <td>294.657643</td>\n",
       "      <td>285.229146</td>\n",
       "      <td>289.055530</td>\n",
       "    </tr>\n",
       "    <tr>\n",
       "      <th>2022-06-30 18:00:00</th>\n",
       "      <td>312.015257</td>\n",
       "      <td>267.782775</td>\n",
       "      <td>289.579440</td>\n",
       "      <td>295.394348</td>\n",
       "      <td>319.782616</td>\n",
       "      <td>301.021170</td>\n",
       "      <td>246.837889</td>\n",
       "      <td>246.837889</td>\n",
       "      <td>294.362292</td>\n",
       "      <td>264.754293</td>\n",
       "      <td>263.307121</td>\n",
       "    </tr>\n",
       "    <tr>\n",
       "      <th>2022-06-30 19:00:00</th>\n",
       "      <td>269.010103</td>\n",
       "      <td>232.362675</td>\n",
       "      <td>254.829357</td>\n",
       "      <td>252.488434</td>\n",
       "      <td>211.584384</td>\n",
       "      <td>314.298302</td>\n",
       "      <td>247.064339</td>\n",
       "      <td>247.064339</td>\n",
       "      <td>294.225607</td>\n",
       "      <td>293.212922</td>\n",
       "      <td>294.428554</td>\n",
       "    </tr>\n",
       "    <tr>\n",
       "      <th>2022-06-30 20:00:00</th>\n",
       "      <td>310.015017</td>\n",
       "      <td>229.714684</td>\n",
       "      <td>277.745762</td>\n",
       "      <td>293.592987</td>\n",
       "      <td>255.667746</td>\n",
       "      <td>318.370687</td>\n",
       "      <td>247.316827</td>\n",
       "      <td>247.316827</td>\n",
       "      <td>294.245287</td>\n",
       "      <td>290.143771</td>\n",
       "      <td>291.234957</td>\n",
       "    </tr>\n",
       "    <tr>\n",
       "      <th>2022-06-30 21:00:00</th>\n",
       "      <td>374.022689</td>\n",
       "      <td>220.840336</td>\n",
       "      <td>241.209368</td>\n",
       "      <td>236.147980</td>\n",
       "      <td>268.257183</td>\n",
       "      <td>352.060232</td>\n",
       "      <td>247.589847</td>\n",
       "      <td>247.589847</td>\n",
       "      <td>294.355510</td>\n",
       "      <td>313.082278</td>\n",
       "      <td>315.638323</td>\n",
       "    </tr>\n",
       "    <tr>\n",
       "      <th>2022-06-30 22:00:00</th>\n",
       "      <td>338.018374</td>\n",
       "      <td>209.950256</td>\n",
       "      <td>275.203293</td>\n",
       "      <td>294.390381</td>\n",
       "      <td>271.100034</td>\n",
       "      <td>329.964076</td>\n",
       "      <td>247.879055</td>\n",
       "      <td>247.879055</td>\n",
       "      <td>294.477356</td>\n",
       "      <td>304.831859</td>\n",
       "      <td>307.107979</td>\n",
       "    </tr>\n",
       "    <tr>\n",
       "      <th>2022-06-30 23:00:00</th>\n",
       "      <td>267.009863</td>\n",
       "      <td>197.868996</td>\n",
       "      <td>246.485398</td>\n",
       "      <td>258.792969</td>\n",
       "      <td>228.168761</td>\n",
       "      <td>300.045510</td>\n",
       "      <td>248.181027</td>\n",
       "      <td>248.181027</td>\n",
       "      <td>294.556767</td>\n",
       "      <td>295.431940</td>\n",
       "      <td>294.431211</td>\n",
       "    </tr>\n",
       "  </tbody>\n",
       "</table>\n",
       "</div>"
      ],
      "text/plain": [
       "                     Actual Values  ElasticNet  RandomForest     XGBoost  \\\n",
       "pickup_time                                                                \n",
       "2022-06-30 00:00:00     151.996078  130.572454    122.655400  150.722565   \n",
       "2022-06-30 01:00:00     144.995239   76.615502     62.439318   64.533165   \n",
       "2022-06-30 02:00:00      54.984451   92.064038     66.413842   62.819733   \n",
       "2022-06-30 03:00:00      30.981574   19.019760     42.180638   35.602875   \n",
       "2022-06-30 04:00:00      23.980735  121.185851     86.941394   44.541428   \n",
       "2022-06-30 05:00:00      93.989126   85.160691    105.775531   97.239883   \n",
       "2022-06-30 06:00:00     130.993561  149.272001    141.603151  155.651260   \n",
       "2022-06-30 07:00:00     181.999674  189.874059    149.729529  118.997887   \n",
       "2022-06-30 08:00:00     120.992362  206.174424    178.765674  182.802490   \n",
       "2022-06-30 09:00:00     117.992003  213.173512    205.835630  197.650635   \n",
       "2022-06-30 10:00:00     113.991523  179.114124    157.032024  116.872559   \n",
       "2022-06-30 11:00:00     145.995359  226.198787    193.132727  188.145187   \n",
       "2022-06-30 12:00:00     175.998955  235.132400    186.105645  213.894165   \n",
       "2022-06-30 13:00:00     191.000753  234.014441    215.176249  220.600967   \n",
       "2022-06-30 14:00:00     279.011301  247.586469    311.345798  294.765289   \n",
       "2022-06-30 15:00:00     319.016096  251.269456    287.767500  279.874054   \n",
       "2022-06-30 16:00:00     358.020771  271.501485    265.710668  286.624512   \n",
       "2022-06-30 17:00:00     312.015257  275.102351    303.263665  306.812317   \n",
       "2022-06-30 18:00:00     312.015257  267.782775    289.579440  295.394348   \n",
       "2022-06-30 19:00:00     269.010103  232.362675    254.829357  252.488434   \n",
       "2022-06-30 20:00:00     310.015017  229.714684    277.745762  293.592987   \n",
       "2022-06-30 21:00:00     374.022689  220.840336    241.209368  236.147980   \n",
       "2022-06-30 22:00:00     338.018374  209.950256    275.203293  294.390381   \n",
       "2022-06-30 23:00:00     267.009863  197.868996    246.485398  258.792969   \n",
       "\n",
       "                            SVR        HWES  VAR (1st difference)  \\\n",
       "pickup_time                                                         \n",
       "2022-06-30 00:00:00  111.777925  238.493812            282.556397   \n",
       "2022-06-30 01:00:00   69.058849   99.665703            277.233407   \n",
       "2022-06-30 02:00:00   61.603758   38.756607            267.042695   \n",
       "2022-06-30 03:00:00   30.967880    7.536555            261.961508   \n",
       "2022-06-30 04:00:00   81.287840    9.516108            258.010991   \n",
       "2022-06-30 05:00:00  101.986951   69.507405            254.594827   \n",
       "2022-06-30 06:00:00  137.146895  142.677579            252.216353   \n",
       "2022-06-30 07:00:00   86.849731  166.913470            250.413944   \n",
       "2022-06-30 08:00:00  207.404318  143.759058            249.045267   \n",
       "2022-06-30 09:00:00  200.216545  117.456304            248.062262   \n",
       "2022-06-30 10:00:00  108.849919  129.278077            247.362127   \n",
       "2022-06-30 11:00:00  191.975234  150.479341            246.883244   \n",
       "2022-06-30 12:00:00  189.282453  196.076389            246.581880   \n",
       "2022-06-30 13:00:00  203.911856  190.930813            246.418479   \n",
       "2022-06-30 14:00:00  321.579032  278.966162            246.363633   \n",
       "2022-06-30 15:00:00  287.548390  348.844453            246.394573   \n",
       "2022-06-30 16:00:00  248.261114  318.774959            246.492947   \n",
       "2022-06-30 17:00:00  273.648007  309.459810            246.644463   \n",
       "2022-06-30 18:00:00  319.782616  301.021170            246.837889   \n",
       "2022-06-30 19:00:00  211.584384  314.298302            247.064339   \n",
       "2022-06-30 20:00:00  255.667746  318.370687            247.316827   \n",
       "2022-06-30 21:00:00  268.257183  352.060232            247.589847   \n",
       "2022-06-30 22:00:00  271.100034  329.964076            247.879055   \n",
       "2022-06-30 23:00:00  228.168761  300.045510            248.181027   \n",
       "\n",
       "                     VECM (1st difference)       ARIMA      SARIMA  \\\n",
       "pickup_time                                                          \n",
       "2022-06-30 00:00:00             282.556397  287.489747  257.438349   \n",
       "2022-06-30 01:00:00             277.233407  277.737705   58.443926   \n",
       "2022-06-30 02:00:00             267.042695  278.349701   37.561116   \n",
       "2022-06-30 03:00:00             261.961508  286.837879   -8.786592   \n",
       "2022-06-30 04:00:00             258.010991  295.626527   -4.679864   \n",
       "2022-06-30 05:00:00             254.594827  299.280972   58.122008   \n",
       "2022-06-30 06:00:00             252.216353  300.749281  111.506270   \n",
       "2022-06-30 07:00:00             250.413944  298.697792  138.403475   \n",
       "2022-06-30 08:00:00             249.045267  295.665923  116.404034   \n",
       "2022-06-30 09:00:00             248.062262  293.365711   96.334396   \n",
       "2022-06-30 10:00:00             247.362127  292.365494  111.699773   \n",
       "2022-06-30 11:00:00             246.883244  292.556164  135.321224   \n",
       "2022-06-30 12:00:00             246.581880  293.507471  159.710650   \n",
       "2022-06-30 13:00:00             246.418479  294.487697  116.542636   \n",
       "2022-06-30 14:00:00             246.363633  295.101938  220.667289   \n",
       "2022-06-30 15:00:00             246.394573  295.240395  335.465705   \n",
       "2022-06-30 16:00:00             246.492947  295.017235  308.014695   \n",
       "2022-06-30 17:00:00             246.644463  294.657643  285.229146   \n",
       "2022-06-30 18:00:00             246.837889  294.362292  264.754293   \n",
       "2022-06-30 19:00:00             247.064339  294.225607  293.212922   \n",
       "2022-06-30 20:00:00             247.316827  294.245287  290.143771   \n",
       "2022-06-30 21:00:00             247.589847  294.355510  313.082278   \n",
       "2022-06-30 22:00:00             247.879055  294.477356  304.831859   \n",
       "2022-06-30 23:00:00             248.181027  294.556767  295.431940   \n",
       "\n",
       "                     SARIMAX (with exog)  \n",
       "pickup_time                               \n",
       "2022-06-30 00:00:00           252.872614  \n",
       "2022-06-30 01:00:00            59.900851  \n",
       "2022-06-30 02:00:00            38.064736  \n",
       "2022-06-30 03:00:00             3.635577  \n",
       "2022-06-30 04:00:00           -17.478247  \n",
       "2022-06-30 05:00:00            50.046161  \n",
       "2022-06-30 06:00:00           120.753780  \n",
       "2022-06-30 07:00:00           140.132066  \n",
       "2022-06-30 08:00:00           120.585946  \n",
       "2022-06-30 09:00:00            99.590898  \n",
       "2022-06-30 10:00:00           113.552672  \n",
       "2022-06-30 11:00:00           140.897621  \n",
       "2022-06-30 12:00:00           161.968210  \n",
       "2022-06-30 13:00:00           119.219372  \n",
       "2022-06-30 14:00:00           222.327692  \n",
       "2022-06-30 15:00:00           333.352890  \n",
       "2022-06-30 16:00:00           307.867866  \n",
       "2022-06-30 17:00:00           289.055530  \n",
       "2022-06-30 18:00:00           263.307121  \n",
       "2022-06-30 19:00:00           294.428554  \n",
       "2022-06-30 20:00:00           291.234957  \n",
       "2022-06-30 21:00:00           315.638323  \n",
       "2022-06-30 22:00:00           307.107979  \n",
       "2022-06-30 23:00:00           294.431211  "
      ]
     },
     "execution_count": 72,
     "metadata": {},
     "output_type": "execute_result"
    }
   ],
   "source": [
    "predictions=pd.DataFrame()\n",
    "predictions['Actual Values']=target_test\n",
    "predictions['ElasticNet']=y_pred_EN\n",
    "predictions['RandomForest']=y_pred_rf\n",
    "predictions['XGBoost']=y_pred_xgb\n",
    "predictions['SVR']=y_pred_svr\n",
    "predictions['HWES']=y_pred_hwes\n",
    "predictions['VAR (1st difference)']=y_pred_VAR\n",
    "predictions['VECM (1st difference)']=y_pred_VECM\n",
    "predictions['ARIMA']=y_pred_arima.values\n",
    "predictions['SARIMA']=y_pred_sarima\n",
    "predictions['SARIMAX (with exog)']=y_pred_sarimax\n",
    "predictions['LSTM']=y_pred_LSTM\n",
    "predictions=(predictions*std_target)+ mean_target\n",
    "predictions"
   ]
  },
  {
   "cell_type": "code",
   "execution_count": 73,
   "id": "c995a373",
   "metadata": {
    "id": "c995a373"
   },
   "outputs": [],
   "source": [
    "RMSE = {}\n",
    "RMSE['ElasticNet']=mean_squared_error(predictions['Actual Values'],predictions['ElasticNet'],squared=False)\n",
    "RMSE['RandomForest']=mean_squared_error(predictions['Actual Values'],predictions['RandomForest'],squared=False)\n",
    "RMSE['XGBoost']=mean_squared_error(predictions['Actual Values'],predictions['XGBoost'],squared=False)\n",
    "RMSE['HWES']=mean_squared_error(predictions['Actual Values'],predictions['HWES'],squared=False)\n",
    "RMSE['SVR']=mean_squared_error(predictions['Actual Values'],predictions['SVR'],squared=False)\n",
    "RMSE['VAR (1st difference)']=mean_squared_error(predictions['Actual Values'],predictions['VAR (1st difference)'],squared=False)\n",
    "RMSE['VECM (1st difference)']=mean_squared_error(predictions['Actual Values'],predictions['VECM (1st difference)'],squared=False)\n",
    "RMSE['ARIMA']=mean_squared_error(predictions['Actual Values'],predictions['ARIMA'],squared=False)\n",
    "RMSE['SARIMA']=mean_squared_error(predictions['Actual Values'],predictions['SARIMA'],squared=False)\n",
    "RMSE['SARIMAX (with exog)']=mean_squared_error(predictions['Actual Values'],predictions['SARIMAX (with exog)'],squared=False)\n",
    "RMSE['LSTM']=mean_squared_error(predictions['Actual Values'],predictions['LSTM'],squared=False)\n",
    "RMSE = {'MODELS': list(RMSE.keys()), 'RMSE': list(RMSE.values())}"
   ]
  },
  {
   "cell_type": "code",
   "execution_count": 74,
   "id": "6af4d380",
   "metadata": {
    "id": "6af4d380",
    "outputId": "73c7938f-ca06-4527-dfab-b8d6917f51cc"
   },
   "outputs": [
    {
     "data": {
      "application/vnd.plotly.v1+json": {
       "config": {
        "plotlyServerURL": "https://plot.ly"
       },
       "data": [
        {
         "alignmentgroup": "True",
         "hovertemplate": "MODELS=%{x}<br>RMSE=%{y}<extra></extra>",
         "legendgroup": "",
         "marker": {
          "color": "#636efa",
          "pattern": {
           "shape": ""
          }
         },
         "name": "",
         "offsetgroup": "",
         "orientation": "v",
         "showlegend": false,
         "textposition": "auto",
         "type": "bar",
         "x": [
          "ElasticNet",
          "RandomForest",
          "XGBoost",
          "HWES",
          "SVR",
          "VAR (1st difference)",
          "VECM (1st difference)",
          "ARIMA",
          "SARIMA",
          "SARIMAX (with exog)"
         ],
         "xaxis": "x",
         "y": [
          70.03907075093473,
          51.38759569812878,
          47.66909007188188,
          28.147386761849045,
          56.415458256742625,
          122.1858848834096,
          122.1858848834096,
          139.05630098179813,
          44.26765676185896,
          43.11882402667035
         ],
         "yaxis": "y"
        }
       ],
       "layout": {
        "barmode": "relative",
        "legend": {
         "tracegroupgap": 0
        },
        "margin": {
         "t": 60
        },
        "paper_bgcolor": "rgba(0, 0, 0, 0)",
        "plot_bgcolor": "rgba(0, 0, 0, 0)",
        "template": {
         "data": {
          "bar": [
           {
            "error_x": {
             "color": "#2a3f5f"
            },
            "error_y": {
             "color": "#2a3f5f"
            },
            "marker": {
             "line": {
              "color": "#E5ECF6",
              "width": 0.5
             },
             "pattern": {
              "fillmode": "overlay",
              "size": 10,
              "solidity": 0.2
             }
            },
            "type": "bar"
           }
          ],
          "barpolar": [
           {
            "marker": {
             "line": {
              "color": "#E5ECF6",
              "width": 0.5
             },
             "pattern": {
              "fillmode": "overlay",
              "size": 10,
              "solidity": 0.2
             }
            },
            "type": "barpolar"
           }
          ],
          "carpet": [
           {
            "aaxis": {
             "endlinecolor": "#2a3f5f",
             "gridcolor": "white",
             "linecolor": "white",
             "minorgridcolor": "white",
             "startlinecolor": "#2a3f5f"
            },
            "baxis": {
             "endlinecolor": "#2a3f5f",
             "gridcolor": "white",
             "linecolor": "white",
             "minorgridcolor": "white",
             "startlinecolor": "#2a3f5f"
            },
            "type": "carpet"
           }
          ],
          "choropleth": [
           {
            "colorbar": {
             "outlinewidth": 0,
             "ticks": ""
            },
            "type": "choropleth"
           }
          ],
          "contour": [
           {
            "colorbar": {
             "outlinewidth": 0,
             "ticks": ""
            },
            "colorscale": [
             [
              0,
              "#0d0887"
             ],
             [
              0.1111111111111111,
              "#46039f"
             ],
             [
              0.2222222222222222,
              "#7201a8"
             ],
             [
              0.3333333333333333,
              "#9c179e"
             ],
             [
              0.4444444444444444,
              "#bd3786"
             ],
             [
              0.5555555555555556,
              "#d8576b"
             ],
             [
              0.6666666666666666,
              "#ed7953"
             ],
             [
              0.7777777777777778,
              "#fb9f3a"
             ],
             [
              0.8888888888888888,
              "#fdca26"
             ],
             [
              1,
              "#f0f921"
             ]
            ],
            "type": "contour"
           }
          ],
          "contourcarpet": [
           {
            "colorbar": {
             "outlinewidth": 0,
             "ticks": ""
            },
            "type": "contourcarpet"
           }
          ],
          "heatmap": [
           {
            "colorbar": {
             "outlinewidth": 0,
             "ticks": ""
            },
            "colorscale": [
             [
              0,
              "#0d0887"
             ],
             [
              0.1111111111111111,
              "#46039f"
             ],
             [
              0.2222222222222222,
              "#7201a8"
             ],
             [
              0.3333333333333333,
              "#9c179e"
             ],
             [
              0.4444444444444444,
              "#bd3786"
             ],
             [
              0.5555555555555556,
              "#d8576b"
             ],
             [
              0.6666666666666666,
              "#ed7953"
             ],
             [
              0.7777777777777778,
              "#fb9f3a"
             ],
             [
              0.8888888888888888,
              "#fdca26"
             ],
             [
              1,
              "#f0f921"
             ]
            ],
            "type": "heatmap"
           }
          ],
          "heatmapgl": [
           {
            "colorbar": {
             "outlinewidth": 0,
             "ticks": ""
            },
            "colorscale": [
             [
              0,
              "#0d0887"
             ],
             [
              0.1111111111111111,
              "#46039f"
             ],
             [
              0.2222222222222222,
              "#7201a8"
             ],
             [
              0.3333333333333333,
              "#9c179e"
             ],
             [
              0.4444444444444444,
              "#bd3786"
             ],
             [
              0.5555555555555556,
              "#d8576b"
             ],
             [
              0.6666666666666666,
              "#ed7953"
             ],
             [
              0.7777777777777778,
              "#fb9f3a"
             ],
             [
              0.8888888888888888,
              "#fdca26"
             ],
             [
              1,
              "#f0f921"
             ]
            ],
            "type": "heatmapgl"
           }
          ],
          "histogram": [
           {
            "marker": {
             "pattern": {
              "fillmode": "overlay",
              "size": 10,
              "solidity": 0.2
             }
            },
            "type": "histogram"
           }
          ],
          "histogram2d": [
           {
            "colorbar": {
             "outlinewidth": 0,
             "ticks": ""
            },
            "colorscale": [
             [
              0,
              "#0d0887"
             ],
             [
              0.1111111111111111,
              "#46039f"
             ],
             [
              0.2222222222222222,
              "#7201a8"
             ],
             [
              0.3333333333333333,
              "#9c179e"
             ],
             [
              0.4444444444444444,
              "#bd3786"
             ],
             [
              0.5555555555555556,
              "#d8576b"
             ],
             [
              0.6666666666666666,
              "#ed7953"
             ],
             [
              0.7777777777777778,
              "#fb9f3a"
             ],
             [
              0.8888888888888888,
              "#fdca26"
             ],
             [
              1,
              "#f0f921"
             ]
            ],
            "type": "histogram2d"
           }
          ],
          "histogram2dcontour": [
           {
            "colorbar": {
             "outlinewidth": 0,
             "ticks": ""
            },
            "colorscale": [
             [
              0,
              "#0d0887"
             ],
             [
              0.1111111111111111,
              "#46039f"
             ],
             [
              0.2222222222222222,
              "#7201a8"
             ],
             [
              0.3333333333333333,
              "#9c179e"
             ],
             [
              0.4444444444444444,
              "#bd3786"
             ],
             [
              0.5555555555555556,
              "#d8576b"
             ],
             [
              0.6666666666666666,
              "#ed7953"
             ],
             [
              0.7777777777777778,
              "#fb9f3a"
             ],
             [
              0.8888888888888888,
              "#fdca26"
             ],
             [
              1,
              "#f0f921"
             ]
            ],
            "type": "histogram2dcontour"
           }
          ],
          "mesh3d": [
           {
            "colorbar": {
             "outlinewidth": 0,
             "ticks": ""
            },
            "type": "mesh3d"
           }
          ],
          "parcoords": [
           {
            "line": {
             "colorbar": {
              "outlinewidth": 0,
              "ticks": ""
             }
            },
            "type": "parcoords"
           }
          ],
          "pie": [
           {
            "automargin": true,
            "type": "pie"
           }
          ],
          "scatter": [
           {
            "fillpattern": {
             "fillmode": "overlay",
             "size": 10,
             "solidity": 0.2
            },
            "type": "scatter"
           }
          ],
          "scatter3d": [
           {
            "line": {
             "colorbar": {
              "outlinewidth": 0,
              "ticks": ""
             }
            },
            "marker": {
             "colorbar": {
              "outlinewidth": 0,
              "ticks": ""
             }
            },
            "type": "scatter3d"
           }
          ],
          "scattercarpet": [
           {
            "marker": {
             "colorbar": {
              "outlinewidth": 0,
              "ticks": ""
             }
            },
            "type": "scattercarpet"
           }
          ],
          "scattergeo": [
           {
            "marker": {
             "colorbar": {
              "outlinewidth": 0,
              "ticks": ""
             }
            },
            "type": "scattergeo"
           }
          ],
          "scattergl": [
           {
            "marker": {
             "colorbar": {
              "outlinewidth": 0,
              "ticks": ""
             }
            },
            "type": "scattergl"
           }
          ],
          "scattermapbox": [
           {
            "marker": {
             "colorbar": {
              "outlinewidth": 0,
              "ticks": ""
             }
            },
            "type": "scattermapbox"
           }
          ],
          "scatterpolar": [
           {
            "marker": {
             "colorbar": {
              "outlinewidth": 0,
              "ticks": ""
             }
            },
            "type": "scatterpolar"
           }
          ],
          "scatterpolargl": [
           {
            "marker": {
             "colorbar": {
              "outlinewidth": 0,
              "ticks": ""
             }
            },
            "type": "scatterpolargl"
           }
          ],
          "scatterternary": [
           {
            "marker": {
             "colorbar": {
              "outlinewidth": 0,
              "ticks": ""
             }
            },
            "type": "scatterternary"
           }
          ],
          "surface": [
           {
            "colorbar": {
             "outlinewidth": 0,
             "ticks": ""
            },
            "colorscale": [
             [
              0,
              "#0d0887"
             ],
             [
              0.1111111111111111,
              "#46039f"
             ],
             [
              0.2222222222222222,
              "#7201a8"
             ],
             [
              0.3333333333333333,
              "#9c179e"
             ],
             [
              0.4444444444444444,
              "#bd3786"
             ],
             [
              0.5555555555555556,
              "#d8576b"
             ],
             [
              0.6666666666666666,
              "#ed7953"
             ],
             [
              0.7777777777777778,
              "#fb9f3a"
             ],
             [
              0.8888888888888888,
              "#fdca26"
             ],
             [
              1,
              "#f0f921"
             ]
            ],
            "type": "surface"
           }
          ],
          "table": [
           {
            "cells": {
             "fill": {
              "color": "#EBF0F8"
             },
             "line": {
              "color": "white"
             }
            },
            "header": {
             "fill": {
              "color": "#C8D4E3"
             },
             "line": {
              "color": "white"
             }
            },
            "type": "table"
           }
          ]
         },
         "layout": {
          "annotationdefaults": {
           "arrowcolor": "#2a3f5f",
           "arrowhead": 0,
           "arrowwidth": 1
          },
          "autotypenumbers": "strict",
          "coloraxis": {
           "colorbar": {
            "outlinewidth": 0,
            "ticks": ""
           }
          },
          "colorscale": {
           "diverging": [
            [
             0,
             "#8e0152"
            ],
            [
             0.1,
             "#c51b7d"
            ],
            [
             0.2,
             "#de77ae"
            ],
            [
             0.3,
             "#f1b6da"
            ],
            [
             0.4,
             "#fde0ef"
            ],
            [
             0.5,
             "#f7f7f7"
            ],
            [
             0.6,
             "#e6f5d0"
            ],
            [
             0.7,
             "#b8e186"
            ],
            [
             0.8,
             "#7fbc41"
            ],
            [
             0.9,
             "#4d9221"
            ],
            [
             1,
             "#276419"
            ]
           ],
           "sequential": [
            [
             0,
             "#0d0887"
            ],
            [
             0.1111111111111111,
             "#46039f"
            ],
            [
             0.2222222222222222,
             "#7201a8"
            ],
            [
             0.3333333333333333,
             "#9c179e"
            ],
            [
             0.4444444444444444,
             "#bd3786"
            ],
            [
             0.5555555555555556,
             "#d8576b"
            ],
            [
             0.6666666666666666,
             "#ed7953"
            ],
            [
             0.7777777777777778,
             "#fb9f3a"
            ],
            [
             0.8888888888888888,
             "#fdca26"
            ],
            [
             1,
             "#f0f921"
            ]
           ],
           "sequentialminus": [
            [
             0,
             "#0d0887"
            ],
            [
             0.1111111111111111,
             "#46039f"
            ],
            [
             0.2222222222222222,
             "#7201a8"
            ],
            [
             0.3333333333333333,
             "#9c179e"
            ],
            [
             0.4444444444444444,
             "#bd3786"
            ],
            [
             0.5555555555555556,
             "#d8576b"
            ],
            [
             0.6666666666666666,
             "#ed7953"
            ],
            [
             0.7777777777777778,
             "#fb9f3a"
            ],
            [
             0.8888888888888888,
             "#fdca26"
            ],
            [
             1,
             "#f0f921"
            ]
           ]
          },
          "colorway": [
           "#636efa",
           "#EF553B",
           "#00cc96",
           "#ab63fa",
           "#FFA15A",
           "#19d3f3",
           "#FF6692",
           "#B6E880",
           "#FF97FF",
           "#FECB52"
          ],
          "font": {
           "color": "#2a3f5f"
          },
          "geo": {
           "bgcolor": "white",
           "lakecolor": "white",
           "landcolor": "#E5ECF6",
           "showlakes": true,
           "showland": true,
           "subunitcolor": "white"
          },
          "hoverlabel": {
           "align": "left"
          },
          "hovermode": "closest",
          "mapbox": {
           "style": "light"
          },
          "paper_bgcolor": "white",
          "plot_bgcolor": "#E5ECF6",
          "polar": {
           "angularaxis": {
            "gridcolor": "white",
            "linecolor": "white",
            "ticks": ""
           },
           "bgcolor": "#E5ECF6",
           "radialaxis": {
            "gridcolor": "white",
            "linecolor": "white",
            "ticks": ""
           }
          },
          "scene": {
           "xaxis": {
            "backgroundcolor": "#E5ECF6",
            "gridcolor": "white",
            "gridwidth": 2,
            "linecolor": "white",
            "showbackground": true,
            "ticks": "",
            "zerolinecolor": "white"
           },
           "yaxis": {
            "backgroundcolor": "#E5ECF6",
            "gridcolor": "white",
            "gridwidth": 2,
            "linecolor": "white",
            "showbackground": true,
            "ticks": "",
            "zerolinecolor": "white"
           },
           "zaxis": {
            "backgroundcolor": "#E5ECF6",
            "gridcolor": "white",
            "gridwidth": 2,
            "linecolor": "white",
            "showbackground": true,
            "ticks": "",
            "zerolinecolor": "white"
           }
          },
          "shapedefaults": {
           "line": {
            "color": "#2a3f5f"
           }
          },
          "ternary": {
           "aaxis": {
            "gridcolor": "white",
            "linecolor": "white",
            "ticks": ""
           },
           "baxis": {
            "gridcolor": "white",
            "linecolor": "white",
            "ticks": ""
           },
           "bgcolor": "#E5ECF6",
           "caxis": {
            "gridcolor": "white",
            "linecolor": "white",
            "ticks": ""
           }
          },
          "title": {
           "x": 0.05
          },
          "xaxis": {
           "automargin": true,
           "gridcolor": "white",
           "linecolor": "white",
           "ticks": "",
           "title": {
            "standoff": 15
           },
           "zerolinecolor": "white",
           "zerolinewidth": 2
          },
          "yaxis": {
           "automargin": true,
           "gridcolor": "white",
           "linecolor": "white",
           "ticks": "",
           "title": {
            "standoff": 15
           },
           "zerolinecolor": "white",
           "zerolinewidth": 2
          }
         }
        },
        "xaxis": {
         "anchor": "y",
         "automargin": true,
         "domain": [
          0,
          1
         ],
         "title": {
          "text": "MODELS"
         }
        },
        "yaxis": {
         "anchor": "x",
         "automargin": true,
         "domain": [
          0,
          1
         ],
         "title": {
          "text": "RMSE"
         }
        }
       }
      },
      "text/html": [
       "<div>                            <div id=\"dfc18c65-9ea9-4802-a53e-996fcb3deb17\" class=\"plotly-graph-div\" style=\"height:525px; width:100%;\"></div>            <script type=\"text/javascript\">                require([\"plotly\"], function(Plotly) {                    window.PLOTLYENV=window.PLOTLYENV || {};                                    if (document.getElementById(\"dfc18c65-9ea9-4802-a53e-996fcb3deb17\")) {                    Plotly.newPlot(                        \"dfc18c65-9ea9-4802-a53e-996fcb3deb17\",                        [{\"alignmentgroup\":\"True\",\"hovertemplate\":\"MODELS=%{x}<br>RMSE=%{y}<extra></extra>\",\"legendgroup\":\"\",\"marker\":{\"color\":\"#636efa\",\"pattern\":{\"shape\":\"\"}},\"name\":\"\",\"offsetgroup\":\"\",\"orientation\":\"v\",\"showlegend\":false,\"textposition\":\"auto\",\"x\":[\"ElasticNet\",\"RandomForest\",\"XGBoost\",\"HWES\",\"SVR\",\"VAR (1st difference)\",\"VECM (1st difference)\",\"ARIMA\",\"SARIMA\",\"SARIMAX (with exog)\"],\"xaxis\":\"x\",\"y\":[70.03907075093473,51.38759569812878,47.66909007188188,28.147386761849045,56.415458256742625,122.1858848834096,122.1858848834096,139.05630098179813,44.26765676185896,43.11882402667035],\"yaxis\":\"y\",\"type\":\"bar\"}],                        {\"template\":{\"data\":{\"histogram2dcontour\":[{\"type\":\"histogram2dcontour\",\"colorbar\":{\"outlinewidth\":0,\"ticks\":\"\"},\"colorscale\":[[0.0,\"#0d0887\"],[0.1111111111111111,\"#46039f\"],[0.2222222222222222,\"#7201a8\"],[0.3333333333333333,\"#9c179e\"],[0.4444444444444444,\"#bd3786\"],[0.5555555555555556,\"#d8576b\"],[0.6666666666666666,\"#ed7953\"],[0.7777777777777778,\"#fb9f3a\"],[0.8888888888888888,\"#fdca26\"],[1.0,\"#f0f921\"]]}],\"choropleth\":[{\"type\":\"choropleth\",\"colorbar\":{\"outlinewidth\":0,\"ticks\":\"\"}}],\"histogram2d\":[{\"type\":\"histogram2d\",\"colorbar\":{\"outlinewidth\":0,\"ticks\":\"\"},\"colorscale\":[[0.0,\"#0d0887\"],[0.1111111111111111,\"#46039f\"],[0.2222222222222222,\"#7201a8\"],[0.3333333333333333,\"#9c179e\"],[0.4444444444444444,\"#bd3786\"],[0.5555555555555556,\"#d8576b\"],[0.6666666666666666,\"#ed7953\"],[0.7777777777777778,\"#fb9f3a\"],[0.8888888888888888,\"#fdca26\"],[1.0,\"#f0f921\"]]}],\"heatmap\":[{\"type\":\"heatmap\",\"colorbar\":{\"outlinewidth\":0,\"ticks\":\"\"},\"colorscale\":[[0.0,\"#0d0887\"],[0.1111111111111111,\"#46039f\"],[0.2222222222222222,\"#7201a8\"],[0.3333333333333333,\"#9c179e\"],[0.4444444444444444,\"#bd3786\"],[0.5555555555555556,\"#d8576b\"],[0.6666666666666666,\"#ed7953\"],[0.7777777777777778,\"#fb9f3a\"],[0.8888888888888888,\"#fdca26\"],[1.0,\"#f0f921\"]]}],\"heatmapgl\":[{\"type\":\"heatmapgl\",\"colorbar\":{\"outlinewidth\":0,\"ticks\":\"\"},\"colorscale\":[[0.0,\"#0d0887\"],[0.1111111111111111,\"#46039f\"],[0.2222222222222222,\"#7201a8\"],[0.3333333333333333,\"#9c179e\"],[0.4444444444444444,\"#bd3786\"],[0.5555555555555556,\"#d8576b\"],[0.6666666666666666,\"#ed7953\"],[0.7777777777777778,\"#fb9f3a\"],[0.8888888888888888,\"#fdca26\"],[1.0,\"#f0f921\"]]}],\"contourcarpet\":[{\"type\":\"contourcarpet\",\"colorbar\":{\"outlinewidth\":0,\"ticks\":\"\"}}],\"contour\":[{\"type\":\"contour\",\"colorbar\":{\"outlinewidth\":0,\"ticks\":\"\"},\"colorscale\":[[0.0,\"#0d0887\"],[0.1111111111111111,\"#46039f\"],[0.2222222222222222,\"#7201a8\"],[0.3333333333333333,\"#9c179e\"],[0.4444444444444444,\"#bd3786\"],[0.5555555555555556,\"#d8576b\"],[0.6666666666666666,\"#ed7953\"],[0.7777777777777778,\"#fb9f3a\"],[0.8888888888888888,\"#fdca26\"],[1.0,\"#f0f921\"]]}],\"surface\":[{\"type\":\"surface\",\"colorbar\":{\"outlinewidth\":0,\"ticks\":\"\"},\"colorscale\":[[0.0,\"#0d0887\"],[0.1111111111111111,\"#46039f\"],[0.2222222222222222,\"#7201a8\"],[0.3333333333333333,\"#9c179e\"],[0.4444444444444444,\"#bd3786\"],[0.5555555555555556,\"#d8576b\"],[0.6666666666666666,\"#ed7953\"],[0.7777777777777778,\"#fb9f3a\"],[0.8888888888888888,\"#fdca26\"],[1.0,\"#f0f921\"]]}],\"mesh3d\":[{\"type\":\"mesh3d\",\"colorbar\":{\"outlinewidth\":0,\"ticks\":\"\"}}],\"scatter\":[{\"fillpattern\":{\"fillmode\":\"overlay\",\"size\":10,\"solidity\":0.2},\"type\":\"scatter\"}],\"parcoords\":[{\"type\":\"parcoords\",\"line\":{\"colorbar\":{\"outlinewidth\":0,\"ticks\":\"\"}}}],\"scatterpolargl\":[{\"type\":\"scatterpolargl\",\"marker\":{\"colorbar\":{\"outlinewidth\":0,\"ticks\":\"\"}}}],\"bar\":[{\"error_x\":{\"color\":\"#2a3f5f\"},\"error_y\":{\"color\":\"#2a3f5f\"},\"marker\":{\"line\":{\"color\":\"#E5ECF6\",\"width\":0.5},\"pattern\":{\"fillmode\":\"overlay\",\"size\":10,\"solidity\":0.2}},\"type\":\"bar\"}],\"scattergeo\":[{\"type\":\"scattergeo\",\"marker\":{\"colorbar\":{\"outlinewidth\":0,\"ticks\":\"\"}}}],\"scatterpolar\":[{\"type\":\"scatterpolar\",\"marker\":{\"colorbar\":{\"outlinewidth\":0,\"ticks\":\"\"}}}],\"histogram\":[{\"marker\":{\"pattern\":{\"fillmode\":\"overlay\",\"size\":10,\"solidity\":0.2}},\"type\":\"histogram\"}],\"scattergl\":[{\"type\":\"scattergl\",\"marker\":{\"colorbar\":{\"outlinewidth\":0,\"ticks\":\"\"}}}],\"scatter3d\":[{\"type\":\"scatter3d\",\"line\":{\"colorbar\":{\"outlinewidth\":0,\"ticks\":\"\"}},\"marker\":{\"colorbar\":{\"outlinewidth\":0,\"ticks\":\"\"}}}],\"scattermapbox\":[{\"type\":\"scattermapbox\",\"marker\":{\"colorbar\":{\"outlinewidth\":0,\"ticks\":\"\"}}}],\"scatterternary\":[{\"type\":\"scatterternary\",\"marker\":{\"colorbar\":{\"outlinewidth\":0,\"ticks\":\"\"}}}],\"scattercarpet\":[{\"type\":\"scattercarpet\",\"marker\":{\"colorbar\":{\"outlinewidth\":0,\"ticks\":\"\"}}}],\"carpet\":[{\"aaxis\":{\"endlinecolor\":\"#2a3f5f\",\"gridcolor\":\"white\",\"linecolor\":\"white\",\"minorgridcolor\":\"white\",\"startlinecolor\":\"#2a3f5f\"},\"baxis\":{\"endlinecolor\":\"#2a3f5f\",\"gridcolor\":\"white\",\"linecolor\":\"white\",\"minorgridcolor\":\"white\",\"startlinecolor\":\"#2a3f5f\"},\"type\":\"carpet\"}],\"table\":[{\"cells\":{\"fill\":{\"color\":\"#EBF0F8\"},\"line\":{\"color\":\"white\"}},\"header\":{\"fill\":{\"color\":\"#C8D4E3\"},\"line\":{\"color\":\"white\"}},\"type\":\"table\"}],\"barpolar\":[{\"marker\":{\"line\":{\"color\":\"#E5ECF6\",\"width\":0.5},\"pattern\":{\"fillmode\":\"overlay\",\"size\":10,\"solidity\":0.2}},\"type\":\"barpolar\"}],\"pie\":[{\"automargin\":true,\"type\":\"pie\"}]},\"layout\":{\"autotypenumbers\":\"strict\",\"colorway\":[\"#636efa\",\"#EF553B\",\"#00cc96\",\"#ab63fa\",\"#FFA15A\",\"#19d3f3\",\"#FF6692\",\"#B6E880\",\"#FF97FF\",\"#FECB52\"],\"font\":{\"color\":\"#2a3f5f\"},\"hovermode\":\"closest\",\"hoverlabel\":{\"align\":\"left\"},\"paper_bgcolor\":\"white\",\"plot_bgcolor\":\"#E5ECF6\",\"polar\":{\"bgcolor\":\"#E5ECF6\",\"angularaxis\":{\"gridcolor\":\"white\",\"linecolor\":\"white\",\"ticks\":\"\"},\"radialaxis\":{\"gridcolor\":\"white\",\"linecolor\":\"white\",\"ticks\":\"\"}},\"ternary\":{\"bgcolor\":\"#E5ECF6\",\"aaxis\":{\"gridcolor\":\"white\",\"linecolor\":\"white\",\"ticks\":\"\"},\"baxis\":{\"gridcolor\":\"white\",\"linecolor\":\"white\",\"ticks\":\"\"},\"caxis\":{\"gridcolor\":\"white\",\"linecolor\":\"white\",\"ticks\":\"\"}},\"coloraxis\":{\"colorbar\":{\"outlinewidth\":0,\"ticks\":\"\"}},\"colorscale\":{\"sequential\":[[0.0,\"#0d0887\"],[0.1111111111111111,\"#46039f\"],[0.2222222222222222,\"#7201a8\"],[0.3333333333333333,\"#9c179e\"],[0.4444444444444444,\"#bd3786\"],[0.5555555555555556,\"#d8576b\"],[0.6666666666666666,\"#ed7953\"],[0.7777777777777778,\"#fb9f3a\"],[0.8888888888888888,\"#fdca26\"],[1.0,\"#f0f921\"]],\"sequentialminus\":[[0.0,\"#0d0887\"],[0.1111111111111111,\"#46039f\"],[0.2222222222222222,\"#7201a8\"],[0.3333333333333333,\"#9c179e\"],[0.4444444444444444,\"#bd3786\"],[0.5555555555555556,\"#d8576b\"],[0.6666666666666666,\"#ed7953\"],[0.7777777777777778,\"#fb9f3a\"],[0.8888888888888888,\"#fdca26\"],[1.0,\"#f0f921\"]],\"diverging\":[[0,\"#8e0152\"],[0.1,\"#c51b7d\"],[0.2,\"#de77ae\"],[0.3,\"#f1b6da\"],[0.4,\"#fde0ef\"],[0.5,\"#f7f7f7\"],[0.6,\"#e6f5d0\"],[0.7,\"#b8e186\"],[0.8,\"#7fbc41\"],[0.9,\"#4d9221\"],[1,\"#276419\"]]},\"xaxis\":{\"gridcolor\":\"white\",\"linecolor\":\"white\",\"ticks\":\"\",\"title\":{\"standoff\":15},\"zerolinecolor\":\"white\",\"automargin\":true,\"zerolinewidth\":2},\"yaxis\":{\"gridcolor\":\"white\",\"linecolor\":\"white\",\"ticks\":\"\",\"title\":{\"standoff\":15},\"zerolinecolor\":\"white\",\"automargin\":true,\"zerolinewidth\":2},\"scene\":{\"xaxis\":{\"backgroundcolor\":\"#E5ECF6\",\"gridcolor\":\"white\",\"linecolor\":\"white\",\"showbackground\":true,\"ticks\":\"\",\"zerolinecolor\":\"white\",\"gridwidth\":2},\"yaxis\":{\"backgroundcolor\":\"#E5ECF6\",\"gridcolor\":\"white\",\"linecolor\":\"white\",\"showbackground\":true,\"ticks\":\"\",\"zerolinecolor\":\"white\",\"gridwidth\":2},\"zaxis\":{\"backgroundcolor\":\"#E5ECF6\",\"gridcolor\":\"white\",\"linecolor\":\"white\",\"showbackground\":true,\"ticks\":\"\",\"zerolinecolor\":\"white\",\"gridwidth\":2}},\"shapedefaults\":{\"line\":{\"color\":\"#2a3f5f\"}},\"annotationdefaults\":{\"arrowcolor\":\"#2a3f5f\",\"arrowhead\":0,\"arrowwidth\":1},\"geo\":{\"bgcolor\":\"white\",\"landcolor\":\"#E5ECF6\",\"subunitcolor\":\"white\",\"showland\":true,\"showlakes\":true,\"lakecolor\":\"white\"},\"title\":{\"x\":0.05},\"mapbox\":{\"style\":\"light\"}}},\"xaxis\":{\"anchor\":\"y\",\"domain\":[0.0,1.0],\"title\":{\"text\":\"MODELS\"},\"automargin\":true},\"yaxis\":{\"anchor\":\"x\",\"domain\":[0.0,1.0],\"title\":{\"text\":\"RMSE\"},\"automargin\":true},\"legend\":{\"tracegroupgap\":0},\"margin\":{\"t\":60},\"barmode\":\"relative\",\"plot_bgcolor\":\"rgba(0, 0, 0, 0)\",\"paper_bgcolor\":\"rgba(0, 0, 0, 0)\"},                        {\"responsive\": true}                    ).then(function(){\n",
       "                            \n",
       "var gd = document.getElementById('dfc18c65-9ea9-4802-a53e-996fcb3deb17');\n",
       "var x = new MutationObserver(function (mutations, observer) {{\n",
       "        var display = window.getComputedStyle(gd).display;\n",
       "        if (!display || display === 'none') {{\n",
       "            console.log([gd, 'removed!']);\n",
       "            Plotly.purge(gd);\n",
       "            observer.disconnect();\n",
       "        }}\n",
       "}});\n",
       "\n",
       "// Listen for the removal of the full notebook cells\n",
       "var notebookContainer = gd.closest('#notebook-container');\n",
       "if (notebookContainer) {{\n",
       "    x.observe(notebookContainer, {childList: true});\n",
       "}}\n",
       "\n",
       "// Listen for the clearing of the current output cell\n",
       "var outputEl = gd.closest('.output');\n",
       "if (outputEl) {{\n",
       "    x.observe(outputEl, {childList: true});\n",
       "}}\n",
       "\n",
       "                        })                };                });            </script>        </div>"
      ]
     },
     "metadata": {},
     "output_type": "display_data"
    }
   ],
   "source": [
    "fig = px.bar(RMSE, x='MODELS', y='RMSE')\n",
    "fig.update_layout({\n",
    "'plot_bgcolor': 'rgba(0, 0, 0, 0)',\n",
    "'paper_bgcolor': 'rgba(0, 0, 0, 0)',\n",
    "})\n",
    "fig.update_yaxes(automargin=True)\n",
    "fig.update_xaxes(automargin=True)\n",
    "fig.show()"
   ]
  },
  {
   "cell_type": "code",
   "execution_count": 78,
   "id": "f7a0326b",
   "metadata": {},
   "outputs": [
    {
     "data": {
      "application/vnd.plotly.v1+json": {
       "config": {
        "plotlyServerURL": "https://plot.ly"
       },
       "data": [
        {
         "line": {
          "width": 5
         },
         "name": "Actual Values",
         "type": "scatter",
         "x": [
          "2022-06-30T00:00:00",
          "2022-06-30T01:00:00",
          "2022-06-30T02:00:00",
          "2022-06-30T03:00:00",
          "2022-06-30T04:00:00",
          "2022-06-30T05:00:00",
          "2022-06-30T06:00:00",
          "2022-06-30T07:00:00",
          "2022-06-30T08:00:00",
          "2022-06-30T09:00:00",
          "2022-06-30T10:00:00",
          "2022-06-30T11:00:00",
          "2022-06-30T12:00:00",
          "2022-06-30T13:00:00",
          "2022-06-30T14:00:00",
          "2022-06-30T15:00:00",
          "2022-06-30T16:00:00",
          "2022-06-30T17:00:00",
          "2022-06-30T18:00:00",
          "2022-06-30T19:00:00",
          "2022-06-30T20:00:00",
          "2022-06-30T21:00:00",
          "2022-06-30T22:00:00",
          "2022-06-30T23:00:00"
         ],
         "y": [
          151.99607813953577,
          144.9952390625175,
          54.98445092942512,
          30.98157409393383,
          23.98073501691553,
          93.98912578709847,
          130.9935609084809,
          181.99967418389988,
          120.99236222702618,
          117.99200262258977,
          113.9915231500079,
          145.99535893066295,
          175.99895497502706,
          191.00075299720913,
          279.01130139401056,
          319.0160961198294,
          358.0207709775027,
          312.0152570428111,
          312.0152570428111,
          269.01010271255586,
          310.0150173065201,
          374.0226888678303,
          338.0183736145933,
          267.0098629762649
         ]
        },
        {
         "line": {
          "dash": "dash",
          "width": 3
         },
         "name": "ElasticNet",
         "type": "scatter",
         "x": [
          "2022-06-30T00:00:00",
          "2022-06-30T01:00:00",
          "2022-06-30T02:00:00",
          "2022-06-30T03:00:00",
          "2022-06-30T04:00:00",
          "2022-06-30T05:00:00",
          "2022-06-30T06:00:00",
          "2022-06-30T07:00:00",
          "2022-06-30T08:00:00",
          "2022-06-30T09:00:00",
          "2022-06-30T10:00:00",
          "2022-06-30T11:00:00",
          "2022-06-30T12:00:00",
          "2022-06-30T13:00:00",
          "2022-06-30T14:00:00",
          "2022-06-30T15:00:00",
          "2022-06-30T16:00:00",
          "2022-06-30T17:00:00",
          "2022-06-30T18:00:00",
          "2022-06-30T19:00:00",
          "2022-06-30T20:00:00",
          "2022-06-30T21:00:00",
          "2022-06-30T22:00:00",
          "2022-06-30T23:00:00"
         ],
         "y": [
          130.57245390571683,
          76.61550219341204,
          92.06403812059597,
          19.01976047199105,
          121.1858507965067,
          85.16069079671654,
          149.27200092742345,
          189.87405885254236,
          206.17442399251925,
          213.17351213251476,
          179.11412366325854,
          226.1987872399888,
          235.1323998644703,
          234.01444060145312,
          247.58646926434602,
          251.26945573892527,
          271.50148504085877,
          275.10235104793264,
          267.78277465325795,
          232.36267483240448,
          229.71468389885592,
          220.840336116974,
          209.95025559606057,
          197.86899607630878
         ]
        },
        {
         "line": {
          "dash": "dash",
          "width": 3
         },
         "name": "RandomForest",
         "type": "scatter",
         "x": [
          "2022-06-30T00:00:00",
          "2022-06-30T01:00:00",
          "2022-06-30T02:00:00",
          "2022-06-30T03:00:00",
          "2022-06-30T04:00:00",
          "2022-06-30T05:00:00",
          "2022-06-30T06:00:00",
          "2022-06-30T07:00:00",
          "2022-06-30T08:00:00",
          "2022-06-30T09:00:00",
          "2022-06-30T10:00:00",
          "2022-06-30T11:00:00",
          "2022-06-30T12:00:00",
          "2022-06-30T13:00:00",
          "2022-06-30T14:00:00",
          "2022-06-30T15:00:00",
          "2022-06-30T16:00:00",
          "2022-06-30T17:00:00",
          "2022-06-30T18:00:00",
          "2022-06-30T19:00:00",
          "2022-06-30T20:00:00",
          "2022-06-30T21:00:00",
          "2022-06-30T22:00:00",
          "2022-06-30T23:00:00"
         ],
         "y": [
          122.65540008236073,
          62.43931758297046,
          66.41384184398504,
          42.18063802958295,
          86.94139415524575,
          105.77553144408499,
          141.6031510865647,
          149.72952917158818,
          178.76567419803905,
          205.83562967101605,
          157.0320238280968,
          193.13272678290878,
          186.1056454814163,
          215.176248557065,
          311.34579829961973,
          287.76750043953405,
          265.71066841160234,
          303.2636646685017,
          289.57944001577886,
          254.82935708827154,
          277.7457618551019,
          241.2093679174881,
          275.2032932351735,
          246.48539846970675
         ]
        },
        {
         "line": {
          "dash": "dash",
          "width": 3
         },
         "name": "XGBoost",
         "type": "scatter",
         "x": [
          "2022-06-30T00:00:00",
          "2022-06-30T01:00:00",
          "2022-06-30T02:00:00",
          "2022-06-30T03:00:00",
          "2022-06-30T04:00:00",
          "2022-06-30T05:00:00",
          "2022-06-30T06:00:00",
          "2022-06-30T07:00:00",
          "2022-06-30T08:00:00",
          "2022-06-30T09:00:00",
          "2022-06-30T10:00:00",
          "2022-06-30T11:00:00",
          "2022-06-30T12:00:00",
          "2022-06-30T13:00:00",
          "2022-06-30T14:00:00",
          "2022-06-30T15:00:00",
          "2022-06-30T16:00:00",
          "2022-06-30T17:00:00",
          "2022-06-30T18:00:00",
          "2022-06-30T19:00:00",
          "2022-06-30T20:00:00",
          "2022-06-30T21:00:00",
          "2022-06-30T22:00:00",
          "2022-06-30T23:00:00"
         ],
         "y": [
          150.72256469726562,
          64.53316497802734,
          62.819732666015625,
          35.602874755859375,
          44.54142761230469,
          97.23988342285156,
          155.65126037597656,
          118.99788665771484,
          182.802490234375,
          197.650634765625,
          116.87255859375,
          188.1451873779297,
          213.8941650390625,
          220.60096740722656,
          294.7652893066406,
          279.8740539550781,
          286.62451171875,
          306.81231689453125,
          295.39434814453125,
          252.48843383789062,
          293.5929870605469,
          236.14797973632812,
          294.390380859375,
          258.79296875
         ]
        },
        {
         "line": {
          "dash": "dash",
          "width": 3
         },
         "name": "SVR",
         "type": "scatter",
         "x": [
          "2022-06-30T00:00:00",
          "2022-06-30T01:00:00",
          "2022-06-30T02:00:00",
          "2022-06-30T03:00:00",
          "2022-06-30T04:00:00",
          "2022-06-30T05:00:00",
          "2022-06-30T06:00:00",
          "2022-06-30T07:00:00",
          "2022-06-30T08:00:00",
          "2022-06-30T09:00:00",
          "2022-06-30T10:00:00",
          "2022-06-30T11:00:00",
          "2022-06-30T12:00:00",
          "2022-06-30T13:00:00",
          "2022-06-30T14:00:00",
          "2022-06-30T15:00:00",
          "2022-06-30T16:00:00",
          "2022-06-30T17:00:00",
          "2022-06-30T18:00:00",
          "2022-06-30T19:00:00",
          "2022-06-30T20:00:00",
          "2022-06-30T21:00:00",
          "2022-06-30T22:00:00",
          "2022-06-30T23:00:00"
         ],
         "y": [
          111.77792470288931,
          69.05884934147204,
          61.60375796104162,
          30.96788000076677,
          81.28783953879164,
          101.98695059205416,
          137.14689537843557,
          86.84973148426523,
          207.40431785716055,
          200.2165447077588,
          108.84991899135814,
          191.9752343300094,
          189.28245334276858,
          203.91185619950926,
          321.57903205252524,
          287.5483897000789,
          248.26111446528347,
          273.6480069481981,
          319.782616379872,
          211.58438379984753,
          255.66774616969764,
          268.25718296310276,
          271.10003409878703,
          228.16876100836606
         ]
        }
       ],
       "layout": {
        "paper_bgcolor": "rgba(0, 0, 0, 0)",
        "plot_bgcolor": "rgba(0, 0, 0, 0)",
        "template": {
         "data": {
          "bar": [
           {
            "error_x": {
             "color": "#2a3f5f"
            },
            "error_y": {
             "color": "#2a3f5f"
            },
            "marker": {
             "line": {
              "color": "#E5ECF6",
              "width": 0.5
             },
             "pattern": {
              "fillmode": "overlay",
              "size": 10,
              "solidity": 0.2
             }
            },
            "type": "bar"
           }
          ],
          "barpolar": [
           {
            "marker": {
             "line": {
              "color": "#E5ECF6",
              "width": 0.5
             },
             "pattern": {
              "fillmode": "overlay",
              "size": 10,
              "solidity": 0.2
             }
            },
            "type": "barpolar"
           }
          ],
          "carpet": [
           {
            "aaxis": {
             "endlinecolor": "#2a3f5f",
             "gridcolor": "white",
             "linecolor": "white",
             "minorgridcolor": "white",
             "startlinecolor": "#2a3f5f"
            },
            "baxis": {
             "endlinecolor": "#2a3f5f",
             "gridcolor": "white",
             "linecolor": "white",
             "minorgridcolor": "white",
             "startlinecolor": "#2a3f5f"
            },
            "type": "carpet"
           }
          ],
          "choropleth": [
           {
            "colorbar": {
             "outlinewidth": 0,
             "ticks": ""
            },
            "type": "choropleth"
           }
          ],
          "contour": [
           {
            "colorbar": {
             "outlinewidth": 0,
             "ticks": ""
            },
            "colorscale": [
             [
              0,
              "#0d0887"
             ],
             [
              0.1111111111111111,
              "#46039f"
             ],
             [
              0.2222222222222222,
              "#7201a8"
             ],
             [
              0.3333333333333333,
              "#9c179e"
             ],
             [
              0.4444444444444444,
              "#bd3786"
             ],
             [
              0.5555555555555556,
              "#d8576b"
             ],
             [
              0.6666666666666666,
              "#ed7953"
             ],
             [
              0.7777777777777778,
              "#fb9f3a"
             ],
             [
              0.8888888888888888,
              "#fdca26"
             ],
             [
              1,
              "#f0f921"
             ]
            ],
            "type": "contour"
           }
          ],
          "contourcarpet": [
           {
            "colorbar": {
             "outlinewidth": 0,
             "ticks": ""
            },
            "type": "contourcarpet"
           }
          ],
          "heatmap": [
           {
            "colorbar": {
             "outlinewidth": 0,
             "ticks": ""
            },
            "colorscale": [
             [
              0,
              "#0d0887"
             ],
             [
              0.1111111111111111,
              "#46039f"
             ],
             [
              0.2222222222222222,
              "#7201a8"
             ],
             [
              0.3333333333333333,
              "#9c179e"
             ],
             [
              0.4444444444444444,
              "#bd3786"
             ],
             [
              0.5555555555555556,
              "#d8576b"
             ],
             [
              0.6666666666666666,
              "#ed7953"
             ],
             [
              0.7777777777777778,
              "#fb9f3a"
             ],
             [
              0.8888888888888888,
              "#fdca26"
             ],
             [
              1,
              "#f0f921"
             ]
            ],
            "type": "heatmap"
           }
          ],
          "heatmapgl": [
           {
            "colorbar": {
             "outlinewidth": 0,
             "ticks": ""
            },
            "colorscale": [
             [
              0,
              "#0d0887"
             ],
             [
              0.1111111111111111,
              "#46039f"
             ],
             [
              0.2222222222222222,
              "#7201a8"
             ],
             [
              0.3333333333333333,
              "#9c179e"
             ],
             [
              0.4444444444444444,
              "#bd3786"
             ],
             [
              0.5555555555555556,
              "#d8576b"
             ],
             [
              0.6666666666666666,
              "#ed7953"
             ],
             [
              0.7777777777777778,
              "#fb9f3a"
             ],
             [
              0.8888888888888888,
              "#fdca26"
             ],
             [
              1,
              "#f0f921"
             ]
            ],
            "type": "heatmapgl"
           }
          ],
          "histogram": [
           {
            "marker": {
             "pattern": {
              "fillmode": "overlay",
              "size": 10,
              "solidity": 0.2
             }
            },
            "type": "histogram"
           }
          ],
          "histogram2d": [
           {
            "colorbar": {
             "outlinewidth": 0,
             "ticks": ""
            },
            "colorscale": [
             [
              0,
              "#0d0887"
             ],
             [
              0.1111111111111111,
              "#46039f"
             ],
             [
              0.2222222222222222,
              "#7201a8"
             ],
             [
              0.3333333333333333,
              "#9c179e"
             ],
             [
              0.4444444444444444,
              "#bd3786"
             ],
             [
              0.5555555555555556,
              "#d8576b"
             ],
             [
              0.6666666666666666,
              "#ed7953"
             ],
             [
              0.7777777777777778,
              "#fb9f3a"
             ],
             [
              0.8888888888888888,
              "#fdca26"
             ],
             [
              1,
              "#f0f921"
             ]
            ],
            "type": "histogram2d"
           }
          ],
          "histogram2dcontour": [
           {
            "colorbar": {
             "outlinewidth": 0,
             "ticks": ""
            },
            "colorscale": [
             [
              0,
              "#0d0887"
             ],
             [
              0.1111111111111111,
              "#46039f"
             ],
             [
              0.2222222222222222,
              "#7201a8"
             ],
             [
              0.3333333333333333,
              "#9c179e"
             ],
             [
              0.4444444444444444,
              "#bd3786"
             ],
             [
              0.5555555555555556,
              "#d8576b"
             ],
             [
              0.6666666666666666,
              "#ed7953"
             ],
             [
              0.7777777777777778,
              "#fb9f3a"
             ],
             [
              0.8888888888888888,
              "#fdca26"
             ],
             [
              1,
              "#f0f921"
             ]
            ],
            "type": "histogram2dcontour"
           }
          ],
          "mesh3d": [
           {
            "colorbar": {
             "outlinewidth": 0,
             "ticks": ""
            },
            "type": "mesh3d"
           }
          ],
          "parcoords": [
           {
            "line": {
             "colorbar": {
              "outlinewidth": 0,
              "ticks": ""
             }
            },
            "type": "parcoords"
           }
          ],
          "pie": [
           {
            "automargin": true,
            "type": "pie"
           }
          ],
          "scatter": [
           {
            "fillpattern": {
             "fillmode": "overlay",
             "size": 10,
             "solidity": 0.2
            },
            "type": "scatter"
           }
          ],
          "scatter3d": [
           {
            "line": {
             "colorbar": {
              "outlinewidth": 0,
              "ticks": ""
             }
            },
            "marker": {
             "colorbar": {
              "outlinewidth": 0,
              "ticks": ""
             }
            },
            "type": "scatter3d"
           }
          ],
          "scattercarpet": [
           {
            "marker": {
             "colorbar": {
              "outlinewidth": 0,
              "ticks": ""
             }
            },
            "type": "scattercarpet"
           }
          ],
          "scattergeo": [
           {
            "marker": {
             "colorbar": {
              "outlinewidth": 0,
              "ticks": ""
             }
            },
            "type": "scattergeo"
           }
          ],
          "scattergl": [
           {
            "marker": {
             "colorbar": {
              "outlinewidth": 0,
              "ticks": ""
             }
            },
            "type": "scattergl"
           }
          ],
          "scattermapbox": [
           {
            "marker": {
             "colorbar": {
              "outlinewidth": 0,
              "ticks": ""
             }
            },
            "type": "scattermapbox"
           }
          ],
          "scatterpolar": [
           {
            "marker": {
             "colorbar": {
              "outlinewidth": 0,
              "ticks": ""
             }
            },
            "type": "scatterpolar"
           }
          ],
          "scatterpolargl": [
           {
            "marker": {
             "colorbar": {
              "outlinewidth": 0,
              "ticks": ""
             }
            },
            "type": "scatterpolargl"
           }
          ],
          "scatterternary": [
           {
            "marker": {
             "colorbar": {
              "outlinewidth": 0,
              "ticks": ""
             }
            },
            "type": "scatterternary"
           }
          ],
          "surface": [
           {
            "colorbar": {
             "outlinewidth": 0,
             "ticks": ""
            },
            "colorscale": [
             [
              0,
              "#0d0887"
             ],
             [
              0.1111111111111111,
              "#46039f"
             ],
             [
              0.2222222222222222,
              "#7201a8"
             ],
             [
              0.3333333333333333,
              "#9c179e"
             ],
             [
              0.4444444444444444,
              "#bd3786"
             ],
             [
              0.5555555555555556,
              "#d8576b"
             ],
             [
              0.6666666666666666,
              "#ed7953"
             ],
             [
              0.7777777777777778,
              "#fb9f3a"
             ],
             [
              0.8888888888888888,
              "#fdca26"
             ],
             [
              1,
              "#f0f921"
             ]
            ],
            "type": "surface"
           }
          ],
          "table": [
           {
            "cells": {
             "fill": {
              "color": "#EBF0F8"
             },
             "line": {
              "color": "white"
             }
            },
            "header": {
             "fill": {
              "color": "#C8D4E3"
             },
             "line": {
              "color": "white"
             }
            },
            "type": "table"
           }
          ]
         },
         "layout": {
          "annotationdefaults": {
           "arrowcolor": "#2a3f5f",
           "arrowhead": 0,
           "arrowwidth": 1
          },
          "autotypenumbers": "strict",
          "coloraxis": {
           "colorbar": {
            "outlinewidth": 0,
            "ticks": ""
           }
          },
          "colorscale": {
           "diverging": [
            [
             0,
             "#8e0152"
            ],
            [
             0.1,
             "#c51b7d"
            ],
            [
             0.2,
             "#de77ae"
            ],
            [
             0.3,
             "#f1b6da"
            ],
            [
             0.4,
             "#fde0ef"
            ],
            [
             0.5,
             "#f7f7f7"
            ],
            [
             0.6,
             "#e6f5d0"
            ],
            [
             0.7,
             "#b8e186"
            ],
            [
             0.8,
             "#7fbc41"
            ],
            [
             0.9,
             "#4d9221"
            ],
            [
             1,
             "#276419"
            ]
           ],
           "sequential": [
            [
             0,
             "#0d0887"
            ],
            [
             0.1111111111111111,
             "#46039f"
            ],
            [
             0.2222222222222222,
             "#7201a8"
            ],
            [
             0.3333333333333333,
             "#9c179e"
            ],
            [
             0.4444444444444444,
             "#bd3786"
            ],
            [
             0.5555555555555556,
             "#d8576b"
            ],
            [
             0.6666666666666666,
             "#ed7953"
            ],
            [
             0.7777777777777778,
             "#fb9f3a"
            ],
            [
             0.8888888888888888,
             "#fdca26"
            ],
            [
             1,
             "#f0f921"
            ]
           ],
           "sequentialminus": [
            [
             0,
             "#0d0887"
            ],
            [
             0.1111111111111111,
             "#46039f"
            ],
            [
             0.2222222222222222,
             "#7201a8"
            ],
            [
             0.3333333333333333,
             "#9c179e"
            ],
            [
             0.4444444444444444,
             "#bd3786"
            ],
            [
             0.5555555555555556,
             "#d8576b"
            ],
            [
             0.6666666666666666,
             "#ed7953"
            ],
            [
             0.7777777777777778,
             "#fb9f3a"
            ],
            [
             0.8888888888888888,
             "#fdca26"
            ],
            [
             1,
             "#f0f921"
            ]
           ]
          },
          "colorway": [
           "#636efa",
           "#EF553B",
           "#00cc96",
           "#ab63fa",
           "#FFA15A",
           "#19d3f3",
           "#FF6692",
           "#B6E880",
           "#FF97FF",
           "#FECB52"
          ],
          "font": {
           "color": "#2a3f5f"
          },
          "geo": {
           "bgcolor": "white",
           "lakecolor": "white",
           "landcolor": "#E5ECF6",
           "showlakes": true,
           "showland": true,
           "subunitcolor": "white"
          },
          "hoverlabel": {
           "align": "left"
          },
          "hovermode": "closest",
          "mapbox": {
           "style": "light"
          },
          "paper_bgcolor": "white",
          "plot_bgcolor": "#E5ECF6",
          "polar": {
           "angularaxis": {
            "gridcolor": "white",
            "linecolor": "white",
            "ticks": ""
           },
           "bgcolor": "#E5ECF6",
           "radialaxis": {
            "gridcolor": "white",
            "linecolor": "white",
            "ticks": ""
           }
          },
          "scene": {
           "xaxis": {
            "backgroundcolor": "#E5ECF6",
            "gridcolor": "white",
            "gridwidth": 2,
            "linecolor": "white",
            "showbackground": true,
            "ticks": "",
            "zerolinecolor": "white"
           },
           "yaxis": {
            "backgroundcolor": "#E5ECF6",
            "gridcolor": "white",
            "gridwidth": 2,
            "linecolor": "white",
            "showbackground": true,
            "ticks": "",
            "zerolinecolor": "white"
           },
           "zaxis": {
            "backgroundcolor": "#E5ECF6",
            "gridcolor": "white",
            "gridwidth": 2,
            "linecolor": "white",
            "showbackground": true,
            "ticks": "",
            "zerolinecolor": "white"
           }
          },
          "shapedefaults": {
           "line": {
            "color": "#2a3f5f"
           }
          },
          "ternary": {
           "aaxis": {
            "gridcolor": "white",
            "linecolor": "white",
            "ticks": ""
           },
           "baxis": {
            "gridcolor": "white",
            "linecolor": "white",
            "ticks": ""
           },
           "bgcolor": "#E5ECF6",
           "caxis": {
            "gridcolor": "white",
            "linecolor": "white",
            "ticks": ""
           }
          },
          "title": {
           "x": 0.05
          },
          "xaxis": {
           "automargin": true,
           "gridcolor": "white",
           "linecolor": "white",
           "ticks": "",
           "title": {
            "standoff": 15
           },
           "zerolinecolor": "white",
           "zerolinewidth": 2
          },
          "yaxis": {
           "automargin": true,
           "gridcolor": "white",
           "linecolor": "white",
           "ticks": "",
           "title": {
            "standoff": 15
           },
           "zerolinecolor": "white",
           "zerolinewidth": 2
          }
         }
        },
        "xaxis": {
         "automargin": true
        },
        "yaxis": {
         "automargin": true
        }
       }
      },
      "text/html": [
       "<div>                            <div id=\"d04d8505-2315-4011-8b19-fd6b669c4127\" class=\"plotly-graph-div\" style=\"height:525px; width:100%;\"></div>            <script type=\"text/javascript\">                require([\"plotly\"], function(Plotly) {                    window.PLOTLYENV=window.PLOTLYENV || {};                                    if (document.getElementById(\"d04d8505-2315-4011-8b19-fd6b669c4127\")) {                    Plotly.newPlot(                        \"d04d8505-2315-4011-8b19-fd6b669c4127\",                        [{\"line\":{\"width\":5},\"name\":\"Actual Values\",\"x\":[\"2022-06-30T00:00:00\",\"2022-06-30T01:00:00\",\"2022-06-30T02:00:00\",\"2022-06-30T03:00:00\",\"2022-06-30T04:00:00\",\"2022-06-30T05:00:00\",\"2022-06-30T06:00:00\",\"2022-06-30T07:00:00\",\"2022-06-30T08:00:00\",\"2022-06-30T09:00:00\",\"2022-06-30T10:00:00\",\"2022-06-30T11:00:00\",\"2022-06-30T12:00:00\",\"2022-06-30T13:00:00\",\"2022-06-30T14:00:00\",\"2022-06-30T15:00:00\",\"2022-06-30T16:00:00\",\"2022-06-30T17:00:00\",\"2022-06-30T18:00:00\",\"2022-06-30T19:00:00\",\"2022-06-30T20:00:00\",\"2022-06-30T21:00:00\",\"2022-06-30T22:00:00\",\"2022-06-30T23:00:00\"],\"y\":[151.99607813953577,144.9952390625175,54.98445092942512,30.98157409393383,23.98073501691553,93.98912578709847,130.9935609084809,181.99967418389988,120.99236222702618,117.99200262258977,113.9915231500079,145.99535893066295,175.99895497502706,191.00075299720913,279.01130139401056,319.0160961198294,358.0207709775027,312.0152570428111,312.0152570428111,269.01010271255586,310.0150173065201,374.0226888678303,338.0183736145933,267.0098629762649],\"type\":\"scatter\"},{\"line\":{\"dash\":\"dash\",\"width\":3},\"name\":\"ElasticNet\",\"x\":[\"2022-06-30T00:00:00\",\"2022-06-30T01:00:00\",\"2022-06-30T02:00:00\",\"2022-06-30T03:00:00\",\"2022-06-30T04:00:00\",\"2022-06-30T05:00:00\",\"2022-06-30T06:00:00\",\"2022-06-30T07:00:00\",\"2022-06-30T08:00:00\",\"2022-06-30T09:00:00\",\"2022-06-30T10:00:00\",\"2022-06-30T11:00:00\",\"2022-06-30T12:00:00\",\"2022-06-30T13:00:00\",\"2022-06-30T14:00:00\",\"2022-06-30T15:00:00\",\"2022-06-30T16:00:00\",\"2022-06-30T17:00:00\",\"2022-06-30T18:00:00\",\"2022-06-30T19:00:00\",\"2022-06-30T20:00:00\",\"2022-06-30T21:00:00\",\"2022-06-30T22:00:00\",\"2022-06-30T23:00:00\"],\"y\":[130.57245390571683,76.61550219341204,92.06403812059597,19.01976047199105,121.1858507965067,85.16069079671654,149.27200092742345,189.87405885254236,206.17442399251925,213.17351213251476,179.11412366325854,226.1987872399888,235.1323998644703,234.01444060145312,247.58646926434602,251.26945573892527,271.50148504085877,275.10235104793264,267.78277465325795,232.36267483240448,229.71468389885592,220.840336116974,209.95025559606057,197.86899607630878],\"type\":\"scatter\"},{\"line\":{\"dash\":\"dash\",\"width\":3},\"name\":\"RandomForest\",\"x\":[\"2022-06-30T00:00:00\",\"2022-06-30T01:00:00\",\"2022-06-30T02:00:00\",\"2022-06-30T03:00:00\",\"2022-06-30T04:00:00\",\"2022-06-30T05:00:00\",\"2022-06-30T06:00:00\",\"2022-06-30T07:00:00\",\"2022-06-30T08:00:00\",\"2022-06-30T09:00:00\",\"2022-06-30T10:00:00\",\"2022-06-30T11:00:00\",\"2022-06-30T12:00:00\",\"2022-06-30T13:00:00\",\"2022-06-30T14:00:00\",\"2022-06-30T15:00:00\",\"2022-06-30T16:00:00\",\"2022-06-30T17:00:00\",\"2022-06-30T18:00:00\",\"2022-06-30T19:00:00\",\"2022-06-30T20:00:00\",\"2022-06-30T21:00:00\",\"2022-06-30T22:00:00\",\"2022-06-30T23:00:00\"],\"y\":[122.65540008236073,62.43931758297046,66.41384184398504,42.18063802958295,86.94139415524575,105.77553144408499,141.6031510865647,149.72952917158818,178.76567419803905,205.83562967101605,157.0320238280968,193.13272678290878,186.1056454814163,215.176248557065,311.34579829961973,287.76750043953405,265.71066841160234,303.2636646685017,289.57944001577886,254.82935708827154,277.7457618551019,241.2093679174881,275.2032932351735,246.48539846970675],\"type\":\"scatter\"},{\"line\":{\"dash\":\"dash\",\"width\":3},\"name\":\"XGBoost\",\"x\":[\"2022-06-30T00:00:00\",\"2022-06-30T01:00:00\",\"2022-06-30T02:00:00\",\"2022-06-30T03:00:00\",\"2022-06-30T04:00:00\",\"2022-06-30T05:00:00\",\"2022-06-30T06:00:00\",\"2022-06-30T07:00:00\",\"2022-06-30T08:00:00\",\"2022-06-30T09:00:00\",\"2022-06-30T10:00:00\",\"2022-06-30T11:00:00\",\"2022-06-30T12:00:00\",\"2022-06-30T13:00:00\",\"2022-06-30T14:00:00\",\"2022-06-30T15:00:00\",\"2022-06-30T16:00:00\",\"2022-06-30T17:00:00\",\"2022-06-30T18:00:00\",\"2022-06-30T19:00:00\",\"2022-06-30T20:00:00\",\"2022-06-30T21:00:00\",\"2022-06-30T22:00:00\",\"2022-06-30T23:00:00\"],\"y\":[150.72256469726562,64.53316497802734,62.819732666015625,35.602874755859375,44.54142761230469,97.23988342285156,155.65126037597656,118.99788665771484,182.802490234375,197.650634765625,116.87255859375,188.1451873779297,213.8941650390625,220.60096740722656,294.7652893066406,279.8740539550781,286.62451171875,306.81231689453125,295.39434814453125,252.48843383789062,293.5929870605469,236.14797973632812,294.390380859375,258.79296875],\"type\":\"scatter\"},{\"line\":{\"dash\":\"dash\",\"width\":3},\"name\":\"SVR\",\"x\":[\"2022-06-30T00:00:00\",\"2022-06-30T01:00:00\",\"2022-06-30T02:00:00\",\"2022-06-30T03:00:00\",\"2022-06-30T04:00:00\",\"2022-06-30T05:00:00\",\"2022-06-30T06:00:00\",\"2022-06-30T07:00:00\",\"2022-06-30T08:00:00\",\"2022-06-30T09:00:00\",\"2022-06-30T10:00:00\",\"2022-06-30T11:00:00\",\"2022-06-30T12:00:00\",\"2022-06-30T13:00:00\",\"2022-06-30T14:00:00\",\"2022-06-30T15:00:00\",\"2022-06-30T16:00:00\",\"2022-06-30T17:00:00\",\"2022-06-30T18:00:00\",\"2022-06-30T19:00:00\",\"2022-06-30T20:00:00\",\"2022-06-30T21:00:00\",\"2022-06-30T22:00:00\",\"2022-06-30T23:00:00\"],\"y\":[111.77792470288931,69.05884934147204,61.60375796104162,30.96788000076677,81.28783953879164,101.98695059205416,137.14689537843557,86.84973148426523,207.40431785716055,200.2165447077588,108.84991899135814,191.9752343300094,189.28245334276858,203.91185619950926,321.57903205252524,287.5483897000789,248.26111446528347,273.6480069481981,319.782616379872,211.58438379984753,255.66774616969764,268.25718296310276,271.10003409878703,228.16876100836606],\"type\":\"scatter\"}],                        {\"template\":{\"data\":{\"histogram2dcontour\":[{\"type\":\"histogram2dcontour\",\"colorbar\":{\"outlinewidth\":0,\"ticks\":\"\"},\"colorscale\":[[0.0,\"#0d0887\"],[0.1111111111111111,\"#46039f\"],[0.2222222222222222,\"#7201a8\"],[0.3333333333333333,\"#9c179e\"],[0.4444444444444444,\"#bd3786\"],[0.5555555555555556,\"#d8576b\"],[0.6666666666666666,\"#ed7953\"],[0.7777777777777778,\"#fb9f3a\"],[0.8888888888888888,\"#fdca26\"],[1.0,\"#f0f921\"]]}],\"choropleth\":[{\"type\":\"choropleth\",\"colorbar\":{\"outlinewidth\":0,\"ticks\":\"\"}}],\"histogram2d\":[{\"type\":\"histogram2d\",\"colorbar\":{\"outlinewidth\":0,\"ticks\":\"\"},\"colorscale\":[[0.0,\"#0d0887\"],[0.1111111111111111,\"#46039f\"],[0.2222222222222222,\"#7201a8\"],[0.3333333333333333,\"#9c179e\"],[0.4444444444444444,\"#bd3786\"],[0.5555555555555556,\"#d8576b\"],[0.6666666666666666,\"#ed7953\"],[0.7777777777777778,\"#fb9f3a\"],[0.8888888888888888,\"#fdca26\"],[1.0,\"#f0f921\"]]}],\"heatmap\":[{\"type\":\"heatmap\",\"colorbar\":{\"outlinewidth\":0,\"ticks\":\"\"},\"colorscale\":[[0.0,\"#0d0887\"],[0.1111111111111111,\"#46039f\"],[0.2222222222222222,\"#7201a8\"],[0.3333333333333333,\"#9c179e\"],[0.4444444444444444,\"#bd3786\"],[0.5555555555555556,\"#d8576b\"],[0.6666666666666666,\"#ed7953\"],[0.7777777777777778,\"#fb9f3a\"],[0.8888888888888888,\"#fdca26\"],[1.0,\"#f0f921\"]]}],\"heatmapgl\":[{\"type\":\"heatmapgl\",\"colorbar\":{\"outlinewidth\":0,\"ticks\":\"\"},\"colorscale\":[[0.0,\"#0d0887\"],[0.1111111111111111,\"#46039f\"],[0.2222222222222222,\"#7201a8\"],[0.3333333333333333,\"#9c179e\"],[0.4444444444444444,\"#bd3786\"],[0.5555555555555556,\"#d8576b\"],[0.6666666666666666,\"#ed7953\"],[0.7777777777777778,\"#fb9f3a\"],[0.8888888888888888,\"#fdca26\"],[1.0,\"#f0f921\"]]}],\"contourcarpet\":[{\"type\":\"contourcarpet\",\"colorbar\":{\"outlinewidth\":0,\"ticks\":\"\"}}],\"contour\":[{\"type\":\"contour\",\"colorbar\":{\"outlinewidth\":0,\"ticks\":\"\"},\"colorscale\":[[0.0,\"#0d0887\"],[0.1111111111111111,\"#46039f\"],[0.2222222222222222,\"#7201a8\"],[0.3333333333333333,\"#9c179e\"],[0.4444444444444444,\"#bd3786\"],[0.5555555555555556,\"#d8576b\"],[0.6666666666666666,\"#ed7953\"],[0.7777777777777778,\"#fb9f3a\"],[0.8888888888888888,\"#fdca26\"],[1.0,\"#f0f921\"]]}],\"surface\":[{\"type\":\"surface\",\"colorbar\":{\"outlinewidth\":0,\"ticks\":\"\"},\"colorscale\":[[0.0,\"#0d0887\"],[0.1111111111111111,\"#46039f\"],[0.2222222222222222,\"#7201a8\"],[0.3333333333333333,\"#9c179e\"],[0.4444444444444444,\"#bd3786\"],[0.5555555555555556,\"#d8576b\"],[0.6666666666666666,\"#ed7953\"],[0.7777777777777778,\"#fb9f3a\"],[0.8888888888888888,\"#fdca26\"],[1.0,\"#f0f921\"]]}],\"mesh3d\":[{\"type\":\"mesh3d\",\"colorbar\":{\"outlinewidth\":0,\"ticks\":\"\"}}],\"scatter\":[{\"fillpattern\":{\"fillmode\":\"overlay\",\"size\":10,\"solidity\":0.2},\"type\":\"scatter\"}],\"parcoords\":[{\"type\":\"parcoords\",\"line\":{\"colorbar\":{\"outlinewidth\":0,\"ticks\":\"\"}}}],\"scatterpolargl\":[{\"type\":\"scatterpolargl\",\"marker\":{\"colorbar\":{\"outlinewidth\":0,\"ticks\":\"\"}}}],\"bar\":[{\"error_x\":{\"color\":\"#2a3f5f\"},\"error_y\":{\"color\":\"#2a3f5f\"},\"marker\":{\"line\":{\"color\":\"#E5ECF6\",\"width\":0.5},\"pattern\":{\"fillmode\":\"overlay\",\"size\":10,\"solidity\":0.2}},\"type\":\"bar\"}],\"scattergeo\":[{\"type\":\"scattergeo\",\"marker\":{\"colorbar\":{\"outlinewidth\":0,\"ticks\":\"\"}}}],\"scatterpolar\":[{\"type\":\"scatterpolar\",\"marker\":{\"colorbar\":{\"outlinewidth\":0,\"ticks\":\"\"}}}],\"histogram\":[{\"marker\":{\"pattern\":{\"fillmode\":\"overlay\",\"size\":10,\"solidity\":0.2}},\"type\":\"histogram\"}],\"scattergl\":[{\"type\":\"scattergl\",\"marker\":{\"colorbar\":{\"outlinewidth\":0,\"ticks\":\"\"}}}],\"scatter3d\":[{\"type\":\"scatter3d\",\"line\":{\"colorbar\":{\"outlinewidth\":0,\"ticks\":\"\"}},\"marker\":{\"colorbar\":{\"outlinewidth\":0,\"ticks\":\"\"}}}],\"scattermapbox\":[{\"type\":\"scattermapbox\",\"marker\":{\"colorbar\":{\"outlinewidth\":0,\"ticks\":\"\"}}}],\"scatterternary\":[{\"type\":\"scatterternary\",\"marker\":{\"colorbar\":{\"outlinewidth\":0,\"ticks\":\"\"}}}],\"scattercarpet\":[{\"type\":\"scattercarpet\",\"marker\":{\"colorbar\":{\"outlinewidth\":0,\"ticks\":\"\"}}}],\"carpet\":[{\"aaxis\":{\"endlinecolor\":\"#2a3f5f\",\"gridcolor\":\"white\",\"linecolor\":\"white\",\"minorgridcolor\":\"white\",\"startlinecolor\":\"#2a3f5f\"},\"baxis\":{\"endlinecolor\":\"#2a3f5f\",\"gridcolor\":\"white\",\"linecolor\":\"white\",\"minorgridcolor\":\"white\",\"startlinecolor\":\"#2a3f5f\"},\"type\":\"carpet\"}],\"table\":[{\"cells\":{\"fill\":{\"color\":\"#EBF0F8\"},\"line\":{\"color\":\"white\"}},\"header\":{\"fill\":{\"color\":\"#C8D4E3\"},\"line\":{\"color\":\"white\"}},\"type\":\"table\"}],\"barpolar\":[{\"marker\":{\"line\":{\"color\":\"#E5ECF6\",\"width\":0.5},\"pattern\":{\"fillmode\":\"overlay\",\"size\":10,\"solidity\":0.2}},\"type\":\"barpolar\"}],\"pie\":[{\"automargin\":true,\"type\":\"pie\"}]},\"layout\":{\"autotypenumbers\":\"strict\",\"colorway\":[\"#636efa\",\"#EF553B\",\"#00cc96\",\"#ab63fa\",\"#FFA15A\",\"#19d3f3\",\"#FF6692\",\"#B6E880\",\"#FF97FF\",\"#FECB52\"],\"font\":{\"color\":\"#2a3f5f\"},\"hovermode\":\"closest\",\"hoverlabel\":{\"align\":\"left\"},\"paper_bgcolor\":\"white\",\"plot_bgcolor\":\"#E5ECF6\",\"polar\":{\"bgcolor\":\"#E5ECF6\",\"angularaxis\":{\"gridcolor\":\"white\",\"linecolor\":\"white\",\"ticks\":\"\"},\"radialaxis\":{\"gridcolor\":\"white\",\"linecolor\":\"white\",\"ticks\":\"\"}},\"ternary\":{\"bgcolor\":\"#E5ECF6\",\"aaxis\":{\"gridcolor\":\"white\",\"linecolor\":\"white\",\"ticks\":\"\"},\"baxis\":{\"gridcolor\":\"white\",\"linecolor\":\"white\",\"ticks\":\"\"},\"caxis\":{\"gridcolor\":\"white\",\"linecolor\":\"white\",\"ticks\":\"\"}},\"coloraxis\":{\"colorbar\":{\"outlinewidth\":0,\"ticks\":\"\"}},\"colorscale\":{\"sequential\":[[0.0,\"#0d0887\"],[0.1111111111111111,\"#46039f\"],[0.2222222222222222,\"#7201a8\"],[0.3333333333333333,\"#9c179e\"],[0.4444444444444444,\"#bd3786\"],[0.5555555555555556,\"#d8576b\"],[0.6666666666666666,\"#ed7953\"],[0.7777777777777778,\"#fb9f3a\"],[0.8888888888888888,\"#fdca26\"],[1.0,\"#f0f921\"]],\"sequentialminus\":[[0.0,\"#0d0887\"],[0.1111111111111111,\"#46039f\"],[0.2222222222222222,\"#7201a8\"],[0.3333333333333333,\"#9c179e\"],[0.4444444444444444,\"#bd3786\"],[0.5555555555555556,\"#d8576b\"],[0.6666666666666666,\"#ed7953\"],[0.7777777777777778,\"#fb9f3a\"],[0.8888888888888888,\"#fdca26\"],[1.0,\"#f0f921\"]],\"diverging\":[[0,\"#8e0152\"],[0.1,\"#c51b7d\"],[0.2,\"#de77ae\"],[0.3,\"#f1b6da\"],[0.4,\"#fde0ef\"],[0.5,\"#f7f7f7\"],[0.6,\"#e6f5d0\"],[0.7,\"#b8e186\"],[0.8,\"#7fbc41\"],[0.9,\"#4d9221\"],[1,\"#276419\"]]},\"xaxis\":{\"gridcolor\":\"white\",\"linecolor\":\"white\",\"ticks\":\"\",\"title\":{\"standoff\":15},\"zerolinecolor\":\"white\",\"automargin\":true,\"zerolinewidth\":2},\"yaxis\":{\"gridcolor\":\"white\",\"linecolor\":\"white\",\"ticks\":\"\",\"title\":{\"standoff\":15},\"zerolinecolor\":\"white\",\"automargin\":true,\"zerolinewidth\":2},\"scene\":{\"xaxis\":{\"backgroundcolor\":\"#E5ECF6\",\"gridcolor\":\"white\",\"linecolor\":\"white\",\"showbackground\":true,\"ticks\":\"\",\"zerolinecolor\":\"white\",\"gridwidth\":2},\"yaxis\":{\"backgroundcolor\":\"#E5ECF6\",\"gridcolor\":\"white\",\"linecolor\":\"white\",\"showbackground\":true,\"ticks\":\"\",\"zerolinecolor\":\"white\",\"gridwidth\":2},\"zaxis\":{\"backgroundcolor\":\"#E5ECF6\",\"gridcolor\":\"white\",\"linecolor\":\"white\",\"showbackground\":true,\"ticks\":\"\",\"zerolinecolor\":\"white\",\"gridwidth\":2}},\"shapedefaults\":{\"line\":{\"color\":\"#2a3f5f\"}},\"annotationdefaults\":{\"arrowcolor\":\"#2a3f5f\",\"arrowhead\":0,\"arrowwidth\":1},\"geo\":{\"bgcolor\":\"white\",\"landcolor\":\"#E5ECF6\",\"subunitcolor\":\"white\",\"showland\":true,\"showlakes\":true,\"lakecolor\":\"white\"},\"title\":{\"x\":0.05},\"mapbox\":{\"style\":\"light\"}}},\"plot_bgcolor\":\"rgba(0, 0, 0, 0)\",\"paper_bgcolor\":\"rgba(0, 0, 0, 0)\",\"yaxis\":{\"automargin\":true},\"xaxis\":{\"automargin\":true}},                        {\"responsive\": true}                    ).then(function(){\n",
       "                            \n",
       "var gd = document.getElementById('d04d8505-2315-4011-8b19-fd6b669c4127');\n",
       "var x = new MutationObserver(function (mutations, observer) {{\n",
       "        var display = window.getComputedStyle(gd).display;\n",
       "        if (!display || display === 'none') {{\n",
       "            console.log([gd, 'removed!']);\n",
       "            Plotly.purge(gd);\n",
       "            observer.disconnect();\n",
       "        }}\n",
       "}});\n",
       "\n",
       "// Listen for the removal of the full notebook cells\n",
       "var notebookContainer = gd.closest('#notebook-container');\n",
       "if (notebookContainer) {{\n",
       "    x.observe(notebookContainer, {childList: true});\n",
       "}}\n",
       "\n",
       "// Listen for the clearing of the current output cell\n",
       "var outputEl = gd.closest('.output');\n",
       "if (outputEl) {{\n",
       "    x.observe(outputEl, {childList: true});\n",
       "}}\n",
       "\n",
       "                        })                };                });            </script>        </div>"
      ]
     },
     "metadata": {},
     "output_type": "display_data"
    }
   ],
   "source": [
    "fig = go.Figure()\n",
    "fig.add_trace(go.Scatter(x = predictions.index, y = predictions['Actual Values'], name = 'Actual Values', line=dict(width=5)))\n",
    "for column in [\n",
    "    'ElasticNet','RandomForest','XGBoost','SVR',\n",
    "    #'HWES','VAR (1st difference)','VECM (1st difference)','ARIMA', 'SARIMA', 'SARIMAX (with exog)'\n",
    "]:\n",
    "    fig.add_trace(\n",
    "        go.Scatter(\n",
    "            x = predictions.index,\n",
    "            y = predictions[column],\n",
    "            name = column,line=dict(width=3,  dash='dash')\n",
    "        )\n",
    "    )\n",
    "fig.update_layout({\n",
    "'plot_bgcolor': 'rgba(0, 0, 0, 0)',\n",
    "'paper_bgcolor': 'rgba(0, 0, 0, 0)',\n",
    "})\n",
    "fig.update_yaxes(automargin=True)\n",
    "fig.update_xaxes(automargin=True)\n",
    "fig.show()"
   ]
  },
  {
   "cell_type": "code",
   "execution_count": 76,
   "id": "03b3dcb0",
   "metadata": {
    "id": "03b3dcb0",
    "outputId": "9a5a667e-421e-4c15-efd7-3318dcc4f17f"
   },
   "outputs": [
    {
     "data": {
      "application/vnd.plotly.v1+json": {
       "config": {
        "plotlyServerURL": "https://plot.ly"
       },
       "data": [
        {
         "line": {
          "width": 5
         },
         "name": "Actual Values",
         "type": "scatter",
         "x": [
          "2022-06-30T00:00:00",
          "2022-06-30T01:00:00",
          "2022-06-30T02:00:00",
          "2022-06-30T03:00:00",
          "2022-06-30T04:00:00",
          "2022-06-30T05:00:00",
          "2022-06-30T06:00:00",
          "2022-06-30T07:00:00",
          "2022-06-30T08:00:00",
          "2022-06-30T09:00:00",
          "2022-06-30T10:00:00",
          "2022-06-30T11:00:00",
          "2022-06-30T12:00:00",
          "2022-06-30T13:00:00",
          "2022-06-30T14:00:00",
          "2022-06-30T15:00:00",
          "2022-06-30T16:00:00",
          "2022-06-30T17:00:00",
          "2022-06-30T18:00:00",
          "2022-06-30T19:00:00",
          "2022-06-30T20:00:00",
          "2022-06-30T21:00:00",
          "2022-06-30T22:00:00",
          "2022-06-30T23:00:00"
         ],
         "y": [
          151.99607813953577,
          144.9952390625175,
          54.98445092942512,
          30.98157409393383,
          23.98073501691553,
          93.98912578709847,
          130.9935609084809,
          181.99967418389988,
          120.99236222702618,
          117.99200262258977,
          113.9915231500079,
          145.99535893066295,
          175.99895497502706,
          191.00075299720913,
          279.01130139401056,
          319.0160961198294,
          358.0207709775027,
          312.0152570428111,
          312.0152570428111,
          269.01010271255586,
          310.0150173065201,
          374.0226888678303,
          338.0183736145933,
          267.0098629762649
         ]
        },
        {
         "line": {
          "dash": "dash",
          "width": 3
         },
         "name": "HWES",
         "type": "scatter",
         "x": [
          "2022-06-30T00:00:00",
          "2022-06-30T01:00:00",
          "2022-06-30T02:00:00",
          "2022-06-30T03:00:00",
          "2022-06-30T04:00:00",
          "2022-06-30T05:00:00",
          "2022-06-30T06:00:00",
          "2022-06-30T07:00:00",
          "2022-06-30T08:00:00",
          "2022-06-30T09:00:00",
          "2022-06-30T10:00:00",
          "2022-06-30T11:00:00",
          "2022-06-30T12:00:00",
          "2022-06-30T13:00:00",
          "2022-06-30T14:00:00",
          "2022-06-30T15:00:00",
          "2022-06-30T16:00:00",
          "2022-06-30T17:00:00",
          "2022-06-30T18:00:00",
          "2022-06-30T19:00:00",
          "2022-06-30T20:00:00",
          "2022-06-30T21:00:00",
          "2022-06-30T22:00:00",
          "2022-06-30T23:00:00"
         ],
         "y": [
          238.49381181498535,
          99.66570328617999,
          38.75660735684568,
          7.536554985869401,
          9.516108229699,
          69.50740545812745,
          142.67757865499811,
          166.91346998691466,
          143.75905779886887,
          117.45630375039252,
          129.2780766108644,
          150.47934073305134,
          196.07638866751856,
          190.93081269253332,
          278.96616209235594,
          348.84445265745165,
          318.774959492531,
          309.4598095655687,
          301.0211696348144,
          314.2983015186628,
          318.37068691490066,
          352.06023196647175,
          329.9640764603348,
          300.0455102480038
         ]
        },
        {
         "line": {
          "dash": "dash",
          "width": 3
         },
         "name": "VAR (1st difference)",
         "type": "scatter",
         "x": [
          "2022-06-30T00:00:00",
          "2022-06-30T01:00:00",
          "2022-06-30T02:00:00",
          "2022-06-30T03:00:00",
          "2022-06-30T04:00:00",
          "2022-06-30T05:00:00",
          "2022-06-30T06:00:00",
          "2022-06-30T07:00:00",
          "2022-06-30T08:00:00",
          "2022-06-30T09:00:00",
          "2022-06-30T10:00:00",
          "2022-06-30T11:00:00",
          "2022-06-30T12:00:00",
          "2022-06-30T13:00:00",
          "2022-06-30T14:00:00",
          "2022-06-30T15:00:00",
          "2022-06-30T16:00:00",
          "2022-06-30T17:00:00",
          "2022-06-30T18:00:00",
          "2022-06-30T19:00:00",
          "2022-06-30T20:00:00",
          "2022-06-30T21:00:00",
          "2022-06-30T22:00:00",
          "2022-06-30T23:00:00"
         ],
         "y": [
          282.5563972936977,
          277.2334072298419,
          267.0426951237895,
          261.9615081454197,
          258.01099111136944,
          254.59482684531446,
          252.21635338339365,
          250.4139439296515,
          249.0452673201474,
          248.0622624952915,
          247.36212712850966,
          246.88324437407198,
          246.58188034116006,
          246.41847905513652,
          246.3636334561727,
          246.39457264852336,
          246.49294741534484,
          246.64446312474826,
          246.83788865484576,
          247.06433930744873,
          247.31682727863512,
          247.5898468013026,
          247.87905454396665,
          248.1810274847821
         ]
        },
        {
         "line": {
          "dash": "dash",
          "width": 3
         },
         "name": "VECM (1st difference)",
         "type": "scatter",
         "x": [
          "2022-06-30T00:00:00",
          "2022-06-30T01:00:00",
          "2022-06-30T02:00:00",
          "2022-06-30T03:00:00",
          "2022-06-30T04:00:00",
          "2022-06-30T05:00:00",
          "2022-06-30T06:00:00",
          "2022-06-30T07:00:00",
          "2022-06-30T08:00:00",
          "2022-06-30T09:00:00",
          "2022-06-30T10:00:00",
          "2022-06-30T11:00:00",
          "2022-06-30T12:00:00",
          "2022-06-30T13:00:00",
          "2022-06-30T14:00:00",
          "2022-06-30T15:00:00",
          "2022-06-30T16:00:00",
          "2022-06-30T17:00:00",
          "2022-06-30T18:00:00",
          "2022-06-30T19:00:00",
          "2022-06-30T20:00:00",
          "2022-06-30T21:00:00",
          "2022-06-30T22:00:00",
          "2022-06-30T23:00:00"
         ],
         "y": [
          282.5563972936977,
          277.2334072298419,
          267.0426951237895,
          261.9615081454197,
          258.01099111136944,
          254.59482684531446,
          252.21635338339365,
          250.4139439296515,
          249.0452673201474,
          248.0622624952915,
          247.36212712850966,
          246.88324437407198,
          246.58188034116006,
          246.41847905513652,
          246.3636334561727,
          246.39457264852336,
          246.49294741534484,
          246.64446312474826,
          246.83788865484576,
          247.06433930744873,
          247.31682727863512,
          247.5898468013026,
          247.87905454396665,
          248.1810274847821
         ]
        },
        {
         "line": {
          "dash": "dash",
          "width": 3
         },
         "name": "ARIMA",
         "type": "scatter",
         "x": [
          "2022-06-30T00:00:00",
          "2022-06-30T01:00:00",
          "2022-06-30T02:00:00",
          "2022-06-30T03:00:00",
          "2022-06-30T04:00:00",
          "2022-06-30T05:00:00",
          "2022-06-30T06:00:00",
          "2022-06-30T07:00:00",
          "2022-06-30T08:00:00",
          "2022-06-30T09:00:00",
          "2022-06-30T10:00:00",
          "2022-06-30T11:00:00",
          "2022-06-30T12:00:00",
          "2022-06-30T13:00:00",
          "2022-06-30T14:00:00",
          "2022-06-30T15:00:00",
          "2022-06-30T16:00:00",
          "2022-06-30T17:00:00",
          "2022-06-30T18:00:00",
          "2022-06-30T19:00:00",
          "2022-06-30T20:00:00",
          "2022-06-30T21:00:00",
          "2022-06-30T22:00:00",
          "2022-06-30T23:00:00"
         ],
         "y": [
          287.4897468521581,
          277.73770543460614,
          278.349701473052,
          286.83787918687693,
          295.6265267537789,
          299.28097201977073,
          300.7492806905549,
          298.6977921081962,
          295.6659225651116,
          293.36571147495414,
          292.3654939120701,
          292.5561644896916,
          293.50747108567253,
          294.48769732014347,
          295.1019382128911,
          295.24039507332384,
          295.01723546929657,
          294.6576426317432,
          294.3622922894312,
          294.22560697180876,
          294.2452874116552,
          294.35551001843083,
          294.47735605400976,
          294.5567671245143
         ]
        },
        {
         "line": {
          "dash": "dash",
          "width": 3
         },
         "name": "SARIMA",
         "type": "scatter",
         "x": [
          "2022-06-30T00:00:00",
          "2022-06-30T01:00:00",
          "2022-06-30T02:00:00",
          "2022-06-30T03:00:00",
          "2022-06-30T04:00:00",
          "2022-06-30T05:00:00",
          "2022-06-30T06:00:00",
          "2022-06-30T07:00:00",
          "2022-06-30T08:00:00",
          "2022-06-30T09:00:00",
          "2022-06-30T10:00:00",
          "2022-06-30T11:00:00",
          "2022-06-30T12:00:00",
          "2022-06-30T13:00:00",
          "2022-06-30T14:00:00",
          "2022-06-30T15:00:00",
          "2022-06-30T16:00:00",
          "2022-06-30T17:00:00",
          "2022-06-30T18:00:00",
          "2022-06-30T19:00:00",
          "2022-06-30T20:00:00",
          "2022-06-30T21:00:00",
          "2022-06-30T22:00:00",
          "2022-06-30T23:00:00"
         ],
         "y": [
          257.4383492555772,
          58.44392592532745,
          37.561116471375186,
          -8.786592082405633,
          -4.6798639025196,
          58.122008377810005,
          111.50627015279069,
          138.40347463607804,
          116.40403445279826,
          96.33439602947651,
          111.69977335783537,
          135.32122421829723,
          159.71064983315577,
          116.542635742968,
          220.6672893536416,
          335.46570542699203,
          308.0146946852544,
          285.2291459871745,
          264.75429334394164,
          293.212922091801,
          290.1437711406605,
          313.0822780505464,
          304.83185907382875,
          295.43194009916425
         ]
        },
        {
         "line": {
          "dash": "dash",
          "width": 3
         },
         "name": "SARIMAX (with exog)",
         "type": "scatter",
         "x": [
          "2022-06-30T00:00:00",
          "2022-06-30T01:00:00",
          "2022-06-30T02:00:00",
          "2022-06-30T03:00:00",
          "2022-06-30T04:00:00",
          "2022-06-30T05:00:00",
          "2022-06-30T06:00:00",
          "2022-06-30T07:00:00",
          "2022-06-30T08:00:00",
          "2022-06-30T09:00:00",
          "2022-06-30T10:00:00",
          "2022-06-30T11:00:00",
          "2022-06-30T12:00:00",
          "2022-06-30T13:00:00",
          "2022-06-30T14:00:00",
          "2022-06-30T15:00:00",
          "2022-06-30T16:00:00",
          "2022-06-30T17:00:00",
          "2022-06-30T18:00:00",
          "2022-06-30T19:00:00",
          "2022-06-30T20:00:00",
          "2022-06-30T21:00:00",
          "2022-06-30T22:00:00",
          "2022-06-30T23:00:00"
         ],
         "y": [
          252.87261368711404,
          59.90085060282719,
          38.06473590523743,
          3.6355771379718362,
          -17.47824667530736,
          50.04616133486121,
          120.75378024501981,
          140.13206621311372,
          120.58594598424729,
          99.5908980955908,
          113.55267203946731,
          140.89762127016508,
          161.9682103888388,
          119.21937165804341,
          222.32769196622698,
          333.3528903728918,
          307.867865677951,
          289.05552987959175,
          263.3071207520271,
          294.42855439824206,
          291.23495666378096,
          315.63832286149307,
          307.107978946648,
          294.4312107216242
         ]
        }
       ],
       "layout": {
        "paper_bgcolor": "rgba(0, 0, 0, 0)",
        "plot_bgcolor": "rgba(0, 0, 0, 0)",
        "template": {
         "data": {
          "bar": [
           {
            "error_x": {
             "color": "#2a3f5f"
            },
            "error_y": {
             "color": "#2a3f5f"
            },
            "marker": {
             "line": {
              "color": "#E5ECF6",
              "width": 0.5
             },
             "pattern": {
              "fillmode": "overlay",
              "size": 10,
              "solidity": 0.2
             }
            },
            "type": "bar"
           }
          ],
          "barpolar": [
           {
            "marker": {
             "line": {
              "color": "#E5ECF6",
              "width": 0.5
             },
             "pattern": {
              "fillmode": "overlay",
              "size": 10,
              "solidity": 0.2
             }
            },
            "type": "barpolar"
           }
          ],
          "carpet": [
           {
            "aaxis": {
             "endlinecolor": "#2a3f5f",
             "gridcolor": "white",
             "linecolor": "white",
             "minorgridcolor": "white",
             "startlinecolor": "#2a3f5f"
            },
            "baxis": {
             "endlinecolor": "#2a3f5f",
             "gridcolor": "white",
             "linecolor": "white",
             "minorgridcolor": "white",
             "startlinecolor": "#2a3f5f"
            },
            "type": "carpet"
           }
          ],
          "choropleth": [
           {
            "colorbar": {
             "outlinewidth": 0,
             "ticks": ""
            },
            "type": "choropleth"
           }
          ],
          "contour": [
           {
            "colorbar": {
             "outlinewidth": 0,
             "ticks": ""
            },
            "colorscale": [
             [
              0,
              "#0d0887"
             ],
             [
              0.1111111111111111,
              "#46039f"
             ],
             [
              0.2222222222222222,
              "#7201a8"
             ],
             [
              0.3333333333333333,
              "#9c179e"
             ],
             [
              0.4444444444444444,
              "#bd3786"
             ],
             [
              0.5555555555555556,
              "#d8576b"
             ],
             [
              0.6666666666666666,
              "#ed7953"
             ],
             [
              0.7777777777777778,
              "#fb9f3a"
             ],
             [
              0.8888888888888888,
              "#fdca26"
             ],
             [
              1,
              "#f0f921"
             ]
            ],
            "type": "contour"
           }
          ],
          "contourcarpet": [
           {
            "colorbar": {
             "outlinewidth": 0,
             "ticks": ""
            },
            "type": "contourcarpet"
           }
          ],
          "heatmap": [
           {
            "colorbar": {
             "outlinewidth": 0,
             "ticks": ""
            },
            "colorscale": [
             [
              0,
              "#0d0887"
             ],
             [
              0.1111111111111111,
              "#46039f"
             ],
             [
              0.2222222222222222,
              "#7201a8"
             ],
             [
              0.3333333333333333,
              "#9c179e"
             ],
             [
              0.4444444444444444,
              "#bd3786"
             ],
             [
              0.5555555555555556,
              "#d8576b"
             ],
             [
              0.6666666666666666,
              "#ed7953"
             ],
             [
              0.7777777777777778,
              "#fb9f3a"
             ],
             [
              0.8888888888888888,
              "#fdca26"
             ],
             [
              1,
              "#f0f921"
             ]
            ],
            "type": "heatmap"
           }
          ],
          "heatmapgl": [
           {
            "colorbar": {
             "outlinewidth": 0,
             "ticks": ""
            },
            "colorscale": [
             [
              0,
              "#0d0887"
             ],
             [
              0.1111111111111111,
              "#46039f"
             ],
             [
              0.2222222222222222,
              "#7201a8"
             ],
             [
              0.3333333333333333,
              "#9c179e"
             ],
             [
              0.4444444444444444,
              "#bd3786"
             ],
             [
              0.5555555555555556,
              "#d8576b"
             ],
             [
              0.6666666666666666,
              "#ed7953"
             ],
             [
              0.7777777777777778,
              "#fb9f3a"
             ],
             [
              0.8888888888888888,
              "#fdca26"
             ],
             [
              1,
              "#f0f921"
             ]
            ],
            "type": "heatmapgl"
           }
          ],
          "histogram": [
           {
            "marker": {
             "pattern": {
              "fillmode": "overlay",
              "size": 10,
              "solidity": 0.2
             }
            },
            "type": "histogram"
           }
          ],
          "histogram2d": [
           {
            "colorbar": {
             "outlinewidth": 0,
             "ticks": ""
            },
            "colorscale": [
             [
              0,
              "#0d0887"
             ],
             [
              0.1111111111111111,
              "#46039f"
             ],
             [
              0.2222222222222222,
              "#7201a8"
             ],
             [
              0.3333333333333333,
              "#9c179e"
             ],
             [
              0.4444444444444444,
              "#bd3786"
             ],
             [
              0.5555555555555556,
              "#d8576b"
             ],
             [
              0.6666666666666666,
              "#ed7953"
             ],
             [
              0.7777777777777778,
              "#fb9f3a"
             ],
             [
              0.8888888888888888,
              "#fdca26"
             ],
             [
              1,
              "#f0f921"
             ]
            ],
            "type": "histogram2d"
           }
          ],
          "histogram2dcontour": [
           {
            "colorbar": {
             "outlinewidth": 0,
             "ticks": ""
            },
            "colorscale": [
             [
              0,
              "#0d0887"
             ],
             [
              0.1111111111111111,
              "#46039f"
             ],
             [
              0.2222222222222222,
              "#7201a8"
             ],
             [
              0.3333333333333333,
              "#9c179e"
             ],
             [
              0.4444444444444444,
              "#bd3786"
             ],
             [
              0.5555555555555556,
              "#d8576b"
             ],
             [
              0.6666666666666666,
              "#ed7953"
             ],
             [
              0.7777777777777778,
              "#fb9f3a"
             ],
             [
              0.8888888888888888,
              "#fdca26"
             ],
             [
              1,
              "#f0f921"
             ]
            ],
            "type": "histogram2dcontour"
           }
          ],
          "mesh3d": [
           {
            "colorbar": {
             "outlinewidth": 0,
             "ticks": ""
            },
            "type": "mesh3d"
           }
          ],
          "parcoords": [
           {
            "line": {
             "colorbar": {
              "outlinewidth": 0,
              "ticks": ""
             }
            },
            "type": "parcoords"
           }
          ],
          "pie": [
           {
            "automargin": true,
            "type": "pie"
           }
          ],
          "scatter": [
           {
            "fillpattern": {
             "fillmode": "overlay",
             "size": 10,
             "solidity": 0.2
            },
            "type": "scatter"
           }
          ],
          "scatter3d": [
           {
            "line": {
             "colorbar": {
              "outlinewidth": 0,
              "ticks": ""
             }
            },
            "marker": {
             "colorbar": {
              "outlinewidth": 0,
              "ticks": ""
             }
            },
            "type": "scatter3d"
           }
          ],
          "scattercarpet": [
           {
            "marker": {
             "colorbar": {
              "outlinewidth": 0,
              "ticks": ""
             }
            },
            "type": "scattercarpet"
           }
          ],
          "scattergeo": [
           {
            "marker": {
             "colorbar": {
              "outlinewidth": 0,
              "ticks": ""
             }
            },
            "type": "scattergeo"
           }
          ],
          "scattergl": [
           {
            "marker": {
             "colorbar": {
              "outlinewidth": 0,
              "ticks": ""
             }
            },
            "type": "scattergl"
           }
          ],
          "scattermapbox": [
           {
            "marker": {
             "colorbar": {
              "outlinewidth": 0,
              "ticks": ""
             }
            },
            "type": "scattermapbox"
           }
          ],
          "scatterpolar": [
           {
            "marker": {
             "colorbar": {
              "outlinewidth": 0,
              "ticks": ""
             }
            },
            "type": "scatterpolar"
           }
          ],
          "scatterpolargl": [
           {
            "marker": {
             "colorbar": {
              "outlinewidth": 0,
              "ticks": ""
             }
            },
            "type": "scatterpolargl"
           }
          ],
          "scatterternary": [
           {
            "marker": {
             "colorbar": {
              "outlinewidth": 0,
              "ticks": ""
             }
            },
            "type": "scatterternary"
           }
          ],
          "surface": [
           {
            "colorbar": {
             "outlinewidth": 0,
             "ticks": ""
            },
            "colorscale": [
             [
              0,
              "#0d0887"
             ],
             [
              0.1111111111111111,
              "#46039f"
             ],
             [
              0.2222222222222222,
              "#7201a8"
             ],
             [
              0.3333333333333333,
              "#9c179e"
             ],
             [
              0.4444444444444444,
              "#bd3786"
             ],
             [
              0.5555555555555556,
              "#d8576b"
             ],
             [
              0.6666666666666666,
              "#ed7953"
             ],
             [
              0.7777777777777778,
              "#fb9f3a"
             ],
             [
              0.8888888888888888,
              "#fdca26"
             ],
             [
              1,
              "#f0f921"
             ]
            ],
            "type": "surface"
           }
          ],
          "table": [
           {
            "cells": {
             "fill": {
              "color": "#EBF0F8"
             },
             "line": {
              "color": "white"
             }
            },
            "header": {
             "fill": {
              "color": "#C8D4E3"
             },
             "line": {
              "color": "white"
             }
            },
            "type": "table"
           }
          ]
         },
         "layout": {
          "annotationdefaults": {
           "arrowcolor": "#2a3f5f",
           "arrowhead": 0,
           "arrowwidth": 1
          },
          "autotypenumbers": "strict",
          "coloraxis": {
           "colorbar": {
            "outlinewidth": 0,
            "ticks": ""
           }
          },
          "colorscale": {
           "diverging": [
            [
             0,
             "#8e0152"
            ],
            [
             0.1,
             "#c51b7d"
            ],
            [
             0.2,
             "#de77ae"
            ],
            [
             0.3,
             "#f1b6da"
            ],
            [
             0.4,
             "#fde0ef"
            ],
            [
             0.5,
             "#f7f7f7"
            ],
            [
             0.6,
             "#e6f5d0"
            ],
            [
             0.7,
             "#b8e186"
            ],
            [
             0.8,
             "#7fbc41"
            ],
            [
             0.9,
             "#4d9221"
            ],
            [
             1,
             "#276419"
            ]
           ],
           "sequential": [
            [
             0,
             "#0d0887"
            ],
            [
             0.1111111111111111,
             "#46039f"
            ],
            [
             0.2222222222222222,
             "#7201a8"
            ],
            [
             0.3333333333333333,
             "#9c179e"
            ],
            [
             0.4444444444444444,
             "#bd3786"
            ],
            [
             0.5555555555555556,
             "#d8576b"
            ],
            [
             0.6666666666666666,
             "#ed7953"
            ],
            [
             0.7777777777777778,
             "#fb9f3a"
            ],
            [
             0.8888888888888888,
             "#fdca26"
            ],
            [
             1,
             "#f0f921"
            ]
           ],
           "sequentialminus": [
            [
             0,
             "#0d0887"
            ],
            [
             0.1111111111111111,
             "#46039f"
            ],
            [
             0.2222222222222222,
             "#7201a8"
            ],
            [
             0.3333333333333333,
             "#9c179e"
            ],
            [
             0.4444444444444444,
             "#bd3786"
            ],
            [
             0.5555555555555556,
             "#d8576b"
            ],
            [
             0.6666666666666666,
             "#ed7953"
            ],
            [
             0.7777777777777778,
             "#fb9f3a"
            ],
            [
             0.8888888888888888,
             "#fdca26"
            ],
            [
             1,
             "#f0f921"
            ]
           ]
          },
          "colorway": [
           "#636efa",
           "#EF553B",
           "#00cc96",
           "#ab63fa",
           "#FFA15A",
           "#19d3f3",
           "#FF6692",
           "#B6E880",
           "#FF97FF",
           "#FECB52"
          ],
          "font": {
           "color": "#2a3f5f"
          },
          "geo": {
           "bgcolor": "white",
           "lakecolor": "white",
           "landcolor": "#E5ECF6",
           "showlakes": true,
           "showland": true,
           "subunitcolor": "white"
          },
          "hoverlabel": {
           "align": "left"
          },
          "hovermode": "closest",
          "mapbox": {
           "style": "light"
          },
          "paper_bgcolor": "white",
          "plot_bgcolor": "#E5ECF6",
          "polar": {
           "angularaxis": {
            "gridcolor": "white",
            "linecolor": "white",
            "ticks": ""
           },
           "bgcolor": "#E5ECF6",
           "radialaxis": {
            "gridcolor": "white",
            "linecolor": "white",
            "ticks": ""
           }
          },
          "scene": {
           "xaxis": {
            "backgroundcolor": "#E5ECF6",
            "gridcolor": "white",
            "gridwidth": 2,
            "linecolor": "white",
            "showbackground": true,
            "ticks": "",
            "zerolinecolor": "white"
           },
           "yaxis": {
            "backgroundcolor": "#E5ECF6",
            "gridcolor": "white",
            "gridwidth": 2,
            "linecolor": "white",
            "showbackground": true,
            "ticks": "",
            "zerolinecolor": "white"
           },
           "zaxis": {
            "backgroundcolor": "#E5ECF6",
            "gridcolor": "white",
            "gridwidth": 2,
            "linecolor": "white",
            "showbackground": true,
            "ticks": "",
            "zerolinecolor": "white"
           }
          },
          "shapedefaults": {
           "line": {
            "color": "#2a3f5f"
           }
          },
          "ternary": {
           "aaxis": {
            "gridcolor": "white",
            "linecolor": "white",
            "ticks": ""
           },
           "baxis": {
            "gridcolor": "white",
            "linecolor": "white",
            "ticks": ""
           },
           "bgcolor": "#E5ECF6",
           "caxis": {
            "gridcolor": "white",
            "linecolor": "white",
            "ticks": ""
           }
          },
          "title": {
           "x": 0.05
          },
          "xaxis": {
           "automargin": true,
           "gridcolor": "white",
           "linecolor": "white",
           "ticks": "",
           "title": {
            "standoff": 15
           },
           "zerolinecolor": "white",
           "zerolinewidth": 2
          },
          "yaxis": {
           "automargin": true,
           "gridcolor": "white",
           "linecolor": "white",
           "ticks": "",
           "title": {
            "standoff": 15
           },
           "zerolinecolor": "white",
           "zerolinewidth": 2
          }
         }
        },
        "xaxis": {
         "automargin": true
        },
        "yaxis": {
         "automargin": true
        }
       }
      },
      "text/html": [
       "<div>                            <div id=\"d2a42d83-a395-4d0f-81cb-3887c5ce5a45\" class=\"plotly-graph-div\" style=\"height:525px; width:100%;\"></div>            <script type=\"text/javascript\">                require([\"plotly\"], function(Plotly) {                    window.PLOTLYENV=window.PLOTLYENV || {};                                    if (document.getElementById(\"d2a42d83-a395-4d0f-81cb-3887c5ce5a45\")) {                    Plotly.newPlot(                        \"d2a42d83-a395-4d0f-81cb-3887c5ce5a45\",                        [{\"line\":{\"width\":5},\"name\":\"Actual Values\",\"x\":[\"2022-06-30T00:00:00\",\"2022-06-30T01:00:00\",\"2022-06-30T02:00:00\",\"2022-06-30T03:00:00\",\"2022-06-30T04:00:00\",\"2022-06-30T05:00:00\",\"2022-06-30T06:00:00\",\"2022-06-30T07:00:00\",\"2022-06-30T08:00:00\",\"2022-06-30T09:00:00\",\"2022-06-30T10:00:00\",\"2022-06-30T11:00:00\",\"2022-06-30T12:00:00\",\"2022-06-30T13:00:00\",\"2022-06-30T14:00:00\",\"2022-06-30T15:00:00\",\"2022-06-30T16:00:00\",\"2022-06-30T17:00:00\",\"2022-06-30T18:00:00\",\"2022-06-30T19:00:00\",\"2022-06-30T20:00:00\",\"2022-06-30T21:00:00\",\"2022-06-30T22:00:00\",\"2022-06-30T23:00:00\"],\"y\":[151.99607813953577,144.9952390625175,54.98445092942512,30.98157409393383,23.98073501691553,93.98912578709847,130.9935609084809,181.99967418389988,120.99236222702618,117.99200262258977,113.9915231500079,145.99535893066295,175.99895497502706,191.00075299720913,279.01130139401056,319.0160961198294,358.0207709775027,312.0152570428111,312.0152570428111,269.01010271255586,310.0150173065201,374.0226888678303,338.0183736145933,267.0098629762649],\"type\":\"scatter\"},{\"line\":{\"dash\":\"dash\",\"width\":3},\"name\":\"HWES\",\"x\":[\"2022-06-30T00:00:00\",\"2022-06-30T01:00:00\",\"2022-06-30T02:00:00\",\"2022-06-30T03:00:00\",\"2022-06-30T04:00:00\",\"2022-06-30T05:00:00\",\"2022-06-30T06:00:00\",\"2022-06-30T07:00:00\",\"2022-06-30T08:00:00\",\"2022-06-30T09:00:00\",\"2022-06-30T10:00:00\",\"2022-06-30T11:00:00\",\"2022-06-30T12:00:00\",\"2022-06-30T13:00:00\",\"2022-06-30T14:00:00\",\"2022-06-30T15:00:00\",\"2022-06-30T16:00:00\",\"2022-06-30T17:00:00\",\"2022-06-30T18:00:00\",\"2022-06-30T19:00:00\",\"2022-06-30T20:00:00\",\"2022-06-30T21:00:00\",\"2022-06-30T22:00:00\",\"2022-06-30T23:00:00\"],\"y\":[238.49381181498535,99.66570328617999,38.75660735684568,7.536554985869401,9.516108229699,69.50740545812745,142.67757865499811,166.91346998691466,143.75905779886887,117.45630375039252,129.2780766108644,150.47934073305134,196.07638866751856,190.93081269253332,278.96616209235594,348.84445265745165,318.774959492531,309.4598095655687,301.0211696348144,314.2983015186628,318.37068691490066,352.06023196647175,329.9640764603348,300.0455102480038],\"type\":\"scatter\"},{\"line\":{\"dash\":\"dash\",\"width\":3},\"name\":\"VAR (1st difference)\",\"x\":[\"2022-06-30T00:00:00\",\"2022-06-30T01:00:00\",\"2022-06-30T02:00:00\",\"2022-06-30T03:00:00\",\"2022-06-30T04:00:00\",\"2022-06-30T05:00:00\",\"2022-06-30T06:00:00\",\"2022-06-30T07:00:00\",\"2022-06-30T08:00:00\",\"2022-06-30T09:00:00\",\"2022-06-30T10:00:00\",\"2022-06-30T11:00:00\",\"2022-06-30T12:00:00\",\"2022-06-30T13:00:00\",\"2022-06-30T14:00:00\",\"2022-06-30T15:00:00\",\"2022-06-30T16:00:00\",\"2022-06-30T17:00:00\",\"2022-06-30T18:00:00\",\"2022-06-30T19:00:00\",\"2022-06-30T20:00:00\",\"2022-06-30T21:00:00\",\"2022-06-30T22:00:00\",\"2022-06-30T23:00:00\"],\"y\":[282.5563972936977,277.2334072298419,267.0426951237895,261.9615081454197,258.01099111136944,254.59482684531446,252.21635338339365,250.4139439296515,249.0452673201474,248.0622624952915,247.36212712850966,246.88324437407198,246.58188034116006,246.41847905513652,246.3636334561727,246.39457264852336,246.49294741534484,246.64446312474826,246.83788865484576,247.06433930744873,247.31682727863512,247.5898468013026,247.87905454396665,248.1810274847821],\"type\":\"scatter\"},{\"line\":{\"dash\":\"dash\",\"width\":3},\"name\":\"VECM (1st difference)\",\"x\":[\"2022-06-30T00:00:00\",\"2022-06-30T01:00:00\",\"2022-06-30T02:00:00\",\"2022-06-30T03:00:00\",\"2022-06-30T04:00:00\",\"2022-06-30T05:00:00\",\"2022-06-30T06:00:00\",\"2022-06-30T07:00:00\",\"2022-06-30T08:00:00\",\"2022-06-30T09:00:00\",\"2022-06-30T10:00:00\",\"2022-06-30T11:00:00\",\"2022-06-30T12:00:00\",\"2022-06-30T13:00:00\",\"2022-06-30T14:00:00\",\"2022-06-30T15:00:00\",\"2022-06-30T16:00:00\",\"2022-06-30T17:00:00\",\"2022-06-30T18:00:00\",\"2022-06-30T19:00:00\",\"2022-06-30T20:00:00\",\"2022-06-30T21:00:00\",\"2022-06-30T22:00:00\",\"2022-06-30T23:00:00\"],\"y\":[282.5563972936977,277.2334072298419,267.0426951237895,261.9615081454197,258.01099111136944,254.59482684531446,252.21635338339365,250.4139439296515,249.0452673201474,248.0622624952915,247.36212712850966,246.88324437407198,246.58188034116006,246.41847905513652,246.3636334561727,246.39457264852336,246.49294741534484,246.64446312474826,246.83788865484576,247.06433930744873,247.31682727863512,247.5898468013026,247.87905454396665,248.1810274847821],\"type\":\"scatter\"},{\"line\":{\"dash\":\"dash\",\"width\":3},\"name\":\"ARIMA\",\"x\":[\"2022-06-30T00:00:00\",\"2022-06-30T01:00:00\",\"2022-06-30T02:00:00\",\"2022-06-30T03:00:00\",\"2022-06-30T04:00:00\",\"2022-06-30T05:00:00\",\"2022-06-30T06:00:00\",\"2022-06-30T07:00:00\",\"2022-06-30T08:00:00\",\"2022-06-30T09:00:00\",\"2022-06-30T10:00:00\",\"2022-06-30T11:00:00\",\"2022-06-30T12:00:00\",\"2022-06-30T13:00:00\",\"2022-06-30T14:00:00\",\"2022-06-30T15:00:00\",\"2022-06-30T16:00:00\",\"2022-06-30T17:00:00\",\"2022-06-30T18:00:00\",\"2022-06-30T19:00:00\",\"2022-06-30T20:00:00\",\"2022-06-30T21:00:00\",\"2022-06-30T22:00:00\",\"2022-06-30T23:00:00\"],\"y\":[287.4897468521581,277.73770543460614,278.349701473052,286.83787918687693,295.6265267537789,299.28097201977073,300.7492806905549,298.6977921081962,295.6659225651116,293.36571147495414,292.3654939120701,292.5561644896916,293.50747108567253,294.48769732014347,295.1019382128911,295.24039507332384,295.01723546929657,294.6576426317432,294.3622922894312,294.22560697180876,294.2452874116552,294.35551001843083,294.47735605400976,294.5567671245143],\"type\":\"scatter\"},{\"line\":{\"dash\":\"dash\",\"width\":3},\"name\":\"SARIMA\",\"x\":[\"2022-06-30T00:00:00\",\"2022-06-30T01:00:00\",\"2022-06-30T02:00:00\",\"2022-06-30T03:00:00\",\"2022-06-30T04:00:00\",\"2022-06-30T05:00:00\",\"2022-06-30T06:00:00\",\"2022-06-30T07:00:00\",\"2022-06-30T08:00:00\",\"2022-06-30T09:00:00\",\"2022-06-30T10:00:00\",\"2022-06-30T11:00:00\",\"2022-06-30T12:00:00\",\"2022-06-30T13:00:00\",\"2022-06-30T14:00:00\",\"2022-06-30T15:00:00\",\"2022-06-30T16:00:00\",\"2022-06-30T17:00:00\",\"2022-06-30T18:00:00\",\"2022-06-30T19:00:00\",\"2022-06-30T20:00:00\",\"2022-06-30T21:00:00\",\"2022-06-30T22:00:00\",\"2022-06-30T23:00:00\"],\"y\":[257.4383492555772,58.44392592532745,37.561116471375186,-8.786592082405633,-4.6798639025196,58.122008377810005,111.50627015279069,138.40347463607804,116.40403445279826,96.33439602947651,111.69977335783537,135.32122421829723,159.71064983315577,116.542635742968,220.6672893536416,335.46570542699203,308.0146946852544,285.2291459871745,264.75429334394164,293.212922091801,290.1437711406605,313.0822780505464,304.83185907382875,295.43194009916425],\"type\":\"scatter\"},{\"line\":{\"dash\":\"dash\",\"width\":3},\"name\":\"SARIMAX (with exog)\",\"x\":[\"2022-06-30T00:00:00\",\"2022-06-30T01:00:00\",\"2022-06-30T02:00:00\",\"2022-06-30T03:00:00\",\"2022-06-30T04:00:00\",\"2022-06-30T05:00:00\",\"2022-06-30T06:00:00\",\"2022-06-30T07:00:00\",\"2022-06-30T08:00:00\",\"2022-06-30T09:00:00\",\"2022-06-30T10:00:00\",\"2022-06-30T11:00:00\",\"2022-06-30T12:00:00\",\"2022-06-30T13:00:00\",\"2022-06-30T14:00:00\",\"2022-06-30T15:00:00\",\"2022-06-30T16:00:00\",\"2022-06-30T17:00:00\",\"2022-06-30T18:00:00\",\"2022-06-30T19:00:00\",\"2022-06-30T20:00:00\",\"2022-06-30T21:00:00\",\"2022-06-30T22:00:00\",\"2022-06-30T23:00:00\"],\"y\":[252.87261368711404,59.90085060282719,38.06473590523743,3.6355771379718362,-17.47824667530736,50.04616133486121,120.75378024501981,140.13206621311372,120.58594598424729,99.5908980955908,113.55267203946731,140.89762127016508,161.9682103888388,119.21937165804341,222.32769196622698,333.3528903728918,307.867865677951,289.05552987959175,263.3071207520271,294.42855439824206,291.23495666378096,315.63832286149307,307.107978946648,294.4312107216242],\"type\":\"scatter\"}],                        {\"template\":{\"data\":{\"histogram2dcontour\":[{\"type\":\"histogram2dcontour\",\"colorbar\":{\"outlinewidth\":0,\"ticks\":\"\"},\"colorscale\":[[0.0,\"#0d0887\"],[0.1111111111111111,\"#46039f\"],[0.2222222222222222,\"#7201a8\"],[0.3333333333333333,\"#9c179e\"],[0.4444444444444444,\"#bd3786\"],[0.5555555555555556,\"#d8576b\"],[0.6666666666666666,\"#ed7953\"],[0.7777777777777778,\"#fb9f3a\"],[0.8888888888888888,\"#fdca26\"],[1.0,\"#f0f921\"]]}],\"choropleth\":[{\"type\":\"choropleth\",\"colorbar\":{\"outlinewidth\":0,\"ticks\":\"\"}}],\"histogram2d\":[{\"type\":\"histogram2d\",\"colorbar\":{\"outlinewidth\":0,\"ticks\":\"\"},\"colorscale\":[[0.0,\"#0d0887\"],[0.1111111111111111,\"#46039f\"],[0.2222222222222222,\"#7201a8\"],[0.3333333333333333,\"#9c179e\"],[0.4444444444444444,\"#bd3786\"],[0.5555555555555556,\"#d8576b\"],[0.6666666666666666,\"#ed7953\"],[0.7777777777777778,\"#fb9f3a\"],[0.8888888888888888,\"#fdca26\"],[1.0,\"#f0f921\"]]}],\"heatmap\":[{\"type\":\"heatmap\",\"colorbar\":{\"outlinewidth\":0,\"ticks\":\"\"},\"colorscale\":[[0.0,\"#0d0887\"],[0.1111111111111111,\"#46039f\"],[0.2222222222222222,\"#7201a8\"],[0.3333333333333333,\"#9c179e\"],[0.4444444444444444,\"#bd3786\"],[0.5555555555555556,\"#d8576b\"],[0.6666666666666666,\"#ed7953\"],[0.7777777777777778,\"#fb9f3a\"],[0.8888888888888888,\"#fdca26\"],[1.0,\"#f0f921\"]]}],\"heatmapgl\":[{\"type\":\"heatmapgl\",\"colorbar\":{\"outlinewidth\":0,\"ticks\":\"\"},\"colorscale\":[[0.0,\"#0d0887\"],[0.1111111111111111,\"#46039f\"],[0.2222222222222222,\"#7201a8\"],[0.3333333333333333,\"#9c179e\"],[0.4444444444444444,\"#bd3786\"],[0.5555555555555556,\"#d8576b\"],[0.6666666666666666,\"#ed7953\"],[0.7777777777777778,\"#fb9f3a\"],[0.8888888888888888,\"#fdca26\"],[1.0,\"#f0f921\"]]}],\"contourcarpet\":[{\"type\":\"contourcarpet\",\"colorbar\":{\"outlinewidth\":0,\"ticks\":\"\"}}],\"contour\":[{\"type\":\"contour\",\"colorbar\":{\"outlinewidth\":0,\"ticks\":\"\"},\"colorscale\":[[0.0,\"#0d0887\"],[0.1111111111111111,\"#46039f\"],[0.2222222222222222,\"#7201a8\"],[0.3333333333333333,\"#9c179e\"],[0.4444444444444444,\"#bd3786\"],[0.5555555555555556,\"#d8576b\"],[0.6666666666666666,\"#ed7953\"],[0.7777777777777778,\"#fb9f3a\"],[0.8888888888888888,\"#fdca26\"],[1.0,\"#f0f921\"]]}],\"surface\":[{\"type\":\"surface\",\"colorbar\":{\"outlinewidth\":0,\"ticks\":\"\"},\"colorscale\":[[0.0,\"#0d0887\"],[0.1111111111111111,\"#46039f\"],[0.2222222222222222,\"#7201a8\"],[0.3333333333333333,\"#9c179e\"],[0.4444444444444444,\"#bd3786\"],[0.5555555555555556,\"#d8576b\"],[0.6666666666666666,\"#ed7953\"],[0.7777777777777778,\"#fb9f3a\"],[0.8888888888888888,\"#fdca26\"],[1.0,\"#f0f921\"]]}],\"mesh3d\":[{\"type\":\"mesh3d\",\"colorbar\":{\"outlinewidth\":0,\"ticks\":\"\"}}],\"scatter\":[{\"fillpattern\":{\"fillmode\":\"overlay\",\"size\":10,\"solidity\":0.2},\"type\":\"scatter\"}],\"parcoords\":[{\"type\":\"parcoords\",\"line\":{\"colorbar\":{\"outlinewidth\":0,\"ticks\":\"\"}}}],\"scatterpolargl\":[{\"type\":\"scatterpolargl\",\"marker\":{\"colorbar\":{\"outlinewidth\":0,\"ticks\":\"\"}}}],\"bar\":[{\"error_x\":{\"color\":\"#2a3f5f\"},\"error_y\":{\"color\":\"#2a3f5f\"},\"marker\":{\"line\":{\"color\":\"#E5ECF6\",\"width\":0.5},\"pattern\":{\"fillmode\":\"overlay\",\"size\":10,\"solidity\":0.2}},\"type\":\"bar\"}],\"scattergeo\":[{\"type\":\"scattergeo\",\"marker\":{\"colorbar\":{\"outlinewidth\":0,\"ticks\":\"\"}}}],\"scatterpolar\":[{\"type\":\"scatterpolar\",\"marker\":{\"colorbar\":{\"outlinewidth\":0,\"ticks\":\"\"}}}],\"histogram\":[{\"marker\":{\"pattern\":{\"fillmode\":\"overlay\",\"size\":10,\"solidity\":0.2}},\"type\":\"histogram\"}],\"scattergl\":[{\"type\":\"scattergl\",\"marker\":{\"colorbar\":{\"outlinewidth\":0,\"ticks\":\"\"}}}],\"scatter3d\":[{\"type\":\"scatter3d\",\"line\":{\"colorbar\":{\"outlinewidth\":0,\"ticks\":\"\"}},\"marker\":{\"colorbar\":{\"outlinewidth\":0,\"ticks\":\"\"}}}],\"scattermapbox\":[{\"type\":\"scattermapbox\",\"marker\":{\"colorbar\":{\"outlinewidth\":0,\"ticks\":\"\"}}}],\"scatterternary\":[{\"type\":\"scatterternary\",\"marker\":{\"colorbar\":{\"outlinewidth\":0,\"ticks\":\"\"}}}],\"scattercarpet\":[{\"type\":\"scattercarpet\",\"marker\":{\"colorbar\":{\"outlinewidth\":0,\"ticks\":\"\"}}}],\"carpet\":[{\"aaxis\":{\"endlinecolor\":\"#2a3f5f\",\"gridcolor\":\"white\",\"linecolor\":\"white\",\"minorgridcolor\":\"white\",\"startlinecolor\":\"#2a3f5f\"},\"baxis\":{\"endlinecolor\":\"#2a3f5f\",\"gridcolor\":\"white\",\"linecolor\":\"white\",\"minorgridcolor\":\"white\",\"startlinecolor\":\"#2a3f5f\"},\"type\":\"carpet\"}],\"table\":[{\"cells\":{\"fill\":{\"color\":\"#EBF0F8\"},\"line\":{\"color\":\"white\"}},\"header\":{\"fill\":{\"color\":\"#C8D4E3\"},\"line\":{\"color\":\"white\"}},\"type\":\"table\"}],\"barpolar\":[{\"marker\":{\"line\":{\"color\":\"#E5ECF6\",\"width\":0.5},\"pattern\":{\"fillmode\":\"overlay\",\"size\":10,\"solidity\":0.2}},\"type\":\"barpolar\"}],\"pie\":[{\"automargin\":true,\"type\":\"pie\"}]},\"layout\":{\"autotypenumbers\":\"strict\",\"colorway\":[\"#636efa\",\"#EF553B\",\"#00cc96\",\"#ab63fa\",\"#FFA15A\",\"#19d3f3\",\"#FF6692\",\"#B6E880\",\"#FF97FF\",\"#FECB52\"],\"font\":{\"color\":\"#2a3f5f\"},\"hovermode\":\"closest\",\"hoverlabel\":{\"align\":\"left\"},\"paper_bgcolor\":\"white\",\"plot_bgcolor\":\"#E5ECF6\",\"polar\":{\"bgcolor\":\"#E5ECF6\",\"angularaxis\":{\"gridcolor\":\"white\",\"linecolor\":\"white\",\"ticks\":\"\"},\"radialaxis\":{\"gridcolor\":\"white\",\"linecolor\":\"white\",\"ticks\":\"\"}},\"ternary\":{\"bgcolor\":\"#E5ECF6\",\"aaxis\":{\"gridcolor\":\"white\",\"linecolor\":\"white\",\"ticks\":\"\"},\"baxis\":{\"gridcolor\":\"white\",\"linecolor\":\"white\",\"ticks\":\"\"},\"caxis\":{\"gridcolor\":\"white\",\"linecolor\":\"white\",\"ticks\":\"\"}},\"coloraxis\":{\"colorbar\":{\"outlinewidth\":0,\"ticks\":\"\"}},\"colorscale\":{\"sequential\":[[0.0,\"#0d0887\"],[0.1111111111111111,\"#46039f\"],[0.2222222222222222,\"#7201a8\"],[0.3333333333333333,\"#9c179e\"],[0.4444444444444444,\"#bd3786\"],[0.5555555555555556,\"#d8576b\"],[0.6666666666666666,\"#ed7953\"],[0.7777777777777778,\"#fb9f3a\"],[0.8888888888888888,\"#fdca26\"],[1.0,\"#f0f921\"]],\"sequentialminus\":[[0.0,\"#0d0887\"],[0.1111111111111111,\"#46039f\"],[0.2222222222222222,\"#7201a8\"],[0.3333333333333333,\"#9c179e\"],[0.4444444444444444,\"#bd3786\"],[0.5555555555555556,\"#d8576b\"],[0.6666666666666666,\"#ed7953\"],[0.7777777777777778,\"#fb9f3a\"],[0.8888888888888888,\"#fdca26\"],[1.0,\"#f0f921\"]],\"diverging\":[[0,\"#8e0152\"],[0.1,\"#c51b7d\"],[0.2,\"#de77ae\"],[0.3,\"#f1b6da\"],[0.4,\"#fde0ef\"],[0.5,\"#f7f7f7\"],[0.6,\"#e6f5d0\"],[0.7,\"#b8e186\"],[0.8,\"#7fbc41\"],[0.9,\"#4d9221\"],[1,\"#276419\"]]},\"xaxis\":{\"gridcolor\":\"white\",\"linecolor\":\"white\",\"ticks\":\"\",\"title\":{\"standoff\":15},\"zerolinecolor\":\"white\",\"automargin\":true,\"zerolinewidth\":2},\"yaxis\":{\"gridcolor\":\"white\",\"linecolor\":\"white\",\"ticks\":\"\",\"title\":{\"standoff\":15},\"zerolinecolor\":\"white\",\"automargin\":true,\"zerolinewidth\":2},\"scene\":{\"xaxis\":{\"backgroundcolor\":\"#E5ECF6\",\"gridcolor\":\"white\",\"linecolor\":\"white\",\"showbackground\":true,\"ticks\":\"\",\"zerolinecolor\":\"white\",\"gridwidth\":2},\"yaxis\":{\"backgroundcolor\":\"#E5ECF6\",\"gridcolor\":\"white\",\"linecolor\":\"white\",\"showbackground\":true,\"ticks\":\"\",\"zerolinecolor\":\"white\",\"gridwidth\":2},\"zaxis\":{\"backgroundcolor\":\"#E5ECF6\",\"gridcolor\":\"white\",\"linecolor\":\"white\",\"showbackground\":true,\"ticks\":\"\",\"zerolinecolor\":\"white\",\"gridwidth\":2}},\"shapedefaults\":{\"line\":{\"color\":\"#2a3f5f\"}},\"annotationdefaults\":{\"arrowcolor\":\"#2a3f5f\",\"arrowhead\":0,\"arrowwidth\":1},\"geo\":{\"bgcolor\":\"white\",\"landcolor\":\"#E5ECF6\",\"subunitcolor\":\"white\",\"showland\":true,\"showlakes\":true,\"lakecolor\":\"white\"},\"title\":{\"x\":0.05},\"mapbox\":{\"style\":\"light\"}}},\"plot_bgcolor\":\"rgba(0, 0, 0, 0)\",\"paper_bgcolor\":\"rgba(0, 0, 0, 0)\",\"yaxis\":{\"automargin\":true},\"xaxis\":{\"automargin\":true}},                        {\"responsive\": true}                    ).then(function(){\n",
       "                            \n",
       "var gd = document.getElementById('d2a42d83-a395-4d0f-81cb-3887c5ce5a45');\n",
       "var x = new MutationObserver(function (mutations, observer) {{\n",
       "        var display = window.getComputedStyle(gd).display;\n",
       "        if (!display || display === 'none') {{\n",
       "            console.log([gd, 'removed!']);\n",
       "            Plotly.purge(gd);\n",
       "            observer.disconnect();\n",
       "        }}\n",
       "}});\n",
       "\n",
       "// Listen for the removal of the full notebook cells\n",
       "var notebookContainer = gd.closest('#notebook-container');\n",
       "if (notebookContainer) {{\n",
       "    x.observe(notebookContainer, {childList: true});\n",
       "}}\n",
       "\n",
       "// Listen for the clearing of the current output cell\n",
       "var outputEl = gd.closest('.output');\n",
       "if (outputEl) {{\n",
       "    x.observe(outputEl, {childList: true});\n",
       "}}\n",
       "\n",
       "                        })                };                });            </script>        </div>"
      ]
     },
     "metadata": {},
     "output_type": "display_data"
    }
   ],
   "source": [
    "fig = go.Figure()\n",
    "fig.add_trace(go.Scatter(x = predictions.index, y = predictions['Actual Values'], name = 'Actual Values', line=dict(width=5)))\n",
    "for column in [\n",
    "    #'ElasticNet','RandomForest','XGBoost','SVR',\n",
    "    'HWES','VAR (1st difference)','VECM (1st difference)','ARIMA', 'SARIMA', 'SARIMAX (with exog)']:\n",
    "    fig.add_trace(\n",
    "        go.Scatter(\n",
    "            x = predictions.index,\n",
    "            y = predictions[column],\n",
    "            name = column,line=dict(width=3,  dash='dash')\n",
    "        )\n",
    "    )\n",
    "fig.update_layout({\n",
    "'plot_bgcolor': 'rgba(0, 0, 0, 0)',\n",
    "'paper_bgcolor': 'rgba(0, 0, 0, 0)',\n",
    "})\n",
    "fig.update_yaxes(automargin=True)\n",
    "fig.update_xaxes(automargin=True)\n",
    "fig.show()"
   ]
  },
  {
   "cell_type": "code",
   "execution_count": null,
   "id": "7794705b",
   "metadata": {},
   "outputs": [],
   "source": [
    "fig = go.Figure()\n",
    "fig.add_trace(go.Scatter(x = predictions.index, y = predictions['Actual Values'], name = 'Actual Values', line=dict(width=5)))\n",
    "for column in [\n",
    "    'LSTM','XGBoost','HWES', 'SARIMAX (with exog)'\n",
    "]:\n",
    "    fig.add_trace(\n",
    "        go.Scatter(\n",
    "            x = predictions.index,\n",
    "            y = predictions[column],\n",
    "            name = column,line=dict(width=3,  dash='dash')\n",
    "        )\n",
    "    )\n",
    "fig.update_layout({\n",
    "'plot_bgcolor': 'rgba(0, 0, 0, 0)',\n",
    "'paper_bgcolor': 'rgba(0, 0, 0, 0)',\n",
    "})\n",
    "fig.update_yaxes(automargin=True)\n",
    "fig.update_xaxes(automargin=True)\n",
    "fig.show()"
   ]
  },
  {
   "cell_type": "code",
   "execution_count": 77,
   "id": "92e67d1e",
   "metadata": {},
   "outputs": [
    {
     "data": {
      "text/plain": [
       "{'MODELS': ['ElasticNet',\n",
       "  'RandomForest',\n",
       "  'XGBoost',\n",
       "  'HWES',\n",
       "  'SVR',\n",
       "  'VAR (1st difference)',\n",
       "  'VECM (1st difference)',\n",
       "  'ARIMA',\n",
       "  'SARIMA',\n",
       "  'SARIMAX (with exog)'],\n",
       " 'RMSE': [70.03907075093473,\n",
       "  51.38759569812878,\n",
       "  47.66909007188188,\n",
       "  28.147386761849045,\n",
       "  56.415458256742625,\n",
       "  122.1858848834096,\n",
       "  122.1858848834096,\n",
       "  139.05630098179813,\n",
       "  44.26765676185896,\n",
       "  43.11882402667035]}"
      ]
     },
     "execution_count": 77,
     "metadata": {},
     "output_type": "execute_result"
    }
   ],
   "source": [
    "RMSE"
   ]
  }
 ],
 "metadata": {
  "colab": {
   "provenance": []
  },
  "kernelspec": {
   "display_name": "Python 3",
   "language": "python",
   "name": "python3"
  },
  "language_info": {
   "codemirror_mode": {
    "name": "ipython",
    "version": 3
   },
   "file_extension": ".py",
   "mimetype": "text/x-python",
   "name": "python",
   "nbconvert_exporter": "python",
   "pygments_lexer": "ipython3",
   "version": "3.8.8"
  }
 },
 "nbformat": 4,
 "nbformat_minor": 5
}
